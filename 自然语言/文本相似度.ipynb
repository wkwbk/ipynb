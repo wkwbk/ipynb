{
  "nbformat": 4,
  "nbformat_minor": 0,
  "metadata": {
    "colab": {
      "provenance": [],
      "authorship_tag": "ABX9TyOO8u6ljNob1EplhXJQjSvb"
    },
    "kernelspec": {
      "name": "python3",
      "display_name": "Python 3"
    },
    "language_info": {
      "name": "python"
    }
  },
  "cells": [
    {
      "cell_type": "markdown",
      "source": [
        "# 文本相似度"
      ],
      "metadata": {
        "id": "H8QWagbVk0de"
      }
    },
    {
      "cell_type": "code",
      "source": [
        "!pip install fuzzywuzzy\n",
        "!pip install python-Levenshtein"
      ],
      "metadata": {
        "id": "DICkXbWrPQjO",
        "outputId": "fb9b7349-4f9f-4974-9870-3dca8cb80961",
        "colab": {
          "base_uri": "https://localhost:8080/"
        }
      },
      "execution_count": 3,
      "outputs": [
        {
          "output_type": "stream",
          "name": "stdout",
          "text": [
            "Requirement already satisfied: fuzzywuzzy in /usr/local/lib/python3.11/dist-packages (0.18.0)\n",
            "Collecting python-Levenshtein\n",
            "  Downloading python_levenshtein-0.27.1-py3-none-any.whl.metadata (3.7 kB)\n",
            "Collecting Levenshtein==0.27.1 (from python-Levenshtein)\n",
            "  Downloading levenshtein-0.27.1-cp311-cp311-manylinux_2_17_x86_64.manylinux2014_x86_64.whl.metadata (3.6 kB)\n",
            "Collecting rapidfuzz<4.0.0,>=3.9.0 (from Levenshtein==0.27.1->python-Levenshtein)\n",
            "  Downloading rapidfuzz-3.13.0-cp311-cp311-manylinux_2_17_x86_64.manylinux2014_x86_64.whl.metadata (12 kB)\n",
            "Downloading python_levenshtein-0.27.1-py3-none-any.whl (9.4 kB)\n",
            "Downloading levenshtein-0.27.1-cp311-cp311-manylinux_2_17_x86_64.manylinux2014_x86_64.whl (161 kB)\n",
            "\u001b[2K   \u001b[90m━━━━━━━━━━━━━━━━━━━━━━━━━━━━━━━━━━━━━━━━\u001b[0m \u001b[32m161.7/161.7 kB\u001b[0m \u001b[31m5.7 MB/s\u001b[0m eta \u001b[36m0:00:00\u001b[0m\n",
            "\u001b[?25hDownloading rapidfuzz-3.13.0-cp311-cp311-manylinux_2_17_x86_64.manylinux2014_x86_64.whl (3.1 MB)\n",
            "\u001b[2K   \u001b[90m━━━━━━━━━━━━━━━━━━━━━━━━━━━━━━━━━━━━━━━━\u001b[0m \u001b[32m3.1/3.1 MB\u001b[0m \u001b[31m46.5 MB/s\u001b[0m eta \u001b[36m0:00:00\u001b[0m\n",
            "\u001b[?25hInstalling collected packages: rapidfuzz, Levenshtein, python-Levenshtein\n",
            "Successfully installed Levenshtein-0.27.1 python-Levenshtein-0.27.1 rapidfuzz-3.13.0\n"
          ]
        }
      ]
    },
    {
      "cell_type": "code",
      "execution_count": 4,
      "metadata": {
        "id": "NUEV4wtzkzjP",
        "outputId": "11f2c5d5-e970-4086-87c3-990fe050b01d",
        "colab": {
          "base_uri": "https://localhost:8080/"
        }
      },
      "outputs": [
        {
          "output_type": "stream",
          "name": "stdout",
          "text": [
            "余弦相似度: 0.73\n",
            "difflib相似度: 0.42\n",
            "FuzzyWuzzy相似度: 42%\n"
          ]
        }
      ],
      "source": [
        "import jieba\n",
        "from sklearn.feature_extraction.text import CountVectorizer\n",
        "from sklearn.metrics.pairwise import cosine_similarity\n",
        "import difflib\n",
        "from fuzzywuzzy import fuzz\n",
        "\n",
        "# 实验文本\n",
        "text1 = \"机器学习是人工智能的核心，是通过计算机模拟人类学习行为，通过经验改进系统性能的方法。主要方法包括监督学习、无监督学习和强化学习。\"\n",
        "text2 = \"机器学习属于人工智能领域，它使计算机能够从历史数据中学习规律，监督学习、无监督学习是其典型方法。系统通过不断优化算法提升预测准确率。\"\n",
        "\n",
        "# 预处理函数\n",
        "def chinese_process(text):\n",
        "    return ' '.join(jieba.cut(text))\n",
        "\n",
        "# 计算余弦相似度\n",
        "corpus = [chinese_process(text1), chinese_process(text2)]\n",
        "vectorizer = CountVectorizer()\n",
        "vectors = vectorizer.fit_transform(corpus)\n",
        "cos_sim = cosine_similarity(vectors[0], vectors[1])[0][0]\n",
        "\n",
        "# 计算difflib相似度\n",
        "seq = difflib.SequenceMatcher(None, text1, text2)\n",
        "diff_ratio = seq.ratio()\n",
        "\n",
        "# 计算fuzz相似度\n",
        "fuzz_ratio = fuzz.ratio(text1, text2)\n",
        "\n",
        "print(f\"余弦相似度: {cos_sim:.2f}\")\n",
        "print(f\"difflib相似度: {diff_ratio:.2f}\")\n",
        "print(f\"FuzzyWuzzy相似度: {fuzz_ratio}%\")\n"
      ]
    }
  ]
}