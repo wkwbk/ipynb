{
  "cells": [
    {
      "cell_type": "markdown",
      "metadata": {
        "id": "0O2SXDEnDUG_"
      },
      "source": [
        "# 实验二 分类算法"
      ]
    },
    {
      "cell_type": "code",
      "source": [
        "# 下载字体\n",
        "!wget https://github.com/wkwbk/ipynb/raw/main/%E6%95%B0%E6%8D%AE%E9%87%87%E9%9B%86/SimHei.ttf"
      ],
      "metadata": {
        "id": "jG47_zzRHY-j",
        "outputId": "b9d4b913-c535-423e-aaba-a37a7d48ea2e",
        "colab": {
          "base_uri": "https://localhost:8080/"
        }
      },
      "execution_count": 1,
      "outputs": [
        {
          "output_type": "stream",
          "name": "stdout",
          "text": [
            "--2025-04-29 05:39:35--  https://github.com/wkwbk/ipynb/raw/main/%E6%95%B0%E6%8D%AE%E9%87%87%E9%9B%86/SimHei.ttf\n",
            "Resolving github.com (github.com)... 140.82.113.3\n",
            "Connecting to github.com (github.com)|140.82.113.3|:443... connected.\n",
            "HTTP request sent, awaiting response... 302 Found\n",
            "Location: https://raw.githubusercontent.com/wkwbk/ipynb/main/%E6%95%B0%E6%8D%AE%E9%87%87%E9%9B%86/SimHei.ttf [following]\n",
            "--2025-04-29 05:39:36--  https://raw.githubusercontent.com/wkwbk/ipynb/main/%E6%95%B0%E6%8D%AE%E9%87%87%E9%9B%86/SimHei.ttf\n",
            "Resolving raw.githubusercontent.com (raw.githubusercontent.com)... 185.199.108.133, 185.199.109.133, 185.199.110.133, ...\n",
            "Connecting to raw.githubusercontent.com (raw.githubusercontent.com)|185.199.108.133|:443... connected.\n",
            "HTTP request sent, awaiting response... 200 OK\n",
            "Length: 9751960 (9.3M) [application/octet-stream]\n",
            "Saving to: ‘SimHei.ttf’\n",
            "\n",
            "SimHei.ttf          100%[===================>]   9.30M  --.-KB/s    in 0.1s    \n",
            "\n",
            "2025-04-29 05:39:36 (87.0 MB/s) - ‘SimHei.ttf’ saved [9751960/9751960]\n",
            "\n"
          ]
        }
      ]
    },
    {
      "cell_type": "code",
      "source": [
        "# 添加字体文件\n",
        "import matplotlib.font_manager as fm\n",
        "\n",
        "fm.fontManager.addfont('./SimHei.ttf')"
      ],
      "metadata": {
        "id": "PaSO1d_MHaNX"
      },
      "execution_count": 2,
      "outputs": []
    },
    {
      "cell_type": "markdown",
      "source": [
        "# 1. 加载数据集并探索数据"
      ],
      "metadata": {
        "id": "JcbEkkrDClqP"
      }
    },
    {
      "cell_type": "code",
      "source": [
        "from sklearn.datasets import load_iris\n",
        "import pandas as pd\n",
        "\n",
        "iris = load_iris()\n",
        "X = iris.data\n",
        "y = iris.target\n",
        "feature_names = iris.feature_names\n",
        "target_names = iris.target_names\n",
        "\n",
        "# 将数据转换为 DataFrame 以便查看\n",
        "df = pd.DataFrame(X, columns=feature_names)\n",
        "df['target'] = y\n",
        "df['species'] = df['target'].map({i: target_names[i] for i in range(3)})\n",
        "print(df.head())\n"
      ],
      "metadata": {
        "id": "hQCpP6l5CpHL",
        "outputId": "d85af0ab-f0eb-490d-d1c0-737c610e2ab6",
        "colab": {
          "base_uri": "https://localhost:8080/"
        }
      },
      "execution_count": 3,
      "outputs": [
        {
          "output_type": "stream",
          "name": "stdout",
          "text": [
            "   sepal length (cm)  sepal width (cm)  petal length (cm)  petal width (cm)  \\\n",
            "0                5.1               3.5                1.4               0.2   \n",
            "1                4.9               3.0                1.4               0.2   \n",
            "2                4.7               3.2                1.3               0.2   \n",
            "3                4.6               3.1                1.5               0.2   \n",
            "4                5.0               3.6                1.4               0.2   \n",
            "\n",
            "   target species  \n",
            "0       0  setosa  \n",
            "1       0  setosa  \n",
            "2       0  setosa  \n",
            "3       0  setosa  \n",
            "4       0  setosa  \n"
          ]
        }
      ]
    },
    {
      "cell_type": "markdown",
      "source": [
        "# 2. 数据预处理（分割训练集和测试集）"
      ],
      "metadata": {
        "id": "63dj_OitCql4"
      }
    },
    {
      "cell_type": "code",
      "source": [
        "from sklearn.model_selection import train_test_split\n",
        "\n",
        "X_train, X_test, y_train, y_test = train_test_split(X, y, test_size=0.2, random_state=42)\n",
        "print(\"训练集大小:\", X_train.shape)\n",
        "print(\"测试集大小:\", X_test.shape)\n"
      ],
      "metadata": {
        "id": "RedU70mfCsuC",
        "outputId": "e9f2dc53-6edd-40aa-aa49-f1b1b274ff1f",
        "colab": {
          "base_uri": "https://localhost:8080/"
        }
      },
      "execution_count": 4,
      "outputs": [
        {
          "output_type": "stream",
          "name": "stdout",
          "text": [
            "训练集大小: (120, 4)\n",
            "测试集大小: (30, 4)\n"
          ]
        }
      ]
    },
    {
      "cell_type": "markdown",
      "source": [
        "# 3. 使用K近邻算法分类"
      ],
      "metadata": {
        "id": "OwzQMG8rC2JH"
      }
    },
    {
      "cell_type": "code",
      "source": [
        "from sklearn.neighbors import KNeighborsClassifier\n",
        "from sklearn.metrics import accuracy_score, confusion_matrix, classification_report\n",
        "\n",
        "# 创建模型并训练\n",
        "knn = KNeighborsClassifier(n_neighbors=3)\n",
        "knn.fit(X_train, y_train)\n",
        "\n",
        "# 预测并评估\n",
        "y_pred = knn.predict(X_test)\n",
        "print(\"准确率:\", accuracy_score(y_test, y_pred))\n",
        "print(\"混淆矩阵:\\n\", confusion_matrix(y_test, y_pred))\n",
        "print(\"分类报告:\\n\", classification_report(y_test, y_pred, target_names=target_names))\n"
      ],
      "metadata": {
        "id": "LZmLr8vJC3lp",
        "outputId": "46e6a708-3fbb-4178-95b0-08c4d909b6b0",
        "colab": {
          "base_uri": "https://localhost:8080/"
        }
      },
      "execution_count": 5,
      "outputs": [
        {
          "output_type": "stream",
          "name": "stdout",
          "text": [
            "准确率: 1.0\n",
            "混淆矩阵:\n",
            " [[10  0  0]\n",
            " [ 0  9  0]\n",
            " [ 0  0 11]]\n",
            "分类报告:\n",
            "               precision    recall  f1-score   support\n",
            "\n",
            "      setosa       1.00      1.00      1.00        10\n",
            "  versicolor       1.00      1.00      1.00         9\n",
            "   virginica       1.00      1.00      1.00        11\n",
            "\n",
            "    accuracy                           1.00        30\n",
            "   macro avg       1.00      1.00      1.00        30\n",
            "weighted avg       1.00      1.00      1.00        30\n",
            "\n"
          ]
        }
      ]
    },
    {
      "cell_type": "markdown",
      "source": [
        "# 4. 使用支持向量机(SVM)分类"
      ],
      "metadata": {
        "id": "yVs_BuC1C5ss"
      }
    },
    {
      "cell_type": "code",
      "source": [
        "from sklearn.svm import SVC\n",
        "\n",
        "svm = SVC(kernel='linear')\n",
        "svm.fit(X_train, y_train)\n",
        "y_pred = svm.predict(X_test)\n",
        "print(\"准确率:\", accuracy_score(y_test, y_pred))\n"
      ],
      "metadata": {
        "id": "Sm0SVzzYC5at",
        "outputId": "47e57caa-c5e9-4039-8f61-207b4556474d",
        "colab": {
          "base_uri": "https://localhost:8080/"
        }
      },
      "execution_count": 6,
      "outputs": [
        {
          "output_type": "stream",
          "name": "stdout",
          "text": [
            "准确率: 1.0\n"
          ]
        }
      ]
    },
    {
      "cell_type": "markdown",
      "source": [
        "# 5. 使用逻辑回归分类"
      ],
      "metadata": {
        "id": "AkhruMn8C9bt"
      }
    },
    {
      "cell_type": "code",
      "source": [
        "from sklearn.linear_model import LogisticRegression\n",
        "\n",
        "# multi_class 参数在 LogisticRegression 中已经不推荐使用了，并且将在未来的版本（1.7）中移除。\n",
        "# 建议您不再显式设置此参数，而是让它使用默认值，这样可以避免此警告。\n",
        "# lr = LogisticRegression(multi_class='multinomial', solver='lbfgs', max_iter=200)\n",
        "lr = LogisticRegression(solver='lbfgs', max_iter=200)\n",
        "lr.fit(X_train, y_train)\n",
        "y_pred = lr.predict(X_test)\n",
        "print(\"准确率:\", accuracy_score(y_test, y_pred))\n",
        "print(\"分类报告:\\n\", classification_report(y_test, y_pred,\n",
        "                                           target_names=target_names))\n"
      ],
      "metadata": {
        "id": "vXtmt3iMC_HS",
        "outputId": "91c1d455-4354-4847-87f0-4b77a7455c5d",
        "colab": {
          "base_uri": "https://localhost:8080/"
        }
      },
      "execution_count": 7,
      "outputs": [
        {
          "output_type": "stream",
          "name": "stdout",
          "text": [
            "准确率: 1.0\n",
            "分类报告:\n",
            "               precision    recall  f1-score   support\n",
            "\n",
            "      setosa       1.00      1.00      1.00        10\n",
            "  versicolor       1.00      1.00      1.00         9\n",
            "   virginica       1.00      1.00      1.00        11\n",
            "\n",
            "    accuracy                           1.00        30\n",
            "   macro avg       1.00      1.00      1.00        30\n",
            "weighted avg       1.00      1.00      1.00        30\n",
            "\n"
          ]
        }
      ]
    },
    {
      "cell_type": "markdown",
      "source": [
        "# 6. 进阶内容"
      ],
      "metadata": {
        "id": "A32HUfLVDIGB"
      }
    },
    {
      "cell_type": "markdown",
      "source": [
        "## 结果可视化(可选)"
      ],
      "metadata": {
        "id": "RNYzcbLtDQKP"
      }
    },
    {
      "cell_type": "code",
      "source": [
        "import matplotlib.pyplot as plt\n",
        "from sklearn.decomposition import PCA\n",
        "\n",
        "plt.rcParams['font.sans-serif'] = ['SimHei'] # 用来正常显示中文标签\n",
        "plt.rcParams['axes.unicode_minus'] = False\n",
        "\n",
        "# 降维可视化\n",
        "pca = PCA(n_components=2)\n",
        "X_pca = pca.fit_transform(X)\n",
        "\n",
        "plt.scatter(X_pca[:, 0], X_pca[:, 1], c=y, cmap='viridis')\n",
        "plt.xlabel('PCA1')\n",
        "plt.ylabel('PCA2')\n",
        "plt.title('鸢尾花数据集 PCA 降维可视化')\n",
        "plt.show()\n"
      ],
      "metadata": {
        "id": "yui-NFu9DTGz",
        "outputId": "3d4f36ba-f059-46ac-a8f3-c164637dece5",
        "colab": {
          "base_uri": "https://localhost:8080/",
          "height": 468
        }
      },
      "execution_count": 8,
      "outputs": [
        {
          "output_type": "display_data",
          "data": {
            "text/plain": [
              "<Figure size 640x480 with 1 Axes>"
            ],
            "image/png": "[encoded data removed]"
          },
          "metadata": {}
        }
      ]
    },
    {
      "cell_type": "markdown",
      "source": [
        "## 手动实现逻辑回归(多分类)"
      ],
      "metadata": {
        "id": "gUt2iRCKDVvG"
      }
    },
    {
      "cell_type": "code",
      "source": [
        "import numpy as np\n",
        "\n",
        "\n",
        "class ManualLogisticRegression:\n",
        "    def __init__(self, learning_rate=0.01, epochs=1000):\n",
        "        self.lr = learning_rate\n",
        "        self.epochs = epochs\n",
        "        self.weights = None\n",
        "        self.bias = None\n",
        "\n",
        "    def softmax(self, z):\n",
        "        exp_z = np.exp(z - np.max(z, axis=1, keepdims=True))\n",
        "        return exp_z / np.sum(exp_z, axis=1, keepdims=True)\n",
        "\n",
        "    def fit(self, X, y):\n",
        "        n_samples, n_features = X.shape\n",
        "        n_classes = len(np.unique(y))\n",
        "        y_onehot = np.eye(n_classes)[y]\n",
        "\n",
        "        # 初始化参数\n",
        "        self.weights = np.zeros((n_features, n_classes))\n",
        "        self.bias = np.zeros(n_classes)\n",
        "\n",
        "        # 梯度下降\n",
        "        for _ in range(self.epochs):\n",
        "            z = np.dot(X, self.weights) + self.bias\n",
        "            probs = self.softmax(z)\n",
        "            error = probs - y_onehot\n",
        "\n",
        "            # 计算梯度\n",
        "            dw = (1 / n_samples) * np.dot(X.T, error)\n",
        "            db = (1 / n_samples) * np.sum(error, axis=0)\n",
        "\n",
        "            # 更新参数\n",
        "            self.weights -= self.lr * dw\n",
        "            self.bias -= self.lr * db\n",
        "\n",
        "    def predict(self, X):\n",
        "        z = np.dot(X, self.weights) + self.bias\n",
        "        probs = self.softmax(z)\n",
        "        return np.argmax(probs, axis=1)\n",
        "\n",
        "# 测试手动实现\n",
        "manual_lr = ManualLogisticRegression(learning_rate=0.1, epochs=1000)\n",
        "manual_lr.fit(X_train, y_train)\n",
        "y_pred_manual = manual_lr.predict(X_test)\n",
        "print(\"手动逻辑回归准确率:\", accuracy_score(y_test, y_pred_manual))\n"
      ],
      "metadata": {
        "id": "vmrq9AN-DXYH",
        "outputId": "96b5cd8c-87ac-4193-86f4-1aa02fbc6c8b",
        "colab": {
          "base_uri": "https://localhost:8080/"
        }
      },
      "execution_count": 9,
      "outputs": [
        {
          "output_type": "stream",
          "name": "stdout",
          "text": [
            "手动逻辑回归准确率: 1.0\n"
          ]
        }
      ]
    },
    {
      "cell_type": "markdown",
      "source": [
        "## 手动实现 K 近邻（KNN）"
      ],
      "metadata": {
        "id": "nQwku-qEDeJ7"
      }
    },
    {
      "cell_type": "code",
      "source": [
        "from collections import Counter\n",
        "\n",
        "\n",
        "class ManualKNN:\n",
        "    def __init__(self, k=3):\n",
        "        self.k = k\n",
        "        self.X_train = None\n",
        "        self.y_train = None\n",
        "\n",
        "    def fit(self, X, y):\n",
        "        self.X_train = X\n",
        "        self.y_train = y\n",
        "\n",
        "    def predict(self, X):\n",
        "        y_pred = []\n",
        "        for x in X:\n",
        "            # 计算欧氏距离\n",
        "            distances = np.sqrt(np.sum((self.X_train - x) ** 2, axis=1))\n",
        "            # 取最近的k个样本的标签\n",
        "            k_indices = np.argsort(distances)[:self.k]\n",
        "            k_labels = self.y_train[k_indices]\n",
        "            # 多数投票\n",
        "            most_common = Counter(k_labels).most_common(1)\n",
        "            y_pred.append(most_common[0][0])\n",
        "        return np.array(y_pred)\n",
        "\n",
        "\n",
        "# 测试手动实现\n",
        "manual_knn = ManualKNN(k=3)\n",
        "manual_knn.fit(X_train, y_train)\n",
        "y_pred_manual = manual_knn.predict(X_test)\n",
        "print(\"手动 KNN 准确率:\", accuracy_score(y_test, y_pred_manual))\n"
      ],
      "metadata": {
        "id": "bDzDlWKhDerq",
        "outputId": "0c820358-5c81-4057-95a3-9855c914c12d",
        "colab": {
          "base_uri": "https://localhost:8080/"
        }
      },
      "execution_count": 10,
      "outputs": [
        {
          "output_type": "stream",
          "name": "stdout",
          "text": [
            "手动 KNN 准确率: 1.0\n"
          ]
        }
      ]
    }
  ],
  "metadata": {
    "language_info": {
      "name": "python"
    },
    "colab": {
      "provenance": []
    },
    "kernelspec": {
      "name": "python3",
      "display_name": "Python 3"
    }
  },
  "nbformat": 4,
  "nbformat_minor": 0
}