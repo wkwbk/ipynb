{
  "nbformat": 4,
  "nbformat_minor": 0,
  "metadata": {
    "colab": {
      "provenance": []
    },
    "kernelspec": {
      "name": "python3",
      "display_name": "Python 3"
    },
    "language_info": {
      "name": "python"
    }
  },
  "cells": [
    {
      "cell_type": "markdown",
      "source": [
        "# 比较 Python 列表和 NumPy 数组的性能"
      ],
      "metadata": {
        "id": "qDkVOapKzs4_"
      }
    },
    {
      "cell_type": "code",
      "execution_count": null,
      "metadata": {
        "colab": {
          "base_uri": "https://localhost:8080/"
        },
        "id": "ocmhEUsTzl2D",
        "outputId": "b70885a9-e700-458f-98d8-fefb446e8fb2"
      },
      "outputs": [
        {
          "output_type": "stream",
          "name": "stdout",
          "text": [
            "python列表用时52.83毫秒。\n",
            "numpy数组用时3.57毫秒。\n"
          ]
        }
      ],
      "source": [
        "import numpy as np\n",
        "import time\n",
        "\n",
        "list_array=list(range(int(1e6)))\n",
        "start_time=time.time()\n",
        "python_array=[val*5 for val in list_array]\n",
        "end_time=time.time()\n",
        "total_time=round((end_time-start_time)*1000,2)\n",
        "print(f\"python列表用时{total_time}毫秒。\")\n",
        "\n",
        "np_array=np.arange(1e6)\n",
        "start_time=time.time()\n",
        "np_array=np_array*5\n",
        "end_time=time.time()\n",
        "total_time=round((end_time-start_time)*1000,2)\n",
        "print(f\"numpy数组用时{total_time}毫秒。\")"
      ]
    },
    {
      "cell_type": "markdown",
      "source": [
        "# Pandas 词频统计"
      ],
      "metadata": {
        "id": "AYxA0k6ZztLW"
      }
    },
    {
      "cell_type": "code",
      "source": [
        "import pandas as pd\n",
        "\n",
        "p='life can be good, life can be sad, life is mostly cheerful, but sometimes sad.'\n",
        "pList=p.split()\n",
        "pList1=[]\n",
        "for item in pList:\n",
        "    if item[-1] in ',. ':\n",
        "        item=item[:-1]\n",
        "    pList1.append(item)\n",
        "s=pd.Series(pList1)\n",
        "print(s.value_counts())"
      ],
      "metadata": {
        "colab": {
          "base_uri": "https://localhost:8080/"
        },
        "id": "ien99OixzsKP",
        "outputId": "b9584a4a-d040-4224-a709-f71f32ea7cfe"
      },
      "execution_count": null,
      "outputs": [
        {
          "output_type": "stream",
          "name": "stdout",
          "text": [
            "life         3\n",
            "can          2\n",
            "be           2\n",
            "sad          2\n",
            "good         1\n",
            "is           1\n",
            "mostly       1\n",
            "cheerful     1\n",
            "but          1\n",
            "sometimes    1\n",
            "Name: count, dtype: int64\n"
          ]
        }
      ]
    },
    {
      "cell_type": "markdown",
      "source": [
        "# 实验一 机器学习基础"
      ],
      "metadata": {
        "id": "mlcrZws6Zo6A"
      }
    },
    {
      "cell_type": "markdown",
      "source": [
        "## 变量和数据类型"
      ],
      "metadata": {
        "id": "082uYaiqaAo4"
      }
    },
    {
      "cell_type": "code",
      "source": [
        "# 变量和数据类型\n",
        "a = 10 # 整数\n",
        "b = 3.14 # 浮点数\n",
        "c = \"Hello, World!\" # 字符串\n",
        "d = True # 布尔值\n",
        "print(type(a)) # <class 'int'>\n",
        "print(type(b)) # <class 'float'>\n",
        "print(type(c)) # <class 'str'>\n",
        "print(type(d)) # <class 'bool'>"
      ],
      "metadata": {
        "id": "5UFJ84D9ZvYI"
      },
      "execution_count": null,
      "outputs": []
    },
    {
      "cell_type": "markdown",
      "source": [
        "## 控制结构"
      ],
      "metadata": {
        "id": "Rrmmv0qQaCcg"
      }
    },
    {
      "cell_type": "code",
      "source": [
        "# 控制结构\n",
        "if a > 5:\n",
        "    print(\"a is greater than 5\")\n",
        "else:\n",
        "    print(\"a is less than or equal to 5\")\n",
        "# 循环\n",
        "for i in range(5):\n",
        "    print(i)"
      ],
      "metadata": {
        "id": "Y4Bk7rmYaFhg"
      },
      "execution_count": null,
      "outputs": []
    },
    {
      "cell_type": "markdown",
      "source": [
        "## NumPy"
      ],
      "metadata": {
        "id": "GwgYJcZ-aHkn"
      }
    },
    {
      "cell_type": "code",
      "source": [
        "import numpy as np\n",
        "# 创建数组\n",
        "arr = np.array([1, 2, 3, 4, 5])\n",
        "print(arr) # [1 2 3 4 5]\n",
        "# 基本运算\n",
        "print(arr + 10) # [11 12 13 14 15]\n",
        "print(arr * 2) # [ 2 4 6 8 10]\n",
        "# 索引和切片\n",
        "print(arr[0]) # 1\n",
        "print(arr[1:4]) # [2 3 4]"
      ],
      "metadata": {
        "id": "ElqH9TiPaJ84"
      },
      "execution_count": null,
      "outputs": []
    },
    {
      "cell_type": "markdown",
      "source": [
        "## Pandas"
      ],
      "metadata": {
        "id": "q_gm6sLoaOiY"
      }
    },
    {
      "cell_type": "code",
      "source": [
        "import pandas as pd\n",
        "# 创建 Series\n",
        "s = pd.Series([1, 2, 3, 4, 5])\n",
        "print(s)\n",
        "# 创建 DataFrame\n",
        "df = pd.DataFrame({\n",
        " 'A': [1, 2, 3, 4, 5],\n",
        " 'B': [5, 4, 3, 2, 1]\n",
        "})\n",
        "print(df)\n",
        "# 数据读取与存储\n",
        "df.to_csv('data.csv') # 保存到 CSV 文件\n",
        "df = pd.read_csv('data.csv') # 从 CSV 文件读取\n",
        "print(df)"
      ],
      "metadata": {
        "id": "JLoyZ7W2aSDo"
      },
      "execution_count": null,
      "outputs": []
    },
    {
      "cell_type": "code",
      "source": [
        "# 数据清洗与处理\n",
        "df.dropna(inplace=True)\n",
        "df.fillna(0, inplace=True)"
      ],
      "metadata": {
        "id": "5_gqt0JcaaOI"
      },
      "execution_count": null,
      "outputs": []
    },
    {
      "cell_type": "markdown",
      "source": [
        "## Matplotlib"
      ],
      "metadata": {
        "id": "8o9G6AunaS3f"
      }
    },
    {
      "cell_type": "code",
      "source": [
        "import matplotlib.pyplot as plt\n",
        "# 基本绘图\n",
        "plt.plot([1, 2, 3, 4, 5], [5, 4, 3, 2, 1])\n",
        "plt.xlabel('X-axis')\n",
        "plt.ylabel('Y-axis')\n",
        "plt.title('Basic Plot')\n",
        "plt.show()\n",
        "# 图形定制\n",
        "plt.plot([1, 2, 3, 4, 5], [5, 4, 3, 2, 1], 'ro-')\n",
        "plt.xlabel('X-axis')\n",
        "plt.ylabel('Y-axis')\n",
        "plt.title('Customized Plot')\n",
        "plt.show()\n",
        "# 子图\n",
        "plt.subplot(1, 2, 1)\n",
        "plt.plot([1, 2, 3, 4, 5], [5, 4, 3, 2, 1])\n",
        "plt.subplot(1, 2, 2)\n",
        "plt.plot([1, 2, 3, 4, 5], [1, 2, 3, 4, 5])\n",
        "plt.show()"
      ],
      "metadata": {
        "id": "IpgcefGwaa8_"
      },
      "execution_count": null,
      "outputs": []
    },
    {
      "cell_type": "markdown",
      "source": [
        "## 进阶内容"
      ],
      "metadata": {
        "id": "bxV5HvSJaevI"
      }
    },
    {
      "cell_type": "code",
      "source": [
        "!pip install openai"
      ],
      "metadata": {
        "id": "EJnTdfi1ak-g"
      },
      "execution_count": null,
      "outputs": []
    },
    {
      "cell_type": "code",
      "source": [
        "from openai import OpenAI\n",
        "client = OpenAI(api_key=\"sk-****\", base_url=\"https://api.deepseek.com\")\n",
        "response = client.chat.completions.create(\n",
        " model=\"deepseek-chat\",\n",
        " messages=[\n",
        " {\"role\": \"system\", \"content\": \"You are a helpful assistant\"},\n",
        " {\"role\": \"user\", \"content\": \"请介绍一下你自己\"},\n",
        " ],\n",
        " stream=False\n",
        ")\n",
        "print(response.choices[0].message.content)"
      ],
      "metadata": {
        "id": "4Id4Eksiaf1_"
      },
      "execution_count": null,
      "outputs": []
    },
    {
      "cell_type": "markdown",
      "source": [
        "## NumPy 进阶"
      ],
      "metadata": {
        "id": "FMSBCHhFamG3"
      }
    },
    {
      "cell_type": "code",
      "source": [
        "import numpy as np\n",
        "import time\n",
        "# 创建一个包含一百万个元素的列表\n",
        "list_array = list(range(int(1e6)))\n",
        "start_time = time.time()\n",
        "# 将列表中的每个元素乘以 5\n",
        "python_array = [val * 5 for val in list_array]\n",
        "end_time = time.time()\n",
        "# 计算操作所用的时间并打印\n",
        "total_time = round((end_time - start_time) * 1000, 2)\n",
        "print(f\"python 列表用时{total_time}毫秒。\")\n",
        "# 创建一个包含一百万个元素的 numpy 数组\n",
        "np_array = np.arange(1e6)\n",
        "start_time = time.time()\n",
        "# 将 numpy 数组中的每个元素乘以 5\n",
        "np_array = np_array * 5\n",
        "end_time = time.time()\n",
        "# 计算操作所用的时间并打印\n",
        "total_time = round((end_time - start_time) * 1000, 2)\n",
        "print(f\"numpy 数组用时{total_time}毫秒。\")"
      ],
      "metadata": {
        "id": "gcDk6RUSauFw"
      },
      "execution_count": null,
      "outputs": []
    },
    {
      "cell_type": "markdown",
      "source": [
        "## Pandas 进阶"
      ],
      "metadata": {
        "id": "cfBCJJXKa9ND"
      }
    },
    {
      "cell_type": "code",
      "source": [
        "import pandas as pd\n",
        "# 读取 rating.txt 文件，不使用表头，并为列命名\n",
        "data = pd.read_csv('rating.txt', header=None, names=['读者 ID', '图书\n",
        "ID', '评分'])\n",
        "# 按照 '图书 ID' 分组，并计算每组的 '评分' 平均值\n",
        "result = data.groupby('图书 ID')['评分'].mean()\n",
        "# 输出结果\n",
        "Result"
      ],
      "metadata": {
        "id": "TF_rbX4EazXn"
      },
      "execution_count": null,
      "outputs": []
    },
    {
      "cell_type": "markdown",
      "source": [
        "### 折线图"
      ],
      "metadata": {
        "id": "3bLiM4_dbC5X"
      }
    },
    {
      "cell_type": "code",
      "source": [
        "import pandas as pd\n",
        "import matplotlib.pyplot as plt\n",
        "plt.rcParams['font.sans-serif'] = ['SimHei'] # 用来正常显示中文标签\n",
        "plt.rcParams['axes.unicode_minus'] = False # 用来正常显示负号\n",
        "data=pd.read_csv('rating.txt',header=None,names=['读者 ID','图书 ID','评分'])\n",
        "result[:10].plot()"
      ],
      "metadata": {
        "id": "s31FAE6La0jP"
      },
      "execution_count": null,
      "outputs": []
    },
    {
      "cell_type": "markdown",
      "source": [
        "### 直方图"
      ],
      "metadata": {
        "id": "H-LQzBQ_bB5Y"
      }
    },
    {
      "cell_type": "code",
      "source": [
        "import pandas as pd\n",
        "data=pd.read_csv('rating.txt',header=None,names=['读者 ID','图书 ID','评分'])\n",
        "result=data.groupby('图书 ID')['评分'].mean()\n",
        "result.plot(kind='hist')"
      ],
      "metadata": {
        "id": "3ddN3FoDbIZf"
      },
      "execution_count": null,
      "outputs": []
    },
    {
      "cell_type": "markdown",
      "source": [
        "### 柱状图"
      ],
      "metadata": {
        "id": "IH_lgCJvbReY"
      }
    },
    {
      "cell_type": "code",
      "source": [
        "import pandas as pd\n",
        "data=pd.read_csv('rating.txt',header=None,names=['读者 ID','图书 ID','评分'])\n",
        "data['图书 ID'].value_counts()[:10].plot(kind='bar')"
      ],
      "metadata": {
        "id": "Nuu4AKofbSNP"
      },
      "execution_count": null,
      "outputs": []
    },
    {
      "cell_type": "markdown",
      "source": [
        "### 饼图"
      ],
      "metadata": {
        "id": "EZMKzcOibXj4"
      }
    },
    {
      "cell_type": "code",
      "source": [
        "import pandas as pd\n",
        "data=pd.read_csv('rating.txt',header=None,names=['读者 ID','图书 ID','评分\n",
        "'])\n",
        "id=int(input('请输入你要查看评分信息的图书编号（1-10000）：'))\n",
        "s=data[data['图书 ID']==id]['评分'].value_counts()/data[data['图书ID']==id]['评分'].value_counts().sum()\n",
        "s.plot(kind='pie')"
      ],
      "metadata": {
        "id": "UX_UwaG8bXHI"
      },
      "execution_count": null,
      "outputs": []
    },
    {
      "cell_type": "markdown",
      "source": [
        "## Matplotlib 进阶"
      ],
      "metadata": {
        "id": "3BOhBYWcbhGY"
      }
    },
    {
      "cell_type": "code",
      "source": [
        "import pandas as pd\n",
        "import numpy as np\n",
        "import matplotlib.pyplot as plt\n",
        "#导入绘图库中的 pyplot 模块，并且简称为 plt。\n",
        "#读取数据\n",
        "path='一、车次上车人数统计表.xlsx';\n",
        "data=pd.read_excel(path);\n",
        "#筛选数据\n",
        "tb=data.loc[data['车次'] == 'D02',['日期','上车人数']];\n",
        "tb=tb.sort_values('日期');\n",
        "tb1=data.loc[data['车次'] == 'D03',['日期','上车人数']];\n",
        "tb1=tb1.sort_values('日期');\n",
        "#构造绘图所需的横轴数据列和纵轴数据列\n",
        "x=np.arange(1,len(tb.iloc[:,0])+1)\n",
        "y1=tb.iloc[:,1]\n",
        "y2=tb1.iloc[:,1]\n",
        "plt.rcParams['font.sans-serif'] = 'SimHei' # 设置字体为 SimHei\n",
        "plt.figure('子图')\n",
        "plt.figure(figsize=(10,8))\n",
        "plt.subplot(3,2,1)\n",
        "plt.scatter(x,y1)\n",
        "plt.xlabel('日期')\n",
        "plt.ylabel('上车人数')\n",
        "plt.xticks([1,5,10,15,20,24], tb['日期'].values[[0,4,9,14,19,23]],\n",
        "rotation = 45)\n",
        "plt.title('D02 车次上车人数散点图')\n",
        "plt.subplot(3,2,2)\n",
        "plt.plot(x,y1,'r*--')\n",
        "plt.plot(x,y2,'b*--')\n",
        "plt.xlabel('日期')\n",
        "plt.ylabel('上车人数')\n",
        "plt.title('上车人数走势图')\n",
        "plt.legend(['D02','D03'])\n",
        "plt.xticks([1,5,10,15,20,24], tb['日期'].values[[0,4,9,14,19,23]],\n",
        "rotation = 45)\n",
        "plt.subplot(3,2,3)\n",
        "plt.bar(x,y1)\n",
        "plt.xlabel('日期')\n",
        "plt.ylabel('上车人数')\n",
        "plt.title('D02 车次上车人数柱状图')\n",
        "plt.xticks([1,5,10,15,20,24], tb['日期'].values[[0,4,9,14,19,23]],\n",
        "rotation = 45)\n",
        "plt.subplot(3,2,4)\n",
        "plt.hist(y1)\n",
        "plt.xlabel('上车人数')\n",
        "plt.ylabel('频数')\n",
        "plt.title('D02 车次上车人数直方图')\n",
        "plt.subplot(3,2,5)\n",
        "D=data.iloc[:,0]\n",
        "D=list(D.unique()) #车次号 D02~D06\n",
        "list1=[] #预定义每个车次的上车人数列表\n",
        "for d in D:\n",
        " dt=data.loc[data['车次'] == d,['上车人数']]\n",
        " s=dt.sum()\n",
        " list1.append(s['上车人数']) #或者 s[0]\n",
        "plt.pie(list1,labels=D,autopct='%1.2f%%')\n",
        "#绘制饼图，百分比保留小数点后两位\n",
        "plt.title('各车次上车人数百分比饼图')\n",
        "plt.subplot(3,2,6)\n",
        "plt.boxplot([y1.values,y2.values])\n",
        "plt.xticks([1,2], ['D02','D03'], rotation = 0)\n",
        "plt.title('D02、D03 车次上车人数箱线图')\n",
        "plt.ylabel('上车人数')\n",
        "plt.xlabel('车次')\n",
        "plt.tight_layout()\n",
        "plt.savefig('子图')"
      ],
      "metadata": {
        "id": "Joc25zCCbkAf"
      },
      "execution_count": null,
      "outputs": []
    }
  ]
}