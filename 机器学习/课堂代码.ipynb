{
  "cells": [
    {
      "cell_type": "markdown",
      "metadata": {
        "id": "qDkVOapKzs4_"
      },
      "source": [
        "# 比较 Python 列表和 NumPy 数组的性能"
      ]
    },
    {
      "cell_type": "code",
      "execution_count": null,
      "metadata": {
        "colab": {
          "base_uri": "https://localhost:8080/"
        },
        "id": "ocmhEUsTzl2D",
        "outputId": "b70885a9-e700-458f-98d8-fefb446e8fb2"
      },
      "outputs": [
        {
          "name": "stdout",
          "output_type": "stream",
          "text": [
            "python列表用时52.83毫秒。\n",
            "numpy数组用时3.57毫秒。\n"
          ]
        }
      ],
      "source": [
        "import numpy as np\n",
        "import time\n",
        "\n",
        "list_array=list(range(int(1e6)))\n",
        "start_time=time.time()\n",
        "python_array=[val*5 for val in list_array]\n",
        "end_time=time.time()\n",
        "total_time=round((end_time-start_time)*1000,2)\n",
        "print(f\"python列表用时{total_time}毫秒。\")\n",
        "\n",
        "np_array=np.arange(1e6)\n",
        "start_time=time.time()\n",
        "np_array=np_array*5\n",
        "end_time=time.time()\n",
        "total_time=round((end_time-start_time)*1000,2)\n",
        "print(f\"numpy数组用时{total_time}毫秒。\")"
      ]
    },
    {
      "cell_type": "markdown",
      "metadata": {
        "id": "AYxA0k6ZztLW"
      },
      "source": [
        "# Pandas 词频统计"
      ]
    },
    {
      "cell_type": "code",
      "execution_count": null,
      "metadata": {
        "colab": {
          "base_uri": "https://localhost:8080/"
        },
        "id": "ien99OixzsKP",
        "outputId": "b9584a4a-d040-4224-a709-f71f32ea7cfe"
      },
      "outputs": [
        {
          "name": "stdout",
          "output_type": "stream",
          "text": [
            "life         3\n",
            "can          2\n",
            "be           2\n",
            "sad          2\n",
            "good         1\n",
            "is           1\n",
            "mostly       1\n",
            "cheerful     1\n",
            "but          1\n",
            "sometimes    1\n",
            "Name: count, dtype: int64\n"
          ]
        }
      ],
      "source": [
        "import pandas as pd\n",
        "\n",
        "p='life can be good, life can be sad, life is mostly cheerful, but sometimes sad.'\n",
        "pList=p.split()\n",
        "pList1=[]\n",
        "for item in pList:\n",
        "    if item[-1] in ',. ':\n",
        "        item=item[:-1]\n",
        "    pList1.append(item)\n",
        "s=pd.Series(pList1)\n",
        "print(s.value_counts())"
      ]
    }
  ],
  "metadata": {
    "colab": {
      "provenance": []
    },
    "kernelspec": {
      "display_name": "Python 3",
      "name": "python3"
    },
    "language_info": {
      "name": "python"
    }
  },
  "nbformat": 4,
  "nbformat_minor": 0
}
