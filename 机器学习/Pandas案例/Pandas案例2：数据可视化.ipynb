{
 "cells": [
  {
   "cell_type": "markdown",
   "id": "b0a1c07c",
   "metadata": {},
   "source": [
    "# 案例2: 使用Pandas对图书评分数据可视化"
   ]
  },
  {
   "cell_type": "markdown",
   "id": "812373a5",
   "metadata": {},
   "source": [
    "### 1. 折线图（查看前10本书的平均得分）"
   ]
  },
  {
   "cell_type": "code",
   "execution_count": 1,
   "id": "af10dc55",
   "metadata": {
    "scrolled": true
   },
   "outputs": [
    {
     "data": {
      "text/plain": [
       "图书ID\n",
       "1        4.279707\n",
       "2        4.351350\n",
       "3        3.214341\n",
       "4        4.329369\n",
       "5        3.772224\n",
       "           ...   \n",
       "9996     4.014184\n",
       "9997     4.451613\n",
       "9998     4.323529\n",
       "9999     3.707692\n",
       "10000    4.009009\n",
       "Name: 评分, Length: 10000, dtype: float64"
      ]
     },
     "execution_count": 1,
     "metadata": {},
     "output_type": "execute_result"
    }
   ],
   "source": [
    "import pandas as pd\n",
    "\n",
    "data=pd.read_csv('rating.txt',header=None,names=['读者ID','图书ID','评分'])\n",
    "result=data.groupby('图书ID')['评分'].mean()\n",
    "result"
   ]
  },
  {
   "cell_type": "code",
   "execution_count": 2,
   "id": "7dff23a9",
   "metadata": {},
   "outputs": [
    {
     "data": {
      "text/plain": [
       "图书ID\n",
       "1     4.279707\n",
       "2     4.351350\n",
       "3     3.214341\n",
       "4     4.329369\n",
       "5     3.772224\n",
       "6     4.190696\n",
       "7     4.148477\n",
       "8     3.710406\n",
       "9     3.604416\n",
       "10    4.186984\n",
       "Name: 评分, dtype: float64"
      ]
     },
     "execution_count": 2,
     "metadata": {},
     "output_type": "execute_result"
    }
   ],
   "source": [
    "result[:10]"
   ]
  },
  {
   "cell_type": "code",
   "execution_count": 4,
   "id": "9423d039",
   "metadata": {},
   "outputs": [
    {
     "data": {
      "text/plain": [
       "<matplotlib.axes._subplots.AxesSubplot at 0x210981d5f08>"
      ]
     },
     "execution_count": 4,
     "metadata": {},
     "output_type": "execute_result"
    },
    {
     "data": {
      "image/png": "[encoded data removed]",
      "text/plain": [
       "<Figure size 432x288 with 1 Axes>"
      ]
     },
     "metadata": {
      "needs_background": "light"
     },
     "output_type": "display_data"
    }
   ],
   "source": [
    "result[:10].plot()"
   ]
  },
  {
   "cell_type": "markdown",
   "id": "9608e177",
   "metadata": {},
   "source": [
    "### 解决中文乱码问题"
   ]
  },
  {
   "cell_type": "markdown",
   "id": "74bcedeb",
   "metadata": {},
   "source": [
    "#### 查看本机字体集"
   ]
  },
  {
   "cell_type": "code",
   "execution_count": 5,
   "id": "6e65999a",
   "metadata": {},
   "outputs": [
    {
     "name": "stdout",
     "output_type": "stream",
     "text": [
      "Adobe Devanagari\n",
      "Adobe Devanagari\n",
      "Adobe Devanagari\n",
      "Adobe Devanagari\n",
      "Arial\n",
      "Arial\n",
      "Arial\n",
      "Arial\n",
      "Arial\n",
      "Arial\n",
      "Arial\n",
      "Arial\n",
      "Arial\n",
      "Bahnschrift\n",
      "Book Antiqua\n",
      "Book Antiqua\n",
      "Book Antiqua\n",
      "Book Antiqua\n",
      "Bookman Old Style\n",
      "Bookman Old Style\n",
      "Bookman Old Style\n",
      "Bookman Old Style\n",
      "Bookshelf Symbol 7\n",
      "Calibri\n",
      "Calibri\n",
      "Calibri\n",
      "Calibri\n",
      "Calibri\n",
      "Calibri\n",
      "Cambria\n",
      "Cambria\n",
      "Cambria\n",
      "Cambria\n",
      "Candara\n",
      "Candara\n",
      "Candara\n",
      "Candara\n",
      "Candara\n",
      "Candara\n",
      "Century\n",
      "Century Gothic\n",
      "Century Gothic\n",
      "Century Gothic\n",
      "Century Gothic\n",
      "Comic Sans MS\n",
      "Comic Sans MS\n",
      "Comic Sans MS\n",
      "Comic Sans MS\n",
      "Consolas\n",
      "Consolas\n",
      "Consolas\n",
      "Consolas\n",
      "Constantia\n",
      "Constantia\n",
      "Constantia\n",
      "Constantia\n",
      "Corbel\n",
      "Corbel\n",
      "Corbel\n",
      "Corbel\n",
      "Corbel\n",
      "Corbel\n",
      "Courier New\n",
      "Courier New\n",
      "Courier New\n",
      "Courier New\n",
      "DejaVu Sans\n",
      "DejaVu Sans\n",
      "DejaVu Sans\n",
      "DejaVu Sans\n",
      "DejaVu Sans Display\n",
      "DejaVu Sans Mono\n",
      "DejaVu Sans Mono\n",
      "DejaVu Sans Mono\n",
      "DejaVu Sans Mono\n",
      "DejaVu Serif\n",
      "DejaVu Serif\n",
      "DejaVu Serif\n",
      "DejaVu Serif\n",
      "DejaVu Serif Display\n",
      "DengXian\n",
      "DengXian\n",
      "DengXian\n",
      "Dubai\n",
      "Dubai\n",
      "Dubai\n",
      "Dubai\n",
      "Ebrima\n",
      "Ebrima\n",
      "FZShuTi\n",
      "FZYaoTi\n",
      "FangSong\n",
      "FangSong_GB2312\n",
      "Franklin Gothic Medium\n",
      "Franklin Gothic Medium\n",
      "Gabriola\n",
      "Gadugi\n",
      "Gadugi\n",
      "Garamond\n",
      "Garamond\n",
      "Garamond\n",
      "Georgia\n",
      "Georgia\n",
      "Georgia\n",
      "Georgia\n",
      "Gulim\n",
      "Impact\n",
      "Ink Free\n",
      "Javanese Text\n",
      "KS Mincho\n",
      "KaiTi\n",
      "Leelawadee\n",
      "Leelawadee\n",
      "Leelawadee UI\n",
      "Leelawadee UI\n",
      "Leelawadee UI\n",
      "LiSu\n",
      "Lucida Console\n",
      "Lucida Sans Unicode\n",
      "MS Gothic\n",
      "MS Reference Sans Serif\n",
      "MS Reference Specialty\n",
      "MT Extra\n",
      "MT Extra\n",
      "MV Boli\n",
      "Malgun Gothic\n",
      "Malgun Gothic\n",
      "Malgun Gothic\n",
      "Marlett\n",
      "Microsoft Himalaya\n",
      "Microsoft JhengHei\n",
      "Microsoft JhengHei\n",
      "Microsoft JhengHei\n",
      "Microsoft New Tai Lue\n",
      "Microsoft New Tai Lue\n",
      "Microsoft PhagsPa\n",
      "Microsoft PhagsPa\n",
      "Microsoft Sans Serif\n",
      "Microsoft Tai Le\n",
      "Microsoft Tai Le\n",
      "Microsoft Uighur\n",
      "Microsoft Uighur\n",
      "Microsoft YaHei\n",
      "Microsoft YaHei\n",
      "Microsoft YaHei\n",
      "Microsoft Yi Baiti\n",
      "MingLiU\n",
      "MingLiU-ExtB\n",
      "Mongolian Baiti\n",
      "Monotype Corsiva\n",
      "Myanmar Text\n",
      "Myanmar Text\n",
      "Nirmala UI\n",
      "Nirmala UI\n",
      "Nirmala UI\n",
      "Palatino Linotype\n",
      "Palatino Linotype\n",
      "Palatino Linotype\n",
      "Palatino Linotype\n",
      "STCaiyun\n",
      "STFangsong\n",
      "STHupo\n",
      "STIXGeneral\n",
      "STIXGeneral\n",
      "STIXGeneral\n",
      "STIXGeneral\n",
      "STIXNonUnicode\n",
      "STIXNonUnicode\n",
      "STIXNonUnicode\n",
      "STIXNonUnicode\n",
      "STIXSizeFiveSym\n",
      "STIXSizeFourSym\n",
      "STIXSizeFourSym\n",
      "STIXSizeOneSym\n",
      "STIXSizeOneSym\n",
      "STIXSizeThreeSym\n",
      "STIXSizeThreeSym\n",
      "STIXSizeTwoSym\n",
      "STIXSizeTwoSym\n",
      "STKaiti\n",
      "STLiti\n",
      "STSong\n",
      "STXihei\n",
      "STXingkai\n",
      "STXinwei\n",
      "STZhongsong\n",
      "Segoe MDL2 Assets\n",
      "Segoe Print\n",
      "Segoe Print\n",
      "Segoe Script\n",
      "Segoe Script\n",
      "Segoe UI\n",
      "Segoe UI\n",
      "Segoe UI\n",
      "Segoe UI\n",
      "Segoe UI\n",
      "Segoe UI\n",
      "Segoe UI\n",
      "Segoe UI\n",
      "Segoe UI\n",
      "Segoe UI\n",
      "Segoe UI\n",
      "Segoe UI\n",
      "Segoe UI Emoji\n",
      "Segoe UI Historic\n",
      "Segoe UI Symbol\n",
      "SimHei\n",
      "SimSun\n",
      "SimSun-ExtB\n",
      "Sitka Small\n",
      "Sitka Small\n",
      "Sitka Small\n",
      "Sitka Small\n",
      "Sylfaen\n",
      "Symbol\n",
      "Tahoma\n",
      "Tahoma\n",
      "Times New Roman\n",
      "Times New Roman\n",
      "Times New Roman\n",
      "Times New Roman\n",
      "Trebuchet MS\n",
      "Trebuchet MS\n",
      "Trebuchet MS\n",
      "Trebuchet MS\n",
      "Verdana\n",
      "Verdana\n",
      "Verdana\n",
      "Verdana\n",
      "Webdings\n",
      "Wingdings\n",
      "Wingdings 2\n",
      "Wingdings 3\n",
      "YouYuan\n",
      "Yu Gothic\n",
      "Yu Gothic\n",
      "Yu Gothic\n",
      "Yu Gothic\n",
      "ZWAdobeF\n",
      "cmb10\n",
      "cmex10\n",
      "cmmi10\n",
      "cmr10\n",
      "cmss10\n",
      "cmsy10\n",
      "cmtt10\n"
     ]
    }
   ],
   "source": [
    "import matplotlib.font_manager\n",
    "\n",
    "a=sorted([f.name for f in matplotlib.font_manager.fontManager.ttflist])\n",
    "for i in a:\n",
    "    print(i)"
   ]
  },
  {
   "cell_type": "code",
   "execution_count": 6,
   "id": "42eb0991",
   "metadata": {
    "scrolled": true
   },
   "outputs": [
    {
     "data": {
      "text/plain": [
       "<matplotlib.axes._subplots.AxesSubplot at 0x21098284e08>"
      ]
     },
     "execution_count": 6,
     "metadata": {},
     "output_type": "execute_result"
    },
    {
     "data": {
      "image/png": "[encoded data removed]",
      "text/plain": [
       "<Figure size 432x288 with 1 Axes>"
      ]
     },
     "metadata": {
      "needs_background": "light"
     },
     "output_type": "display_data"
    }
   ],
   "source": [
    "import matplotlib.pyplot as plt\n",
    "\n",
    "plt.rcParams['font.sans-serif'] = ['SimHei']  # 修改为本机中任意中文字体以正常显示中文标签\n",
    "plt.rcParams['axes.unicode_minus'] = False    # 用来正常显示负号\n",
    "result[:10].plot()"
   ]
  },
  {
   "cell_type": "markdown",
   "id": "63af41fd",
   "metadata": {},
   "source": [
    "### 完整代码："
   ]
  },
  {
   "cell_type": "code",
   "execution_count": 7,
   "id": "67a5088c",
   "metadata": {},
   "outputs": [
    {
     "data": {
      "text/plain": [
       "<matplotlib.axes._subplots.AxesSubplot at 0x210982d06c8>"
      ]
     },
     "execution_count": 7,
     "metadata": {},
     "output_type": "execute_result"
    },
    {
     "data": {
      "image/png": "[encoded data removed]",
      "text/plain": [
       "<Figure size 432x288 with 1 Axes>"
      ]
     },
     "metadata": {
      "needs_background": "light"
     },
     "output_type": "display_data"
    }
   ],
   "source": [
    "import pandas as pd\n",
    "import matplotlib.pyplot as plt\n",
    "\n",
    "plt.rcParams['font.sans-serif'] = ['SimHei']  # 用来正常显示中文标签\n",
    "plt.rcParams['axes.unicode_minus'] = False    # 用来正常显示负号\n",
    "data=pd.read_csv('rating.txt',header=None,names=['读者ID','图书ID','评分'])\n",
    "result[:10].plot()"
   ]
  },
  {
   "cell_type": "markdown",
   "id": "fa4879bf",
   "metadata": {},
   "source": [
    "### 2. 直方图（统计所有书的平均评分的分布情况）"
   ]
  },
  {
   "cell_type": "code",
   "execution_count": 8,
   "id": "7da79b05",
   "metadata": {
    "scrolled": true
   },
   "outputs": [
    {
     "data": {
      "text/plain": [
       "图书ID\n",
       "1        4.279707\n",
       "2        4.351350\n",
       "3        3.214341\n",
       "4        4.329369\n",
       "5        3.772224\n",
       "           ...   \n",
       "9996     4.014184\n",
       "9997     4.451613\n",
       "9998     4.323529\n",
       "9999     3.707692\n",
       "10000    4.009009\n",
       "Name: 评分, Length: 10000, dtype: float64"
      ]
     },
     "execution_count": 8,
     "metadata": {},
     "output_type": "execute_result"
    }
   ],
   "source": [
    "import pandas as pd\n",
    "\n",
    "data=pd.read_csv('rating.txt',header=None,names=['读者ID','图书ID','评分'])\n",
    "result=data.groupby('图书ID')['评分'].mean()\n",
    "result"
   ]
  },
  {
   "cell_type": "code",
   "execution_count": 9,
   "id": "71fe6d1d",
   "metadata": {
    "scrolled": true
   },
   "outputs": [
    {
     "data": {
      "text/plain": [
       "<matplotlib.axes._subplots.AxesSubplot at 0x2109822f208>"
      ]
     },
     "execution_count": 9,
     "metadata": {},
     "output_type": "execute_result"
    },
    {
     "data": {
      "image/png": "[encoded data removed]",
      "text/plain": [
       "<Figure size 432x288 with 1 Axes>"
      ]
     },
     "metadata": {
      "needs_background": "light"
     },
     "output_type": "display_data"
    }
   ],
   "source": [
    "result.plot(kind='hist')"
   ]
  },
  {
   "cell_type": "markdown",
   "id": "992467d2",
   "metadata": {},
   "source": [
    "### 完整代码："
   ]
  },
  {
   "cell_type": "code",
   "execution_count": 10,
   "id": "d19dae6e",
   "metadata": {},
   "outputs": [
    {
     "data": {
      "text/plain": [
       "<matplotlib.axes._subplots.AxesSubplot at 0x210993a38c8>"
      ]
     },
     "execution_count": 10,
     "metadata": {},
     "output_type": "execute_result"
    },
    {
     "data": {
      "image/png": "[encoded data removed]",
      "text/plain": [
       "<Figure size 432x288 with 1 Axes>"
      ]
     },
     "metadata": {
      "needs_background": "light"
     },
     "output_type": "display_data"
    }
   ],
   "source": [
    "import pandas as pd\n",
    "\n",
    "data=pd.read_csv('rating.txt',header=None,names=['读者ID','图书ID','评分'])\n",
    "result=data.groupby('图书ID')['评分'].mean()\n",
    "result.plot(kind='hist')"
   ]
  },
  {
   "cell_type": "markdown",
   "id": "80e202e4",
   "metadata": {},
   "source": [
    "### 3. 柱状图（统计评分人数最多的前10本书）"
   ]
  },
  {
   "cell_type": "code",
   "execution_count": 11,
   "id": "0feed330",
   "metadata": {
    "scrolled": true
   },
   "outputs": [
    {
     "data": {
      "text/plain": [
       "0           258\n",
       "1          4081\n",
       "2           260\n",
       "3          9296\n",
       "4          2318\n",
       "           ... \n",
       "5976474     510\n",
       "5976475     528\n",
       "5976476     722\n",
       "5976477     949\n",
       "5976478    1023\n",
       "Name: 图书ID, Length: 5976479, dtype: int64"
      ]
     },
     "execution_count": 11,
     "metadata": {},
     "output_type": "execute_result"
    }
   ],
   "source": [
    "import pandas as pd\n",
    "\n",
    "data=pd.read_csv('rating.txt',header=None,names=['读者ID','图书ID','评分'])\n",
    "data['图书ID']"
   ]
  },
  {
   "cell_type": "code",
   "execution_count": 12,
   "id": "8f1b1dec",
   "metadata": {},
   "outputs": [
    {
     "data": {
      "text/plain": [
       "1       22806\n",
       "2       21850\n",
       "4       19088\n",
       "3       16931\n",
       "5       16604\n",
       "        ...  \n",
       "9315       36\n",
       "1935       33\n",
       "9486       24\n",
       "9345       11\n",
       "7803        8\n",
       "Name: 图书ID, Length: 10000, dtype: int64"
      ]
     },
     "execution_count": 12,
     "metadata": {},
     "output_type": "execute_result"
    }
   ],
   "source": [
    "data['图书ID'].value_counts()"
   ]
  },
  {
   "cell_type": "code",
   "execution_count": 13,
   "id": "c78bb37a",
   "metadata": {},
   "outputs": [
    {
     "data": {
      "text/plain": [
       "1     22806\n",
       "2     21850\n",
       "4     19088\n",
       "3     16931\n",
       "5     16604\n",
       "17    16549\n",
       "20    15953\n",
       "18    15855\n",
       "23    15657\n",
       "7     15558\n",
       "Name: 图书ID, dtype: int64"
      ]
     },
     "execution_count": 13,
     "metadata": {},
     "output_type": "execute_result"
    }
   ],
   "source": [
    "data['图书ID'].value_counts()[:10]"
   ]
  },
  {
   "cell_type": "code",
   "execution_count": 14,
   "id": "4736efe4",
   "metadata": {},
   "outputs": [
    {
     "data": {
      "text/plain": [
       "<matplotlib.axes._subplots.AxesSubplot at 0x21099429588>"
      ]
     },
     "execution_count": 14,
     "metadata": {},
     "output_type": "execute_result"
    },
    {
     "data": {
      "image/png": "[encoded data removed]",
      "text/plain": [
       "<Figure size 432x288 with 1 Axes>"
      ]
     },
     "metadata": {
      "needs_background": "light"
     },
     "output_type": "display_data"
    }
   ],
   "source": [
    "data['图书ID'].value_counts()[:10].plot(kind='bar')"
   ]
  },
  {
   "cell_type": "markdown",
   "id": "ec513ee9",
   "metadata": {},
   "source": [
    "### 完整代码："
   ]
  },
  {
   "cell_type": "code",
   "execution_count": 15,
   "id": "0659aaf9",
   "metadata": {},
   "outputs": [
    {
     "data": {
      "text/plain": [
       "<matplotlib.axes._subplots.AxesSubplot at 0x21099498c08>"
      ]
     },
     "execution_count": 15,
     "metadata": {},
     "output_type": "execute_result"
    },
    {
     "data": {
      "image/png": "[encoded data removed]",
      "text/plain": [
       "<Figure size 432x288 with 1 Axes>"
      ]
     },
     "metadata": {
      "needs_background": "light"
     },
     "output_type": "display_data"
    }
   ],
   "source": [
    "import pandas as pd\n",
    "\n",
    "data=pd.read_csv('rating.txt',header=None,names=['读者ID','图书ID','评分'])\n",
    "data['图书ID'].value_counts()[:10].plot(kind='bar')"
   ]
  },
  {
   "cell_type": "markdown",
   "id": "b55b3769",
   "metadata": {},
   "source": [
    "### 4. 饼图（统计某本书的评分的分布情况）"
   ]
  },
  {
   "cell_type": "code",
   "execution_count": 16,
   "id": "e5eeef25",
   "metadata": {},
   "outputs": [
    {
     "data": {
      "text/html": [
       "<div>\n",
       "<style scoped>\n",
       "    .dataframe tbody tr th:only-of-type {\n",
       "        vertical-align: middle;\n",
       "    }\n",
       "\n",
       "    .dataframe tbody tr th {\n",
       "        vertical-align: top;\n",
       "    }\n",
       "\n",
       "    .dataframe thead th {\n",
       "        text-align: right;\n",
       "    }\n",
       "</style>\n",
       "<table border=\"1\" class=\"dataframe\">\n",
       "  <thead>\n",
       "    <tr style=\"text-align: right;\">\n",
       "      <th></th>\n",
       "      <th>读者ID</th>\n",
       "      <th>图书ID</th>\n",
       "      <th>评分</th>\n",
       "    </tr>\n",
       "  </thead>\n",
       "  <tbody>\n",
       "    <tr>\n",
       "      <td>0</td>\n",
       "      <td>1</td>\n",
       "      <td>258</td>\n",
       "      <td>5</td>\n",
       "    </tr>\n",
       "    <tr>\n",
       "      <td>1</td>\n",
       "      <td>2</td>\n",
       "      <td>4081</td>\n",
       "      <td>4</td>\n",
       "    </tr>\n",
       "    <tr>\n",
       "      <td>2</td>\n",
       "      <td>2</td>\n",
       "      <td>260</td>\n",
       "      <td>5</td>\n",
       "    </tr>\n",
       "    <tr>\n",
       "      <td>3</td>\n",
       "      <td>2</td>\n",
       "      <td>9296</td>\n",
       "      <td>5</td>\n",
       "    </tr>\n",
       "    <tr>\n",
       "      <td>4</td>\n",
       "      <td>2</td>\n",
       "      <td>2318</td>\n",
       "      <td>3</td>\n",
       "    </tr>\n",
       "    <tr>\n",
       "      <td>...</td>\n",
       "      <td>...</td>\n",
       "      <td>...</td>\n",
       "      <td>...</td>\n",
       "    </tr>\n",
       "    <tr>\n",
       "      <td>5976474</td>\n",
       "      <td>49925</td>\n",
       "      <td>510</td>\n",
       "      <td>5</td>\n",
       "    </tr>\n",
       "    <tr>\n",
       "      <td>5976475</td>\n",
       "      <td>49925</td>\n",
       "      <td>528</td>\n",
       "      <td>4</td>\n",
       "    </tr>\n",
       "    <tr>\n",
       "      <td>5976476</td>\n",
       "      <td>49925</td>\n",
       "      <td>722</td>\n",
       "      <td>4</td>\n",
       "    </tr>\n",
       "    <tr>\n",
       "      <td>5976477</td>\n",
       "      <td>49925</td>\n",
       "      <td>949</td>\n",
       "      <td>5</td>\n",
       "    </tr>\n",
       "    <tr>\n",
       "      <td>5976478</td>\n",
       "      <td>49925</td>\n",
       "      <td>1023</td>\n",
       "      <td>4</td>\n",
       "    </tr>\n",
       "  </tbody>\n",
       "</table>\n",
       "<p>5976479 rows × 3 columns</p>\n",
       "</div>"
      ],
      "text/plain": [
       "          读者ID  图书ID  评分\n",
       "0            1   258   5\n",
       "1            2  4081   4\n",
       "2            2   260   5\n",
       "3            2  9296   5\n",
       "4            2  2318   3\n",
       "...        ...   ...  ..\n",
       "5976474  49925   510   5\n",
       "5976475  49925   528   4\n",
       "5976476  49925   722   4\n",
       "5976477  49925   949   5\n",
       "5976478  49925  1023   4\n",
       "\n",
       "[5976479 rows x 3 columns]"
      ]
     },
     "execution_count": 16,
     "metadata": {},
     "output_type": "execute_result"
    }
   ],
   "source": [
    "import pandas as pd\n",
    "\n",
    "data=pd.read_csv('rating.txt',header=None,names=['读者ID','图书ID','评分'])\n",
    "data"
   ]
  },
  {
   "cell_type": "code",
   "execution_count": 17,
   "id": "75380a7b",
   "metadata": {},
   "outputs": [
    {
     "data": {
      "text/html": [
       "<div>\n",
       "<style scoped>\n",
       "    .dataframe tbody tr th:only-of-type {\n",
       "        vertical-align: middle;\n",
       "    }\n",
       "\n",
       "    .dataframe tbody tr th {\n",
       "        vertical-align: top;\n",
       "    }\n",
       "\n",
       "    .dataframe thead th {\n",
       "        text-align: right;\n",
       "    }\n",
       "</style>\n",
       "<table border=\"1\" class=\"dataframe\">\n",
       "  <thead>\n",
       "    <tr style=\"text-align: right;\">\n",
       "      <th></th>\n",
       "      <th>读者ID</th>\n",
       "      <th>图书ID</th>\n",
       "      <th>评分</th>\n",
       "    </tr>\n",
       "  </thead>\n",
       "  <tbody>\n",
       "    <tr>\n",
       "      <td>217482</td>\n",
       "      <td>2886</td>\n",
       "      <td>1</td>\n",
       "      <td>5</td>\n",
       "    </tr>\n",
       "    <tr>\n",
       "      <td>292053</td>\n",
       "      <td>6158</td>\n",
       "      <td>1</td>\n",
       "      <td>5</td>\n",
       "    </tr>\n",
       "    <tr>\n",
       "      <td>292380</td>\n",
       "      <td>3991</td>\n",
       "      <td>1</td>\n",
       "      <td>4</td>\n",
       "    </tr>\n",
       "    <tr>\n",
       "      <td>293265</td>\n",
       "      <td>5281</td>\n",
       "      <td>1</td>\n",
       "      <td>5</td>\n",
       "    </tr>\n",
       "    <tr>\n",
       "      <td>296200</td>\n",
       "      <td>5721</td>\n",
       "      <td>1</td>\n",
       "      <td>5</td>\n",
       "    </tr>\n",
       "    <tr>\n",
       "      <td>...</td>\n",
       "      <td>...</td>\n",
       "      <td>...</td>\n",
       "      <td>...</td>\n",
       "    </tr>\n",
       "    <tr>\n",
       "      <td>5972517</td>\n",
       "      <td>49348</td>\n",
       "      <td>1</td>\n",
       "      <td>4</td>\n",
       "    </tr>\n",
       "    <tr>\n",
       "      <td>5973825</td>\n",
       "      <td>10460</td>\n",
       "      <td>1</td>\n",
       "      <td>4</td>\n",
       "    </tr>\n",
       "    <tr>\n",
       "      <td>5973972</td>\n",
       "      <td>9837</td>\n",
       "      <td>1</td>\n",
       "      <td>4</td>\n",
       "    </tr>\n",
       "    <tr>\n",
       "      <td>5974664</td>\n",
       "      <td>7607</td>\n",
       "      <td>1</td>\n",
       "      <td>5</td>\n",
       "    </tr>\n",
       "    <tr>\n",
       "      <td>5976299</td>\n",
       "      <td>48801</td>\n",
       "      <td>1</td>\n",
       "      <td>5</td>\n",
       "    </tr>\n",
       "  </tbody>\n",
       "</table>\n",
       "<p>22806 rows × 3 columns</p>\n",
       "</div>"
      ],
      "text/plain": [
       "          读者ID  图书ID  评分\n",
       "217482    2886     1   5\n",
       "292053    6158     1   5\n",
       "292380    3991     1   4\n",
       "293265    5281     1   5\n",
       "296200    5721     1   5\n",
       "...        ...   ...  ..\n",
       "5972517  49348     1   4\n",
       "5973825  10460     1   4\n",
       "5973972   9837     1   4\n",
       "5974664   7607     1   5\n",
       "5976299  48801     1   5\n",
       "\n",
       "[22806 rows x 3 columns]"
      ]
     },
     "execution_count": 17,
     "metadata": {},
     "output_type": "execute_result"
    }
   ],
   "source": [
    "data[data['图书ID']==1]"
   ]
  },
  {
   "cell_type": "code",
   "execution_count": 18,
   "id": "d3502c6a",
   "metadata": {},
   "outputs": [
    {
     "data": {
      "text/plain": [
       "217482     5\n",
       "292053     5\n",
       "292380     4\n",
       "293265     5\n",
       "296200     5\n",
       "          ..\n",
       "5972517    4\n",
       "5973825    4\n",
       "5973972    4\n",
       "5974664    5\n",
       "5976299    5\n",
       "Name: 评分, Length: 22806, dtype: int64"
      ]
     },
     "execution_count": 18,
     "metadata": {},
     "output_type": "execute_result"
    }
   ],
   "source": [
    "data[data['图书ID']==1]['评分']"
   ]
  },
  {
   "cell_type": "code",
   "execution_count": 19,
   "id": "a9b4201c",
   "metadata": {},
   "outputs": [
    {
     "data": {
      "text/plain": [
       "5    11357\n",
       "4     7569\n",
       "3     3013\n",
       "2      636\n",
       "1      231\n",
       "Name: 评分, dtype: int64"
      ]
     },
     "execution_count": 19,
     "metadata": {},
     "output_type": "execute_result"
    }
   ],
   "source": [
    "data[data['图书ID']==1]['评分'].value_counts()"
   ]
  },
  {
   "cell_type": "code",
   "execution_count": 20,
   "id": "05362f79",
   "metadata": {},
   "outputs": [
    {
     "data": {
      "text/plain": [
       "22806"
      ]
     },
     "execution_count": 20,
     "metadata": {},
     "output_type": "execute_result"
    }
   ],
   "source": [
    "data[data['图书ID']==1]['评分'].value_counts().sum()"
   ]
  },
  {
   "cell_type": "code",
   "execution_count": 21,
   "id": "88d4271c",
   "metadata": {},
   "outputs": [
    {
     "data": {
      "text/plain": [
       "5    0.497983\n",
       "4    0.331886\n",
       "3    0.132114\n",
       "2    0.027887\n",
       "1    0.010129\n",
       "Name: 评分, dtype: float64"
      ]
     },
     "execution_count": 21,
     "metadata": {},
     "output_type": "execute_result"
    }
   ],
   "source": [
    "data[data['图书ID']==1]['评分'].value_counts()/data[data['图书ID']==1]['评分'].value_counts().sum()"
   ]
  },
  {
   "cell_type": "code",
   "execution_count": 22,
   "id": "1b038d41",
   "metadata": {},
   "outputs": [
    {
     "data": {
      "text/plain": [
       "<matplotlib.axes._subplots.AxesSubplot at 0x21099584608>"
      ]
     },
     "execution_count": 22,
     "metadata": {},
     "output_type": "execute_result"
    },
    {
     "data": {
      "image/png": "[encoded data removed]",
      "text/plain": [
       "<Figure size 432x288 with 1 Axes>"
      ]
     },
     "metadata": {},
     "output_type": "display_data"
    }
   ],
   "source": [
    "s=data[data['图书ID']==1]['评分'].value_counts()/data[data['图书ID']==1]['评分'].value_counts().sum()\n",
    "s.plot(kind='pie')"
   ]
  },
  {
   "cell_type": "markdown",
   "id": "e29cc0b0",
   "metadata": {},
   "source": [
    "###  完善应用程序（统计任意指定图书评分的分布情况）"
   ]
  },
  {
   "cell_type": "code",
   "execution_count": 23,
   "id": "8e44da35",
   "metadata": {},
   "outputs": [
    {
     "data": {
      "text/plain": [
       "array([ 258, 4081,  260, ..., 9580, 8892, 9548], dtype=int64)"
      ]
     },
     "execution_count": 23,
     "metadata": {},
     "output_type": "execute_result"
    }
   ],
   "source": [
    "data['图书ID'].unique()"
   ]
  },
  {
   "cell_type": "code",
   "execution_count": 24,
   "id": "49ad9d7a",
   "metadata": {},
   "outputs": [
    {
     "data": {
      "text/plain": [
       "0        258\n",
       "1       4081\n",
       "2        260\n",
       "3       9296\n",
       "4       2318\n",
       "        ... \n",
       "9995    3885\n",
       "9996    9569\n",
       "9997    9580\n",
       "9998    8892\n",
       "9999    9548\n",
       "Length: 10000, dtype: int64"
      ]
     },
     "execution_count": 24,
     "metadata": {},
     "output_type": "execute_result"
    }
   ],
   "source": [
    "pd.Series(data['图书ID'].unique())"
   ]
  },
  {
   "cell_type": "code",
   "execution_count": 25,
   "id": "076d2009",
   "metadata": {},
   "outputs": [
    {
     "data": {
      "text/plain": [
       "5694        1\n",
       "18          2\n",
       "2595        3\n",
       "161         4\n",
       "32          5\n",
       "        ...  \n",
       "7074     9996\n",
       "4675     9997\n",
       "1218     9998\n",
       "7340     9999\n",
       "3398    10000\n",
       "Length: 10000, dtype: int64"
      ]
     },
     "execution_count": 25,
     "metadata": {},
     "output_type": "execute_result"
    }
   ],
   "source": [
    "pd.Series(data['图书ID'].unique()).sort_values()"
   ]
  },
  {
   "cell_type": "markdown",
   "id": "65fbd867",
   "metadata": {},
   "source": [
    "### 完整代码："
   ]
  },
  {
   "cell_type": "code",
   "execution_count": 26,
   "id": "0a0731b4",
   "metadata": {
    "scrolled": true
   },
   "outputs": [
    {
     "name": "stdout",
     "output_type": "stream",
     "text": [
      "请输入你要查看评分信息的图书编号（1-10000）：666\n"
     ]
    },
    {
     "data": {
      "text/plain": [
       "<matplotlib.axes._subplots.AxesSubplot at 0x210953787c8>"
      ]
     },
     "execution_count": 26,
     "metadata": {},
     "output_type": "execute_result"
    },
    {
     "data": {
      "image/png": "[encoded data removed]",
      "text/plain": [
       "<Figure size 432x288 with 1 Axes>"
      ]
     },
     "metadata": {},
     "output_type": "display_data"
    }
   ],
   "source": [
    "import pandas as pd\n",
    "\n",
    "data=pd.read_csv('rating.txt',header=None,names=['读者ID','图书ID','评分'])\n",
    "id=int(input('请输入你要查看评分信息的图书编号（1-10000）：'))\n",
    "s=data[data['图书ID']==id]['评分'].value_counts()/data[data['图书ID']==id]['评分'].value_counts().sum()\n",
    "s.plot(kind='pie')"
   ]
  },
  {
   "cell_type": "markdown",
   "id": "f5c80059",
   "metadata": {},
   "source": [
    "### 思考：进一步完善应用（使用Streamlit实现可视化界面）"
   ]
  }
 ],
 "metadata": {
  "kernelspec": {
   "display_name": "Python 3 (ipykernel)",
   "language": "python",
   "name": "python3"
  },
  "language_info": {
   "codemirror_mode": {
    "name": "ipython",
    "version": 3
   },
   "file_extension": ".py",
   "mimetype": "text/x-python",
   "name": "python",
   "nbconvert_exporter": "python",
   "pygments_lexer": "ipython3",
   "version": "3.11.5"
  }
 },
 "nbformat": 4,
 "nbformat_minor": 5
}
