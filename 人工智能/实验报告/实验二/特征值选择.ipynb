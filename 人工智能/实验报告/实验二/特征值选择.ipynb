{
 "cells": [
  {
   "cell_type": "markdown",
   "id": "174c3654",
   "metadata": {},
   "source": [
    "# 特征值选择实验项目\n",
    "\n",
    "在机器学习项目中，特征选择是一个非常重要的步骤，它可以帮助提高模型的性能、减少计算成本，并提高模型的解释性。特征选择可以通过不同的方法进行，包括过滤法（Filter Methods）、包裹法（Wrapper Methods）和嵌入法（Embedded Methods）。本Notebook将介绍如何使用Python中的几种常见库（如scikit-learn、pandas和numpy）来进行特征选择。"
   ]
  },
  {
   "cell_type": "markdown",
   "id": "2be01bb4",
   "metadata": {},
   "source": [
    "## 1. 准备环境\n",
    "\n",
    "首先，确保你已经安装了必要的Python库。如果没有安装，可以使用pip来安装：\n",
    "\n",
    "```bash\n",
    "pip install numpy pandas scikit-learn matplotlib\n",
    "```"
   ]
  },
  {
   "cell_type": "code",
   "execution_count": null,
   "id": "ef49b295",
   "metadata": {},
   "outputs": [],
   "source": [
    "# 导入必要的库\n",
    "import numpy as np\n",
    "import pandas as pd\n",
    "from sklearn.datasets import load_iris\n",
    "from sklearn.model_selection import train_test_split"
   ]
  },
  {
   "cell_type": "markdown",
   "id": "590060da",
   "metadata": {},
   "source": [
    "## 2. 加载数据\n",
    "\n",
    "我们将使用scikit-learn库中的数据集，例如鸢尾花（Iris）数据集作为示例。"
   ]
  },
  {
   "cell_type": "code",
   "execution_count": null,
   "id": "4a5b6260",
   "metadata": {},
   "outputs": [],
   "source": [
    "# 加载数据\n",
    "data = load_iris()\n",
    "X = data.data\n",
    "y = data.target\n",
    "\n",
    "# 划分训练集和测试集\n",
    "X_train, X_test, y_train, y_test = train_test_split(X, y, test_size=0.3, random_state=42) # 设置 random_state 以保证结果可复现"
   ]
  },
  {
   "cell_type": "markdown",
   "id": "33086a72",
   "metadata": {},
   "source": [
    "## 3. 过滤法（Filter Methods）\n",
    "\n",
    "过滤法通过计算每个特征与目标变量之间的统计相关性来选择特征。例如，可以使用皮尔逊相关系数或卡方检验。"
   ]
  },
  {
   "cell_type": "code",
   "execution_count": null,
   "id": "717fe5a2",
   "metadata": {},
   "outputs": [],
   "source": [
    "from sklearn.feature_selection import SelectKBest, chi2\n",
    "\n",
    "# 使用卡方检验选择最佳特征\n",
    "selector = SelectKBest(chi2, k=2)  # 选择前两个最佳特征\n",
    "X_train_new = selector.fit_transform(X_train, y_train)\n",
    "X_test_new = selector.transform(X_test)"
   ]
  },
  {
   "cell_type": "markdown",
   "id": "0fc24188",
   "metadata": {},
   "source": [
    "## 4. 包裹法（Wrapper Methods）\n",
    "\n",
    "包裹法通过训练一个模型来评估每个特征的重要性。例如，可以使用递归特征消除（RFE）或基于树的特征选择。"
   ]
  },
  {
   "cell_type": "code",
   "execution_count": null,
   "id": "1c97620f",
   "metadata": {},
   "outputs": [],
   "source": [
    "from sklearn.ensemble import RandomForestClassifier\n",
    "from sklearn.feature_selection import RFE\n",
    "\n",
    "# 使用随机森林进行特征选择\n",
    "model = RandomForestClassifier(n_estimators=100, random_state=42) # 设置 random_state 以保证结果可复现\n",
    "rfe = RFE(model, n_features_to_select=2)\n",
    "X_train_new = rfe.fit_transform(X_train, y_train)\n",
    "X_test_new = rfe.transform(X_test)"
   ]
  },
  {
   "cell_type": "markdown",
   "id": "7ac00837",
   "metadata": {},
   "source": [
    "## 5. 嵌入法（Embedded Methods）\n",
    "\n",
    "嵌入法是将特征选择融入到模型训练过程中的方法，例如使用基于树的模型如随机森林或梯度提升树。这些模型在训练时会考虑特征的重要性。"
   ]
  },
  {
   "cell_type": "code",
   "execution_count": null,
   "id": "e9896a1b",
   "metadata": {},
   "outputs": [],
   "source": [
    "from sklearn.ensemble import GradientBoostingClassifier\n",
    "from sklearn.feature_selection import SelectFromModel\n",
    "\n",
    "# 使用梯度提升树进行特征选择\n",
    "model = GradientBoostingClassifier(random_state=42) # 设置 random_state 以保证结果可复现\n",
    "model.fit(X_train, y_train)\n",
    "sfm = SelectFromModel(model, prefit=True)  # 使用模型选择特征\n",
    "X_train_new = sfm.transform(X_train)\n",
    "X_test_new = sfm.transform(X_test)"
   ]
  },
  {
   "cell_type": "markdown",
   "id": "ea3daf26",
   "metadata": {},
   "source": [
    "## 6. 评估模型性能\n",
    "\n",
    "最后，使用选定的特征训练模型并评估其性能。"
   ]
  },
  {
   "cell_type": "code",
   "execution_count": null,
   "id": "609728e5",
   "metadata": {},
   "outputs": [],
   "source": [
    "from sklearn.metrics import accuracy_score, classification_report\n",
    "from sklearn.svm import SVC  # 以支持向量机为例进行分类任务\n",
    "\n",
    "# 使用SVM进行分类并评估模型性能\n",
    "clf = SVC()\n",
    "clf.fit(X_train_new, y_train)\n",
    "y_pred = clf.predict(X_test_new)\n",
    "print(\"Accuracy:\", accuracy_score(y_test, y_pred))\n",
    "print(\"Classification Report:\\n\", classification_report(y_test, y_pred))"
   ]
  },
  {
   "cell_type": "markdown",
   "id": "334d134d",
   "metadata": {},
   "source": [
    "以上步骤展示了如何在Python中使用不同的方法进行特征选择，并使用选定的特征训练一个机器学习模型。你可以根据具体的数据集和问题选择合适的方法和模型。"
   ]
  }
 ],
 "metadata": {
  "kernelspec": {
   "display_name": "Python 3",
   "language": "python",
   "name": "python3"
  },
  "language_info": {
   "codemirror_mode": {
    "name": "ipython",
    "version": 3
   },
   "file_extension": ".py",
   "mimetype": "text/x-python",
   "name": "python",
   "nbconvert_exporter": "python",
   "pygments_lexer": "ipython3",
   "version": "3.9.12"
  }
 },
 "nbformat": 4,
 "nbformat_minor": 5
}
