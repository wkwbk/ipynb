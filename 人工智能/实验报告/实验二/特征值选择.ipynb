{
  "cells": [
    {
      "cell_type": "markdown",
      "id": "174c3654",
      "metadata": {
        "id": "174c3654"
      },
      "source": [
        "# 特征值选择实验项目\n",
        "\n",
        "在机器学习项目中，特征选择是一个非常重要的步骤，它可以帮助提高模型的性能、减少计算成本，并提高模型的解释性。特征选择可以通过不同的方法进行，包括过滤法（Filter Methods）、包裹法（Wrapper Methods）和嵌入法（Embedded Methods）。本Notebook将介绍如何使用Python中的几种常见库（如scikit-learn、pandas和numpy）来进行特征选择。"
      ]
    },
    {
      "cell_type": "markdown",
      "id": "2be01bb4",
      "metadata": {
        "id": "2be01bb4"
      },
      "source": [
        "## 1. 准备环境\n",
        "\n",
        "首先，确保你已经安装了必要的Python库。"
      ]
    },
    {
      "cell_type": "code",
      "execution_count": 7,
      "id": "ef49b295",
      "metadata": {
        "id": "ef49b295"
      },
      "outputs": [],
      "source": [
        "import numpy as np\n",
        "import pandas as pd\n",
        "from sklearn.datasets import load_wine\n",
        "from sklearn.model_selection import train_test_split\n",
        "from sklearn.feature_selection import SelectKBest, chi2, RFE, SelectFromModel\n",
        "from sklearn.ensemble import RandomForestClassifier, GradientBoostingClassifier\n",
        "from sklearn.svm import SVC\n",
        "from sklearn.metrics import accuracy_score, classification_report"
      ]
    },
    {
      "cell_type": "markdown",
      "id": "590060da",
      "metadata": {
        "id": "590060da"
      },
      "source": [
        "## 2. 加载数据\n",
        "\n",
        "我们将使用scikit-learn库中的数据集，例如鸢尾花（Iris）数据集作为示例。"
      ]
    },
    {
      "cell_type": "code",
      "execution_count": 8,
      "id": "4a5b6260",
      "metadata": {
        "id": "4a5b6260"
      },
      "outputs": [],
      "source": [
        "# 加载数据\n",
        "data = load_wine()\n",
        "X = data.data\n",
        "y = data.target\n",
        "# 划分训练集和测试集，改变random_state以增加随机性\n",
        "X_train, X_test, y_train, y_test = train_test_split(X, y, test_size=0.3, random_state=43)"
      ]
    },
    {
      "cell_type": "markdown",
      "id": "33086a72",
      "metadata": {
        "id": "33086a72"
      },
      "source": [
        "## 3. 过滤法（Filter Methods）\n",
        "\n",
        "过滤法通过计算每个特征与目标变量之间的统计相关性来选择特征。例如，可以使用皮尔逊相关系数或卡方检验。"
      ]
    },
    {
      "cell_type": "code",
      "execution_count": 9,
      "id": "717fe5a2",
      "metadata": {
        "id": "717fe5a2"
      },
      "outputs": [],
      "source": [
        "# 使用卡方检验选择最佳特征，改变k值\n",
        "selector = SelectKBest(chi2, k=3)  # 选择前三个最佳特征\n",
        "X_train_new_filter = selector.fit_transform(X_train, y_train)\n",
        "X_test_new_filter = selector.transform(X_test)"
      ]
    },
    {
      "cell_type": "markdown",
      "id": "0fc24188",
      "metadata": {
        "id": "0fc24188"
      },
      "source": [
        "## 4. 包裹法（Wrapper Methods）\n",
        "\n",
        "包裹法通过训练一个模型来评估每个特征的重要性。例如，可以使用递归特征消除（RFE）或基于树的特征选择。"
      ]
    },
    {
      "cell_type": "code",
      "execution_count": 10,
      "id": "1c97620f",
      "metadata": {
        "id": "1c97620f"
      },
      "outputs": [],
      "source": [
        "# 使用随机森林进行特征选择，改变n_features_to_select的值\n",
        "model = RandomForestClassifier(n_estimators=100, random_state=43)\n",
        "rfe = RFE(model, n_features_to_select=3)  # 选择前三个最佳特征\n",
        "X_train_new_wrapper = rfe.fit_transform(X_train, y_train)\n",
        "X_test_new_wrapper = rfe.transform(X_test)"
      ]
    },
    {
      "cell_type": "markdown",
      "id": "7ac00837",
      "metadata": {
        "id": "7ac00837"
      },
      "source": [
        "## 5. 嵌入法（Embedded Methods）\n",
        "\n",
        "嵌入法是将特征选择融入到模型训练过程中的方法，例如使用基于树的模型如随机森林或梯度提升树。这些模型在训练时会考虑特征的重要性。"
      ]
    },
    {
      "cell_type": "code",
      "execution_count": 11,
      "id": "e9896a1b",
      "metadata": {
        "id": "e9896a1b"
      },
      "outputs": [],
      "source": [
        "# 使用梯度提升树进行特征选择，改变模型的超参数\n",
        "model = GradientBoostingClassifier(n_estimators=50, random_state=43)\n",
        "model.fit(X_train, y_train)\n",
        "sfm = SelectFromModel(model, prefit=True)  # 使用模型选择特征\n",
        "X_train_new_embedded = sfm.transform(X_train)\n",
        "X_test_new_embedded = sfm.transform(X_test)"
      ]
    },
    {
      "cell_type": "markdown",
      "id": "ea3daf26",
      "metadata": {
        "id": "ea3daf26"
      },
      "source": [
        "## 6. 评估模型性能\n",
        "\n",
        "最后，使用选定的特征训练模型并评估其性能。"
      ]
    },
    {
      "cell_type": "code",
      "execution_count": 13,
      "id": "609728e5",
      "metadata": {
        "id": "609728e5",
        "outputId": "1bf611a1-4001-447c-bc28-5b19c5e097ae",
        "colab": {
          "base_uri": "https://localhost:8080/"
        }
      },
      "outputs": [
        {
          "output_type": "stream",
          "name": "stdout",
          "text": [
            "过滤法 — 准确率: 0.9629629629629629\n",
            "过滤法 — 分类报告:\n",
            "               precision    recall  f1-score   support\n",
            "\n",
            "           0       0.95      1.00      0.98        20\n",
            "           1       0.94      0.94      0.94        17\n",
            "           2       1.00      0.94      0.97        17\n",
            "\n",
            "    accuracy                           0.96        54\n",
            "   macro avg       0.96      0.96      0.96        54\n",
            "weighted avg       0.96      0.96      0.96        54\n",
            "\n",
            "------------------------------------------------------------\n",
            "包裹法 — 准确率: 0.8518518518518519\n",
            "包裹法 — 分类报告:\n",
            "               precision    recall  f1-score   support\n",
            "\n",
            "           0       0.82      0.90      0.86        20\n",
            "           1       0.76      0.76      0.76        17\n",
            "           2       1.00      0.88      0.94        17\n",
            "\n",
            "    accuracy                           0.85        54\n",
            "   macro avg       0.86      0.85      0.85        54\n",
            "weighted avg       0.86      0.85      0.85        54\n",
            "\n",
            "------------------------------------------------------------\n",
            "嵌入法 — 准确率: 0.6481481481481481\n",
            "嵌入法 — 分类报告:\n",
            "               precision    recall  f1-score   support\n",
            "\n",
            "           0       0.95      0.95      0.95        20\n",
            "           1       0.47      0.94      0.63        17\n",
            "           2       0.00      0.00      0.00        17\n",
            "\n",
            "    accuracy                           0.65        54\n",
            "   macro avg       0.47      0.63      0.53        54\n",
            "weighted avg       0.50      0.65      0.55        54\n",
            "\n",
            "-----------------------------------------------------------\n"
          ]
        },
        {
          "output_type": "stream",
          "name": "stderr",
          "text": [
            "/usr/local/lib/python3.11/dist-packages/sklearn/metrics/_classification.py:1565: UndefinedMetricWarning: Precision is ill-defined and being set to 0.0 in labels with no predicted samples. Use `zero_division` parameter to control this behavior.\n",
            "  _warn_prf(average, modifier, f\"{metric.capitalize()} is\", len(result))\n",
            "/usr/local/lib/python3.11/dist-packages/sklearn/metrics/_classification.py:1565: UndefinedMetricWarning: Precision is ill-defined and being set to 0.0 in labels with no predicted samples. Use `zero_division` parameter to control this behavior.\n",
            "  _warn_prf(average, modifier, f\"{metric.capitalize()} is\", len(result))\n",
            "/usr/local/lib/python3.11/dist-packages/sklearn/metrics/_classification.py:1565: UndefinedMetricWarning: Precision is ill-defined and being set to 0.0 in labels with no predicted samples. Use `zero_division` parameter to control this behavior.\n",
            "  _warn_prf(average, modifier, f\"{metric.capitalize()} is\", len(result))\n"
          ]
        }
      ],
      "source": [
        "# 使用SVM进行分类并评估模型性能\n",
        "# 过滤法\n",
        "clf_filter = SVC(kernel='linear', C=1)  # 使用线性核，改变C值\n",
        "clf_filter.fit(X_train_new_filter, y_train)\n",
        "y_pred_filter = clf_filter.predict(X_test_new_filter)\n",
        "print(\"过滤法 — 准确率:\", accuracy_score(y_test, y_pred_filter))\n",
        "print(\"过滤法 — 分类报告:\\n\", classification_report(y_test, y_pred_filter))\n",
        "print(\"------------------------------------------------------------\")\n",
        "# 包裹法\n",
        "clf_wrapper = SVC(kernel='rbf', C=1)  # 使用RBF核，改变C值\n",
        "clf_wrapper.fit(X_train_new_wrapper, y_train)\n",
        "y_pred_wrapper = clf_wrapper.predict(X_test_new_wrapper)\n",
        "print(\"包裹法 — 准确率:\", accuracy_score(y_test, y_pred_wrapper))\n",
        "print(\"包裹法 — 分类报告:\\n\", classification_report(y_test, y_pred_wrapper))\n",
        "print(\"------------------------------------------------------------\")\n",
        "# 嵌入法\n",
        "clf_embedded = SVC(kernel='poly', C=1)  # 使用多项式核，改变C值\n",
        "clf_embedded.fit(X_train_new_embedded, y_train)\n",
        "y_pred_embedded = clf_embedded.predict(X_test_new_embedded)\n",
        "print(\"嵌入法 — 准确率:\", accuracy_score(y_test, y_pred_embedded))\n",
        "print(\"嵌入法 — 分类报告:\\n\", classification_report(y_test, y_pred_embedded))\n",
        "print(\"-----------------------------------------------------------\")"
      ]
    }
  ],
  "metadata": {
    "kernelspec": {
      "display_name": "Python 3",
      "language": "python",
      "name": "python3"
    },
    "language_info": {
      "codemirror_mode": {
        "name": "ipython",
        "version": 3
      },
      "file_extension": ".py",
      "mimetype": "text/x-python",
      "name": "python",
      "nbconvert_exporter": "python",
      "pygments_lexer": "ipython3",
      "version": "3.9.12"
    },
    "colab": {
      "provenance": []
    }
  },
  "nbformat": 4,
  "nbformat_minor": 5
}