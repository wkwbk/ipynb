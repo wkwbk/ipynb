{
  "cells": [
    {
      "cell_type": "markdown",
      "source": [
        "# 1"
      ],
      "metadata": {
        "id": "p8QuM5wLb4_a"
      }
    },
    {
      "cell_type": "code",
      "source": [
        "import pandas as pd\n",
        "\n",
        "# 构造模拟数据,包含一些重复、缺失和异常情况\n",
        "data = {\n",
        "    '商品ID': [1001, 1002, 1001, 1003, 1004], # 有重复商品ID\n",
        "    '商品名称': ['商品A', '商品B', '商品A', '商品C', '商品D'],\n",
        "    '价格': [19.9, 29.9, 19.9, 39.9, None], # 有缺失价格\n",
        "    '销量': [100, 200, 100, 300, 400],\n",
        "    '评论数': [50, 80, 50, 'abc', 100] # 有异常评论数\n",
        "}\n",
        "\n",
        "# 将数据转换为DataFrame\n",
        "df = pd.DataFrame(data)\n",
        "\n",
        "# 存储数据为csv文件\n",
        "df.to_csv('ecommerce_sales_data.csv', encoding='utf-8', index=False)\n",
        "\n",
        "# 读取csv文件数据\n",
        "df_read = pd.read_csv('ecommerce_sales_data.csv')\n",
        "\n",
        "# 找出重复数据\n",
        "duplicated_rows = df_read[df_read.duplicated()]\n",
        "print(\"重复数据:\")\n",
        "print(duplicated_rows)\n",
        "\n",
        "# 删除重复\n",
        "df_on_duplicates = df_read.drop_duplicates()\n",
        "print(\"\\n删除重复后数据:\")\n",
        "print(df_on_duplicates)"
      ],
      "metadata": {
        "colab": {
          "base_uri": "https://localhost:8080/"
        },
        "id": "QDA6g6rzLYTn",
        "outputId": "aba9a099-e440-4e0a-cde3-399aeb206e66"
      },
      "execution_count": 9,
      "outputs": [
        {
          "output_type": "stream",
          "name": "stdout",
          "text": [
            "重复数据:\n",
            "   商品ID 商品名称    价格   销量 评论数\n",
            "2  1001  商品A  19.9  100  50\n",
            "\n",
            "删除重复后数据:\n",
            "   商品ID 商品名称    价格   销量  评论数\n",
            "0  1001  商品A  19.9  100   50\n",
            "1  1002  商品B  29.9  200   80\n",
            "3  1003  商品C  39.9  300  abc\n",
            "4  1004  商品D   NaN  400  100\n"
          ]
        }
      ]
    },
    {
      "cell_type": "markdown",
      "source": [
        "# 4. 分箱"
      ],
      "metadata": {
        "id": "fJLRMyMHTzj0"
      }
    },
    {
      "cell_type": "code",
      "source": [
        "import numpy as np\n",
        "import math\n",
        "\n",
        "# 1. 原始数据\n",
        "salary = np.array([2200,2300,2400,2500,\n",
        "                   2500,2800,3000,3200,\n",
        "                   3500,3800,4000,4500,\n",
        "                   4700,4800,4900,5000])\n",
        "\n",
        "# 2. 等深分箱(假设要分成4箱，每箱4条数据)\n",
        "#   salary.size = 16, int(salary.size/4) = 4\n",
        "depth = salary.reshape(int(salary.size / 4), 4)\n",
        "print(\"等深分箱:\")\n",
        "print(depth)\n",
        "\n",
        "# ============ 均值平滑 ============\n",
        "mean_depth = np.full((depth.shape[0], depth.shape[1]), 0, dtype=float)\n",
        "for i in range(depth.shape[0]):\n",
        "    row_mean = depth[i].mean()  # 计算当前行（一个分箱）的均值\n",
        "    for j in range(depth.shape[1]):\n",
        "        mean_depth[i][j] = row_mean\n",
        "\n",
        "print(\"\\n等深分箱 -- 均值平滑:\")\n",
        "print(mean_depth)\n",
        "\n",
        "# ============ 中值平滑 ============\n",
        "median_depth = np.full((depth.shape[0], depth.shape[1]), 0, dtype=float)\n",
        "for i in range(depth.shape[0]):\n",
        "    row_median = np.median(depth[i])  # 计算当前行的中位数\n",
        "    for j in range(depth.shape[1]):\n",
        "        median_depth[i][j] = row_median\n",
        "\n",
        "print(\"\\n等深分箱 -- 中值平滑:\")\n",
        "print(median_depth)\n",
        "\n",
        "# ============ 边界值平滑 ============\n",
        "# 首先确定每个分箱的左右边界\n",
        "edge_depth = np.full((depth.shape[0], depth.shape[1]), 0, dtype=float)\n",
        "edge_left = np.zeros(depth.shape[0], dtype=float)\n",
        "edge_right = np.zeros(depth.shape[0], dtype=float)\n",
        "\n",
        "for i in range(depth.shape[0]):\n",
        "    edge_left[i] = depth[i][0]    # 该分箱的最左值\n",
        "    edge_right[i] = depth[i][-1]  # 该分箱的最右值\n",
        "\n",
        "# 根据距离最近原则进行边界平滑\n",
        "# 通常也会把“第 1 个元素直接用左边界，第 4 个元素直接用右边界”，中间元素则比较两边距离。\n",
        "for i in range(depth.shape[0]):\n",
        "    for j in range(depth.shape[1]):\n",
        "        if j == 0:\n",
        "            # 第 1 个元素，用左边界\n",
        "            edge_depth[i][j] = edge_left[i]\n",
        "        elif j == depth.shape[1] - 1:\n",
        "            # 最后 1 个元素，用右边界\n",
        "            edge_depth[i][j] = edge_right[i]\n",
        "        else:\n",
        "            # 中间元素，看它更接近左边界还是右边界\n",
        "            left_dist = (depth[i][j] - edge_left[i]) ** 2\n",
        "            right_dist = (depth[i][j] - edge_right[i]) ** 2\n",
        "            if left_dist <= right_dist:\n",
        "                edge_depth[i][j] = edge_left[i]\n",
        "            else:\n",
        "                edge_depth[i][j] = edge_right[i]\n",
        "\n",
        "print(\"\\n等深分箱 -- 边界值平滑:\")\n",
        "print(edge_depth)\n"
      ],
      "metadata": {
        "id": "0CLR20sQTzMj",
        "outputId": "3a058dd7-d533-4b83-f77f-55aeb3b464c3",
        "colab": {
          "base_uri": "https://localhost:8080/"
        }
      },
      "execution_count": 21,
      "outputs": [
        {
          "output_type": "stream",
          "name": "stdout",
          "text": [
            "等深分箱:\n",
            "[[2200 2300 2400 2500]\n",
            " [2500 2800 3000 3200]\n",
            " [3500 3800 4000 4500]\n",
            " [4700 4800 4900 5000]]\n",
            "\n",
            "等深分箱 -- 均值平滑:\n",
            "[[2350. 2350. 2350. 2350.]\n",
            " [2875. 2875. 2875. 2875.]\n",
            " [3950. 3950. 3950. 3950.]\n",
            " [4850. 4850. 4850. 4850.]]\n",
            "\n",
            "等深分箱 -- 中值平滑:\n",
            "[[2350. 2350. 2350. 2350.]\n",
            " [2900. 2900. 2900. 2900.]\n",
            " [3900. 3900. 3900. 3900.]\n",
            " [4850. 4850. 4850. 4850.]]\n",
            "\n",
            "等深分箱 -- 边界值平滑:\n",
            "[[2200. 2200. 2500. 2500.]\n",
            " [2500. 2500. 3200. 3200.]\n",
            " [3500. 3500. 3500. 4500.]\n",
            " [4700. 4700. 5000. 5000.]]\n"
          ]
        }
      ]
    },
    {
      "cell_type": "markdown",
      "source": [
        "# 6. 属性 A 和属性 B 的协方差与相关系数"
      ],
      "metadata": {
        "id": "E5-qfmulToQi"
      }
    },
    {
      "cell_type": "code",
      "source": [
        "import pandas as pd\n",
        "import numpy as np\n",
        "\n",
        "# 导入 pandas\n",
        "# 导入 NumPy\n",
        "a = [47, 83, 81, 18, 72, 41, 50, 66, 47, 20, 96, 21, 16, 60, 37, 59, 22, 16, 32, 63]\n",
        "# 属性A的值\n",
        "b = [56, 96, 84, 21, 87, 67, 43, 64, 85, 67, 68, 64, 95, 58, 56, 75, 6, 11, 68, 63]\n",
        "# 属性B的值\n",
        "data = np.array([a, b]).T\n",
        "# 数据转置\n",
        "dfab = pd.DataFrame(data, columns=['A','B'])\n",
        "# 转为 DataFrame 格式\n",
        "print('属性A和B的协方差:', dfab.A.cov(dfab.B))\n",
        "# 输出属性A和B的协方差\n",
        "print('属性A和B的相关系数:', dfab.A.corr(dfab.B))\n",
        "# 输出属性A和B的相关系数"
      ],
      "metadata": {
        "id": "StmE_VH1Tn5G",
        "outputId": "218dfe35-c2f1-43e2-feac-24e481a872f8",
        "colab": {
          "base_uri": "https://localhost:8080/"
        }
      },
      "execution_count": 4,
      "outputs": [
        {
          "output_type": "stream",
          "name": "stdout",
          "text": [
            "属性A和B的协方差: 310.2157894736842\n",
            "属性A和B的相关系数: 0.49924871046524394\n"
          ]
        }
      ]
    },
    {
      "cell_type": "markdown",
      "source": [
        "# 7"
      ],
      "metadata": {
        "id": "uCTB4UrFTk06"
      }
    },
    {
      "cell_type": "code",
      "source": [
        "from sklearn.preprocessing import MinMaxScaler\n",
        "from sklearn.datasets import load_iris\n",
        "\n",
        "# 导入MinMaxScaler包\n",
        "# 导入鸢尾花数据集\n",
        "iris=load_iris()\n",
        "# 提取前6个数据\n",
        "data=iris.data[0:6]\n",
        "\n",
        "print(data)\n",
        "# 输出未归一化的结果\n",
        "mms=MinMaxScaler().fit_transform(data)\n",
        "\n",
        "print(mms)\n",
        "# 输出归一化的结果"
      ],
      "metadata": {
        "id": "A3EQMMp8TkZN",
        "outputId": "2adc34a4-5dbc-4527-8cab-44bbb22ed8bb",
        "colab": {
          "base_uri": "https://localhost:8080/"
        }
      },
      "execution_count": 3,
      "outputs": [
        {
          "output_type": "stream",
          "name": "stdout",
          "text": [
            "[[5.1 3.5 1.4 0.2]\n",
            " [4.9 3.  1.4 0.2]\n",
            " [4.7 3.2 1.3 0.2]\n",
            " [4.6 3.1 1.5 0.2]\n",
            " [5.  3.6 1.4 0.2]\n",
            " [5.4 3.9 1.7 0.4]]\n",
            "[[0.625      0.55555556 0.25       0.        ]\n",
            " [0.375      0.         0.25       0.        ]\n",
            " [0.125      0.22222222 0.         0.        ]\n",
            " [0.         0.11111111 0.5        0.        ]\n",
            " [0.5        0.66666667 0.25       0.        ]\n",
            " [1.         1.         1.         1.        ]]\n"
          ]
        }
      ]
    },
    {
      "cell_type": "markdown",
      "source": [
        "# 8. Z-score 规范化"
      ],
      "metadata": {
        "id": "2oSRHdncTfcA"
      }
    },
    {
      "cell_type": "code",
      "source": [
        "from sklearn.preprocessing import StandardScaler\n",
        "from sklearn.datasets import load_iris\n",
        "\n",
        "iris = load_iris()\n",
        "data = iris.data[0:6]\n",
        "print(data)"
      ],
      "metadata": {
        "id": "WzWQFLxgTgP4",
        "outputId": "ef40dbe1-6b6d-4e88-8b46-146d4f9fbffa",
        "colab": {
          "base_uri": "https://localhost:8080/"
        }
      },
      "execution_count": 5,
      "outputs": [
        {
          "output_type": "stream",
          "name": "stdout",
          "text": [
            "[[5.1 3.5 1.4 0.2]\n",
            " [4.9 3.  1.4 0.2]\n",
            " [4.7 3.2 1.3 0.2]\n",
            " [4.6 3.1 1.5 0.2]\n",
            " [5.  3.6 1.4 0.2]\n",
            " [5.4 3.9 1.7 0.4]]\n"
          ]
        }
      ]
    },
    {
      "cell_type": "markdown",
      "source": [
        "# 9. 方差筛选法"
      ],
      "metadata": {
        "id": "vhNDcnGeTcLW"
      }
    },
    {
      "cell_type": "code",
      "source": [
        "from sklearn.feature_selection import VarianceThreshold\n",
        "from sklearn.datasets import load_iris\n",
        "\n",
        "iris = load_iris()\n",
        "\n",
        "print(\"\\n原始数据:\\n\",iris.data[0:5]) #输出原始数据\n",
        "\n",
        "x_var=VarianceThreshold(threshold=0.5).fit_transform(iris.data)\n",
        "print(\"方差筛选法过滤后数据\\n\",format(x_var[0:5])) #输出方差筛选法过滤后的数据"
      ],
      "metadata": {
        "id": "DWqaUi_GTbzY",
        "outputId": "bf78e7a4-1207-40e7-a7e3-3442f8e5ff2a",
        "colab": {
          "base_uri": "https://localhost:8080/"
        }
      },
      "execution_count": 6,
      "outputs": [
        {
          "output_type": "stream",
          "name": "stdout",
          "text": [
            "\n",
            "原始数据:\n",
            " [[5.1 3.5 1.4 0.2]\n",
            " [4.9 3.  1.4 0.2]\n",
            " [4.7 3.2 1.3 0.2]\n",
            " [4.6 3.1 1.5 0.2]\n",
            " [5.  3.6 1.4 0.2]]\n",
            "方差筛选法过滤后数据\n",
            " [[5.1 1.4 0.2]\n",
            " [4.9 1.4 0.2]\n",
            " [4.7 1.3 0.2]\n",
            " [4.6 1.5 0.2]\n",
            " [5.  1.4 0.2]]\n"
          ]
        }
      ]
    },
    {
      "cell_type": "markdown",
      "source": [
        "# 10. 数据替换"
      ],
      "metadata": {
        "id": "oA0ycJ3UTVf0"
      }
    },
    {
      "cell_type": "code",
      "source": [
        "import re\n",
        "\n",
        "address = \"江苏省徐州市鼓楼区幸福路碧园小区19栋18号1单元202室\" #定义数据\n",
        "\n",
        "address=re.sub('[0-9]','*',address)   #对地址中的数据进行替换\n",
        "\n",
        "pattern = \"区(.*?)路(.*?)小区\"   #设置正则表达式\n",
        "\n",
        "pat=re.findall(pattern,address)[0][::-1]   #查找反序中的字符\n",
        "\n",
        "for i in pat:  #遍历字符\n",
        "    if i in address:  #判断字符在address中\n",
        "        address=address.replace(i,'*') #字符替换\n",
        "\n",
        "print(address)  #输出结果"
      ],
      "metadata": {
        "id": "UzXRHuO2TVKT",
        "outputId": "dd457ff7-ca0c-4d76-f07e-b57dd52a9c75",
        "colab": {
          "base_uri": "https://localhost:8080/"
        }
      },
      "execution_count": 7,
      "outputs": [
        {
          "output_type": "stream",
          "name": "stdout",
          "text": [
            "江苏省徐州市鼓楼区*路*小区**栋**号*单元***室\n"
          ]
        }
      ]
    },
    {
      "cell_type": "markdown",
      "source": [
        "# 12"
      ],
      "metadata": {
        "id": "ZusFDi8mTGIb"
      }
    },
    {
      "cell_type": "code",
      "source": [
        "import numpy as np\n",
        "\n",
        "# 创建一个二维数组\n",
        "a = np.array([[1, 2], [3, 4]])\n",
        "print('数组a: {}'.format(a))\n",
        "\n",
        "# 输出数组a的类型\n",
        "print('数组a的类型为:{}'.format(type(a)))\n",
        "\n",
        "# 输出数组a元素的类型\n",
        "print('数组a元素的类型: {}'.format(type(a[0][0])))\n",
        "\n",
        "# 输出数组a的维度\n",
        "print('数组a的维度为: {}'.format(a.ndim))\n",
        "\n",
        "# 设置数组中元素的类型\n",
        "b = np.array([1, 2, 3, 4, 5], dtype=np.float64)\n",
        "print('数组b: {}'.format(b))\n",
        "\n",
        "# 输出数组b的类型\n",
        "print('数组b的类型为: {}'.format(type(b)))\n",
        "\n",
        "# 输出数组b的维度\n",
        "print('数组b的维度为: {}'.format(b.ndim))\n",
        "\n",
        "# 创建一个三维数组\n",
        "c = np.array([[1, 2, 3, 4, 5]])\n",
        "print('数组c: {}'.format(c))\n"
      ],
      "metadata": {
        "id": "BkDSCBFYREeZ",
        "outputId": "99f4bd0b-a18d-482b-ecf2-2a0f943b59af",
        "colab": {
          "base_uri": "https://localhost:8080/"
        }
      },
      "execution_count": null,
      "outputs": [
        {
          "output_type": "stream",
          "name": "stdout",
          "text": [
            "数组a: [[1 2]\n",
            " [3 4]]\n",
            "数组a的类型为:<class 'numpy.ndarray'>\n",
            "数组a元素的类型: <class 'numpy.int64'>\n",
            "数组a的维度为: 2\n",
            "数组b: [1. 2. 3. 4. 5.]\n",
            "数组b的类型为: <class 'numpy.ndarray'>\n",
            "数组b的维度为: 1\n",
            "数组c: [[1 2 3 4 5]]\n"
          ]
        }
      ]
    },
    {
      "cell_type": "markdown",
      "source": [
        "# 13"
      ],
      "metadata": {
        "id": "SkObaswOS_KT"
      }
    },
    {
      "cell_type": "code",
      "source": [
        "import numpy as np\n",
        "\n",
        "a = np.zeros(5)\n",
        "print('数组a为: {}'.format(a))\n",
        "\n",
        "b = np.ones(5)\n",
        "print('数组b为: {}'.format(b))\n",
        "\n",
        "c = np.zeros((2, 2))\n",
        "print('数组c为: {}'.format(c))\n",
        "\n",
        "d = np.ones((2, 2))\n",
        "print('数组d为: {}'.format(d))\n",
        "\n",
        "e = np.eye(3)\n",
        "print('数组e为: {}'.format(e))\n",
        "\n",
        "f = np.arange(0, 10, 2)\n",
        "print('数组f为: {}'.format(f))\n",
        "\n",
        "g = np.full((4, 4), 6)\n",
        "print('数组g为: {}'.format(g))\n",
        "\n",
        "h = np.empty((3, 2))\n",
        "print('数组h为: {}'.format(h))\n"
      ],
      "metadata": {
        "id": "USPJaKSYSr8e",
        "outputId": "12047431-c0d2-4209-93ad-388daa8fb314",
        "colab": {
          "base_uri": "https://localhost:8080/"
        }
      },
      "execution_count": null,
      "outputs": [
        {
          "output_type": "stream",
          "name": "stdout",
          "text": [
            "数组a为: [0. 0. 0. 0. 0.]\n",
            "数组b为: [1. 1. 1. 1. 1.]\n",
            "数组c为: [[0. 0.]\n",
            " [0. 0.]]\n",
            "数组d为: [[1. 1.]\n",
            " [1. 1.]]\n",
            "数组e为: [[1. 0. 0.]\n",
            " [0. 1. 0.]\n",
            " [0. 0. 1.]]\n",
            "数组f为: [0 2 4 6 8]\n",
            "数组g为: [[6 6 6 6]\n",
            " [6 6 6 6]\n",
            " [6 6 6 6]\n",
            " [6 6 6 6]]\n",
            "数组h为: [[7.35460957e-316 0.00000000e+000]\n",
            " [2.14321575e-312 1.63041663e-322]\n",
            " [7.36550772e-316 6.81607814e-310]]\n"
          ]
        }
      ]
    },
    {
      "cell_type": "markdown",
      "source": [
        "# 14"
      ],
      "metadata": {
        "id": "VKTU2LkdS1kt"
      }
    },
    {
      "cell_type": "code",
      "source": [
        "import numpy as np\n",
        "a = np.array([2,1,1,2])\n",
        "b = np.array([2,1,1,2])\n",
        "print('两个相同形状的数组a,b相加:')\n",
        "c = a + b\n",
        "print('{}+{}={}'.format(a,b,c))\n",
        "print('两个相同形状的数组a,b相减:')\n",
        "c = a - b\n",
        "print('{}-{}={}'.format(a,b,c))\n",
        "print('两个相同形状的数组a,b相乘:')\n",
        "c = a * b\n",
        "print('{}*{}={}'.format(a,b,c))\n",
        "print('两个相同形状的数组a,b相除:')\n",
        "c = a / b\n",
        "print('{}/{}={}'.format(a,b,c))\n",
        "print('数组a的相反数:')\n",
        "print(-a)\n",
        "print('数组a的平方:')\n",
        "print(a**2)\n",
        "print('数组a的按位异或:')\n",
        "print(a^b)\n"
      ],
      "metadata": {
        "id": "j-tk_afxS043",
        "outputId": "5c7267bb-13ef-464e-ff15-5b9b6d9ce3fd",
        "colab": {
          "base_uri": "https://localhost:8080/"
        }
      },
      "execution_count": 20,
      "outputs": [
        {
          "output_type": "stream",
          "name": "stdout",
          "text": [
            "两个相同形状的数组a,b相加:\n",
            "[2 1 1 2]+[2 1 1 2]=[4 2 2 4]\n",
            "两个相同形状的数组a,b相减:\n",
            "[2 1 1 2]-[2 1 1 2]=[0 0 0 0]\n",
            "两个相同形状的数组a,b相乘:\n",
            "[2 1 1 2]*[2 1 1 2]=[4 1 1 4]\n",
            "两个相同形状的数组a,b相除:\n",
            "[2 1 1 2]/[2 1 1 2]=[1. 1. 1. 1.]\n",
            "数组a的相反数:\n",
            "[-2 -1 -1 -2]\n",
            "数组a的平方:\n",
            "[4 1 1 4]\n",
            "数组a的按位异或:\n",
            "[0 0 0 0]\n"
          ]
        }
      ]
    },
    {
      "cell_type": "markdown",
      "source": [
        "# 15"
      ],
      "metadata": {
        "id": "4jiwSzn6SiIp"
      }
    },
    {
      "cell_type": "code",
      "source": [
        "import numpy as np\n",
        "\n",
        "a = np.array([2, 1, 1, 2])\n",
        "b = np.array([2, 1, 1, 2])\n",
        "print('两个相同形状的数组a,b相加:')\n",
        "c = a + b\n",
        "print('{} + {} = {}'.format(a, b, c))\n",
        "print('两个相同形状的数组a,b相减:')\n",
        "c = a - b\n",
        "print('{} - {} = {}'.format(a, b, c))\n",
        "print('两个相同形状的数组a,b相乘:')\n",
        "c = a * b\n",
        "print('{} * {} = {}'.format(a, b, c))\n",
        "print('两个相同形状的数组a,b相除:')\n",
        "c = a / b\n",
        "print('{} / {} = {}'.format(a, b, c))\n",
        "print('数组a的相反数:')\n",
        "print(-a)\n",
        "print('数组a的平方:')\n",
        "print(a**2)\n",
        "print('数组a的按位异或:')\n",
        "print(a^b)\n"
      ],
      "metadata": {
        "id": "il4F_4z1VjEG",
        "outputId": "cbe21ff6-c45d-4d32-f6ba-ea4e2867415b",
        "colab": {
          "base_uri": "https://localhost:8080/"
        }
      },
      "execution_count": null,
      "outputs": [
        {
          "output_type": "stream",
          "name": "stdout",
          "text": [
            "两个相同形状的数组a,b相加:\n",
            "[2 1 1 2] + [2 1 1 2] = [4 2 2 4]\n",
            "两个相同形状的数组a,b相减:\n",
            "[2 1 1 2] - [2 1 1 2] = [0 0 0 0]\n",
            "两个相同形状的数组a,b相乘:\n",
            "[2 1 1 2] * [2 1 1 2] = [4 1 1 4]\n",
            "两个相同形状的数组a,b相除:\n",
            "[2 1 1 2] / [2 1 1 2] = [1. 1. 1. 1.]\n",
            "数组a的相反数:\n",
            "[-2 -1 -1 -2]\n",
            "数组a的平方:\n",
            "[4 1 1 4]\n",
            "数组a的按位异或:\n",
            "[0 0 0 0]\n"
          ]
        }
      ]
    },
    {
      "cell_type": "markdown",
      "source": [
        "# 16"
      ],
      "metadata": {
        "id": "1yG7gV9hSdD3"
      }
    },
    {
      "cell_type": "code",
      "source": [
        "import numpy as np\n",
        "\n",
        "a = np.array([[1, 1, 2, 2], [3, 3, 4, 4]])\n",
        "print('数组a : {}'.format(a))\n",
        "print('取数组a[1,3]的数据 : {}'.format(a[1,3]))\n",
        "\n",
        "a[1,3] = 666\n",
        "print('更改后的数组a : {}'.format(a))\n",
        "\n",
        "b = a[:, :2]\n",
        "print('数组b : {}'.format(b))\n"
      ],
      "metadata": {
        "id": "zgvDCk-OYZD7",
        "outputId": "cbf9060f-3983-436e-be56-f781160cfcbb",
        "colab": {
          "base_uri": "https://localhost:8080/"
        }
      },
      "execution_count": 2,
      "outputs": [
        {
          "output_type": "stream",
          "name": "stdout",
          "text": [
            "数组a : [[1 1 2 2]\n",
            " [3 3 4 4]]\n",
            "取数组a[1,3]的数据 : 4\n",
            "更改后的数组a : [[  1   1   2   2]\n",
            " [  3   3   4 666]]\n",
            "数组b : [[1 1]\n",
            " [3 3]]\n"
          ]
        }
      ]
    },
    {
      "cell_type": "markdown",
      "source": [
        "# 17"
      ],
      "metadata": {
        "id": "oKnx-JLYSJaR"
      }
    },
    {
      "cell_type": "code",
      "source": [
        "import numpy as np\n",
        "\n",
        "array_2d = np.arange(1, 10).reshape((3, 3))\n",
        "print(array_2d)\n",
        "# 访问索引为[0, 2]的元素\n",
        "print(array_2d[[0, 2]])\n",
        "\n",
        "# 使用两个花式索引访问元素\n",
        "print(array_2d[[0, 2], [1, 1]])\n"
      ],
      "metadata": {
        "id": "X-78-VZFSI2k",
        "outputId": "8f2faf2b-0044-418f-eec1-119938f206fd",
        "colab": {
          "base_uri": "https://localhost:8080/"
        }
      },
      "execution_count": 19,
      "outputs": [
        {
          "output_type": "stream",
          "name": "stdout",
          "text": [
            "[[1 2 3]\n",
            " [4 5 6]\n",
            " [7 8 9]]\n",
            "[[1 2 3]\n",
            " [7 8 9]]\n",
            "[2 8]\n"
          ]
        }
      ]
    },
    {
      "cell_type": "markdown",
      "source": [
        "# 18"
      ],
      "metadata": {
        "id": "b0pR1zedSCG2"
      }
    },
    {
      "cell_type": "code",
      "source": [
        "import numpy as np\n",
        "arr_2d = np.array([[1, 2, 3], [4, 5, 6], [7, 8, 9]])\n",
        "print(arr_2d)\n",
        "print(arr_2d[:2])\n",
        "print(arr_2d[2, 0:1])\n",
        "print(arr_2d[2, 1:])\n"
      ],
      "metadata": {
        "id": "FoZT7u_-SBzO",
        "outputId": "47dfc7d1-c32f-4cb6-f0c0-859245cfec1f",
        "colab": {
          "base_uri": "https://localhost:8080/"
        }
      },
      "execution_count": 18,
      "outputs": [
        {
          "output_type": "stream",
          "name": "stdout",
          "text": [
            "[[1 2 3]\n",
            " [4 5 6]\n",
            " [7 8 9]]\n",
            "[[1 2 3]\n",
            " [4 5 6]]\n",
            "[7]\n",
            "[8 9]\n"
          ]
        }
      ]
    },
    {
      "cell_type": "markdown",
      "source": [
        "# 19"
      ],
      "metadata": {
        "id": "G8-BEkbTR2Ok"
      }
    },
    {
      "cell_type": "code",
      "source": [
        "import numpy as np\n",
        "import pandas as pd\n",
        "s = pd.Series([1, 2, 3])\n",
        "print(s)\n",
        "print('使用一维数组创建Series')\n",
        "arr = np.array([1, 2, 3])  # 一维数组\n",
        "ys = pd.Series(arr)\n",
        "print(ys)\n",
        "print('使用字典创建Series')\n",
        "dic = {\"index1\": 1, \"index2\": 2, \"index3\": 3}\n",
        "ds = pd.Series(dic)\n",
        "print(ds)\n",
        "print('使用标量创建Series')\n",
        "bs = pd.Series(10)\n",
        "print(bs)\n"
      ],
      "metadata": {
        "id": "eECml74YR1tg",
        "outputId": "6d5ec5ac-b344-444f-e795-a60b0f41537f",
        "colab": {
          "base_uri": "https://localhost:8080/"
        }
      },
      "execution_count": 17,
      "outputs": [
        {
          "output_type": "stream",
          "name": "stdout",
          "text": [
            "0    1\n",
            "1    2\n",
            "2    3\n",
            "dtype: int64\n",
            "使用一维数组创建Series\n",
            "0    1\n",
            "1    2\n",
            "2    3\n",
            "dtype: int64\n",
            "使用字典创建Series\n",
            "index1    1\n",
            "index2    2\n",
            "index3    3\n",
            "dtype: int64\n",
            "使用标量创建Series\n",
            "0    10\n",
            "dtype: int64\n"
          ]
        }
      ]
    },
    {
      "cell_type": "markdown",
      "source": [
        "# 20"
      ],
      "metadata": {
        "id": "auGzaGUERvqM"
      }
    },
    {
      "cell_type": "code",
      "source": [
        "import pandas as pd\n",
        "import numpy as np\n",
        "print(\"由Series组成的字典创建DataFrame\")\n",
        "data2 = {'a': pd.Series(np.random.rand(3)),\n",
        "         'b': pd.Series(np.random.rand(4)),\n",
        "         'c': pd.Series(np.random.rand(5))}\n",
        "df2 = pd.DataFrame(data2)\n",
        "print(df2)\n"
      ],
      "metadata": {
        "id": "hkI_b9BPRu5G",
        "outputId": "08c91437-a185-4960-d1e6-c0cc7acb3a17",
        "colab": {
          "base_uri": "https://localhost:8080/"
        }
      },
      "execution_count": 15,
      "outputs": [
        {
          "output_type": "stream",
          "name": "stdout",
          "text": [
            "由Series组成的字典创建DataFrame\n",
            "          a         b         c\n",
            "0  0.289125  0.595944  0.988483\n",
            "1  0.958288  0.440776  0.772403\n",
            "2  0.707241  0.389404  0.370199\n",
            "3       NaN  0.505913  0.641038\n",
            "4       NaN       NaN  0.300318\n"
          ]
        }
      ]
    },
    {
      "cell_type": "markdown",
      "source": [
        "# 21. 数据分组"
      ],
      "metadata": {
        "id": "ji-_RvXDRq2V"
      }
    },
    {
      "cell_type": "code",
      "source": [
        "import pandas as pd\n",
        "\n",
        "# 创建DataFrame\n",
        "df = pd.DataFrame({\n",
        "    '班级': ['A', 'B', 'A', 'B'],\n",
        "    '姓名': ['小红', '小明', '小李', '小夏'],\n",
        "    '语文': [90, 80, 64, 71],\n",
        "    '数学': [94, 81, 62, 51],\n",
        "    '英语': [98, 82, 64, 61],\n",
        "    '评价': ['优秀', '优秀', '合格', '合格']\n",
        "})\n",
        "\n",
        "# 按评价列分组\n",
        "grouped = df.groupby('评价')\n",
        "\n",
        "# 输出结果\n",
        "print(\"输出df\")\n",
        "print(df)\n",
        "print(\"\\n以下为分组后的输出\")\n",
        "print(grouped.get_group('优秀'))\n"
      ],
      "metadata": {
        "id": "bSGek5BeRgo-",
        "outputId": "1a436e03-d640-4549-8be1-41bc5f6eebcf",
        "colab": {
          "base_uri": "https://localhost:8080/"
        }
      },
      "execution_count": 12,
      "outputs": [
        {
          "output_type": "stream",
          "name": "stdout",
          "text": [
            "输出df\n",
            "  班级  姓名  语文  数学  英语  评价\n",
            "0  A  小红  90  94  98  优秀\n",
            "1  B  小明  80  81  82  优秀\n",
            "2  A  小李  64  62  64  合格\n",
            "3  B  小夏  71  51  61  合格\n",
            "\n",
            "以下为分组后的输出\n",
            "  班级  姓名  语文  数学  英语  评价\n",
            "0  A  小红  90  94  98  优秀\n",
            "1  B  小明  80  81  82  优秀\n"
          ]
        }
      ]
    }
  ],
  "metadata": {
    "kernelspec": {
      "display_name": "Python 3",
      "language": "python",
      "name": "python3"
    },
    "language_info": {
      "codemirror_mode": {
        "name": "ipython",
        "version": 3
      },
      "file_extension": ".py",
      "mimetype": "text/x-python",
      "name": "python",
      "nbconvert_exporter": "python",
      "pygments_lexer": "ipython3",
      "version": "3.7.6"
    },
    "colab": {
      "provenance": []
    }
  },
  "nbformat": 4,
  "nbformat_minor": 0
}