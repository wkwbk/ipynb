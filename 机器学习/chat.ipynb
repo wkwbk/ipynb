{
 "cells": [
  {
   "cell_type": "markdown",
   "metadata": {
    "id": "H-f2ntBmjt2l"
   },
   "source": [
    "# Chat"
   ]
  },
  {
   "cell_type": "code",
   "execution_count": null,
   "metadata": {
    "colab": {
     "base_uri": "https://localhost:8080/"
    },
    "executionInfo": {
     "elapsed": 30936,
     "status": "ok",
     "timestamp": 1743413728187,
     "user": {
      "displayName": "LI SIR",
      "userId": "15670714357063824435"
     },
     "user_tz": -480
    },
    "id": "64KPEH8IjZPz",
    "outputId": "c8586940-b0c1-411a-904b-11bab51b3da4"
   },
   "outputs": [
    {
     "name": "stdout",
     "output_type": "stream",
     "text": [
      "欢迎使用聊天机器人！输入'退出'结束对话。\n",
      "\n",
      "用户: 你好\n",
      "\n",
      "助手: 你好！有什么我可以帮你的吗？\n",
      "\n",
      "用户: 退出\n"
     ]
    }
   ],
   "source": [
    "from openai import OpenAI\n",
    "from typing import List\n",
    "\n",
    "# 创建客户端实例\n",
    "client = OpenAI(\n",
    "    api_key=\"\",\n",
    "    base_url=\"https://generativelanguage.googleapis.com/v1beta/openai/\"\n",
    ")\n",
    "\n",
    "class ChatBot:\n",
    "    def __init__(self):\n",
    "        self.conversation_history: List[dict] = []\n",
    "        self.model = \"gemini-2.0-flash-thinking-exp\"\n",
    "\n",
    "    def chat(self, user_input: str) -> str:\n",
    "        # 将用户输入添加到对话历史\n",
    "        self.conversation_history.append({\n",
    "            \"role\": \"user\",\n",
    "            \"content\": user_input\n",
    "        })\n",
    "\n",
    "        try:\n",
    "            # 使用新版API进行对话\n",
    "            response = client.chat.completions.create(\n",
    "                model=self.model,\n",
    "                messages=self.conversation_history,\n",
    "                temperature=0.7\n",
    "            )\n",
    "\n",
    "            # 获取助手的回复\n",
    "            assistant_response = response.choices[0].message.content\n",
    "\n",
    "            # 将助手的回复添加到对话历史\n",
    "            self.conversation_history.append({\n",
    "                \"role\": \"assistant\",\n",
    "                \"content\": assistant_response\n",
    "            })\n",
    "\n",
    "            return assistant_response\n",
    "\n",
    "        except Exception as e:\n",
    "            return f\"发生错误: {str(e)}\"\n",
    "\n",
    "def main():\n",
    "    chatbot = ChatBot()\n",
    "    print(\"欢迎使用聊天机器人！输入'退出'结束对话。\")\n",
    "\n",
    "    while True:\n",
    "        user_input = input(\"\\n用户: \")\n",
    "        if user_input.lower() in ['退出', 'quit', 'exit']:\n",
    "            break\n",
    "\n",
    "        response = chatbot.chat(user_input)\n",
    "        print(f\"\\n助手: {response}\")\n",
    "\n",
    "if __name__ == \"__main__\":\n",
    "    main()\n"
   ]
  }
 ],
 "metadata": {
  "colab": {
   "authorship_tag": "ABX9TyO35ETRYPEtEowJve8lDXIu",
   "provenance": []
  },
  "kernelspec": {
   "display_name": "Python 3",
   "name": "python3"
  },
  "language_info": {
   "name": "python"
  }
 },
 "nbformat": 4,
 "nbformat_minor": 0
}
