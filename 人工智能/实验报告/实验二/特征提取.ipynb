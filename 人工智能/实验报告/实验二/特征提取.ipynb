{
 "cells": [
  {
   "cell_type": "markdown",
   "metadata": {},
   "source": [
    "# 使用Python进行图像特征提取\n",
    "\n",
    "本notebook介绍使用Python进行图像特征提取的几种常用技术，包括归一化、边缘检测、图像滤波和直方图均衡化。"
   ]
  },
  {
   "cell_type": "markdown",
   "metadata": {},
   "source": [
    "## 1. 图像预处理简介\n",
    "\n",
    "图像预处理是根据需要对图像进行改变以进行进一步处理的过程。例如，对于二进制分类，灰度图像就足够了，但对于多类分类，将需要RGB图像。预处理的主要目的是:\n",
    "\n",
    "*   降噪:使用各种降噪技术从图像中去除不需要的噪声。\n",
    "*   对比度增强:提高对比度，使特征更加明显\n",
    "*   归一化:将像素值缩放到标准范围。\n",
    "*   调整大小和裁剪:调整图像大小，因为数据集中的某些图像将具有不同的大小。"
   ]
  },
  {
   "cell_type": "markdown",
   "metadata": {},
   "source": [
    "## 2. 用于图像预处理的Python库\n",
    "\n",
    "下面的Python库是常用的库:\n",
    "\n",
    "*   OpenCV\n",
    "*   pillow (PIL)\n",
    "*   scikit-image\n",
    "*   NumPy"
   ]
  },
  {
   "cell_type": "code",
   "execution_count": null,
   "metadata": {},
   "outputs": [],
   "source": [
    "# 导入必要的库\n",
    "from PIL import Image\n",
    "import matplotlib.pyplot as plt\n",
    "import cv2\n",
    "import numpy as np"
   ]
  },
  {
   "cell_type": "markdown",
   "metadata": {},
   "source": [
    "## 3. 基本图像操作\n",
    "\n",
    "下面是使用Python的常见图像预处理技术。示例中我使用了一个名为 `1.jpeg` 的单一图像进行预处理，因为它可以清楚地显示每种技术的输出效果。\n",
    "\n",
    "**请注意**: 你需要将名为 `1.jpeg` 的图像文件放到当前目录下，才能运行以下代码。"
   ]
  },
  {
   "cell_type": "markdown",
   "metadata": {},
   "source": [
    "*a. 加载和显示图像"
   ]
  },
  {
   "cell_type": "code",
   "execution_count": null,
   "metadata": {},
   "outputs": [],
   "source": [
    "# Load an image using PIL\n",
    "try:\n",
    "    image1 = Image.open('1.jpeg')\n",
    "    #Load the same image using open-cv\n",
    "    image = cv2.imread('1.jpeg')\n",
    "\n",
    "    # Display the image\n",
    "    plt.figure(figsize=(10, 5))\n",
    "    plt.subplot(1, 2, 1)\n",
    "    plt.imshow(image1)\n",
    "    plt.title('PIL Image')\n",
    "    plt.axis('off')  # Hide axis\n",
    "\n",
    "    plt.subplot(1, 2, 2)\n",
    "    # OpenCV读取的图像是BGR格式，需要转换为RGB格式才能正确显示\n",
    "    image_rgb = cv2.cvtColor(image, cv2.COLOR_BGR2RGB)\n",
    "    plt.imshow(image_rgb)\n",
    "    plt.title('OpenCV Image')\n",
    "    plt.axis('off')  # Hide axis\n",
    "\n",
    "    plt.show()\n",
    "\n",
    "except FileNotFoundError:\n",
    "    print(\"Error: The image file '1.jpeg' was not found.  Make sure it is in the current directory.\")"
   ]
  },
  {
   "cell_type": "markdown",
   "metadata": {},
   "source": [
    "*b. 调整图像大小"
   ]
  },
  {
   "cell_type": "code",
   "execution_count": null,
   "metadata": {},
   "outputs": [],
   "source": [
    "# Resize the image using PIL\n",
    "try:\n",
    "    resized_image = image1.resize((256, 256))\n",
    "    plt.figure(figsize=(5, 5))\n",
    "    plt.imshow(resized_image)\n",
    "    plt.title('Resized Image (PIL)')\n",
    "    plt.axis('off')\n",
    "    plt.show()\n",
    "\n",
    "    # Resize the image using OpenCV\n",
    "    fixed_size = (256, 256)\n",
    "    img = cv2.resize(image, fixed_size)\n",
    "    img_rgb = cv2.cvtColor(img, cv2.COLOR_BGR2RGB) # convert BGR to RGB for displaying correctly\n",
    "    plt.figure(figsize=(5, 5))\n",
    "    plt.imshow(img_rgb)\n",
    "    plt.title('Resized Image (OpenCV)')\n",
    "    plt.axis('off')\n",
    "    plt.show()\n",
    "except NameError:\n",
    "    print(\"Error: The image might not have been loaded.  Please ensure '1.jpeg' is present and run the loading cell first.\")\n",
    "except FileNotFoundError:\n",
    "    print(\"Error: The image file '1.jpeg' was not found.  Make sure it is in the current directory.\")"
   ]
  },
  {
   "cell_type": "markdown",
   "metadata": {},
   "source": [
    "*c. 转换为灰度"
   ]
  },
  {
   "cell_type": "code",
   "execution_count": null,
   "metadata": {},
   "outputs": [],
   "source": [
    "# Convert image to grayscale using PIL\n",
    "try:\n",
    "    gray_image_pil = image1.convert('L')\n",
    "    plt.figure(figsize=(5, 5))\n",
    "    plt.imshow(gray_image_pil, cmap='gray')\n",
    "    plt.title('Grayscale Image (PIL)')\n",
    "    plt.axis('off')\n",
    "    plt.show()\n",
    "\n",
    "    # Convert image to grayscale using OpenCV\n",
    "    gray_image_cv = cv2.cvtColor(image, cv2.COLOR_BGR2GRAY)\n",
    "    plt.figure(figsize=(5, 5))\n",
    "    plt.imshow(gray_image_cv, cmap='gray')\n",
    "    plt.title('Grayscale Image (OpenCV)')\n",
    "    plt.axis('off')\n",
    "    plt.show()\n",
    "except NameError:\n",
    "    print(\"Error: The image might not have been loaded.  Please ensure '1.jpeg' is present and run the loading cell first.\")\n",
    "except FileNotFoundError:\n",
    "    print(\"Error: The image file '1.jpeg' was not found.  Make sure it is in the current directory.\")"
   ]
  },
  {
   "cell_type": "markdown",
   "metadata": {},
   "source": [
    "*d. 归一化"
   ]
  },
  {
   "cell_type": "code",
   "execution_count": null,
   "metadata": {},
   "outputs": [],
   "source": [
    "# Convert image to a NumPy array and normalize\n",
    "try:\n",
    "    image_array = np.array(image)\n",
    "    normalized_image = image_array / 255.0\n",
    "\n",
    "    plt.figure(figsize=(5, 5))\n",
    "    plt.imshow(normalized_image)\n",
    "    plt.title('Normalized Image')\n",
    "    plt.axis('off')\n",
    "    plt.show()\n",
    "except NameError:\n",
    "    print(\"Error: The image might not have been loaded.  Please ensure '1.jpeg' is present and run the loading cell first.\")\n",
    "except FileNotFoundError:\n",
    "    print(\"Error: The image file '1.jpeg' was not found.  Make sure it is in the current directory.\")"
   ]
  },
  {
   "cell_type": "markdown",
   "metadata": {},
   "source": [
    "## 4. 高级图像处理技术\n",
    "\n",
    "*a. 边缘检测"
   ]
  },
  {
   "cell_type": "code",
   "execution_count": null,
   "metadata": {},
   "outputs": [],
   "source": [
    "# Apply Canny edge detection\n",
    "try:\n",
    "    edges = cv2.Canny(gray_image_cv, 100, 200)\n",
    "    plt.figure(figsize=(5, 5))\n",
    "    plt.imshow(edges, cmap='gray')\n",
    "    plt.title('Canny Edge Detection')\n",
    "    plt.axis('off')\n",
    "    plt.show()\n",
    "except NameError:\n",
    "    print(\"Error: The image might not have been loaded.  Please ensure '1.jpeg' is present and run the loading cell first.\")\n",
    "except FileNotFoundError:\n",
    "    print(\"Error: The image file '1.jpeg' was not found.  Make sure it is in the current directory.\")"
   ]
  },
  {
   "cell_type": "markdown",
   "metadata": {},
   "source": [
    "*b. 图像滤波"
   ]
  },
  {
   "cell_type": "code",
   "execution_count": null,
   "metadata": {},
   "outputs": [],
   "source": [
    "# Apply Gaussian blur\n",
    "try:\n",
    "    rgb_image = cv2.cvtColor(image, cv2.COLOR_BGR2RGB)\n",
    "    blurred_image = cv2.GaussianBlur(np.array(rgb_image), (5, 5), 0)\n",
    "    plt.figure(figsize=(5, 5))\n",
    "    plt.imshow(blurred_image)\n",
    "    plt.title('Gaussian Blur')\n",
    "    plt.axis('off')\n",
    "    plt.show()\n",
    "except NameError:\n",
    "    print(\"Error: The image might not have been loaded.  Please ensure '1.jpeg' is present and run the loading cell first.\")\n",
    "except FileNotFoundError:\n",
    "    print(\"Error: The image file '1.jpeg' was not found.  Make sure it is in the current directory.\")"
   ]
  },
  {
   "cell_type": "markdown",
   "metadata": {},
   "source": [
    "*c. 直方图均衡"
   ]
  },
  {
   "cell_type": "code",
   "execution_count": null,
   "metadata": {},
   "outputs": [],
   "source": [
    "# Equalize the histogram of the grayscale image\n",
    "try:\n",
    "    equalized_image = cv2.equalizeHist(gray_image_cv)\n",
    "    plt.figure(figsize=(5, 5))\n",
    "    plt.imshow(equalized_image, cmap='gray')\n",
    "    plt.title('Histogram Equalization')\n",
    "    plt.axis('off')\n",
    "    plt.show()\n",
    "except NameError:\n",
    "    print(\"Error: The image might not have been loaded.  Please ensure '1.jpeg' is present and run the loading cell first.\")\n",
    "except FileNotFoundError:\n",
    "    print(\"Error: The image file '1.jpeg' was not found.  Make sure it is in the current directory.\")"
   ]
  },
  {
   "cell_type": "markdown",
   "metadata": {},
   "source": [
    "## 结论\n",
    "\n",
    "以上是使用的一些基本图像预处理技术。 这是一个快速指南，在预处理图像时还有很多东西需要探索。对图像进行预处理后，可以进一步进行增强、分割、特征提取、特征选择和分类。"
   ]
  }
 ],
 "metadata": {
  "kernelspec": {
   "display_name": "Python 3",
   "language": "python",
   "name": "python3"
  },
  "language_info": {
   "codemirror_mode": {
    "name": "ipython",
    "version": 3
   },
   "file_extension": ".py",
   "mimetype": "text/x-python",
   "name": "python",
   "nbconvert_exporter": "python",
   "pygments_lexer": "ipython3",
   "version": "3.9.12"
  }
 },
 "nbformat": 4,
 "nbformat_minor": 5
}
