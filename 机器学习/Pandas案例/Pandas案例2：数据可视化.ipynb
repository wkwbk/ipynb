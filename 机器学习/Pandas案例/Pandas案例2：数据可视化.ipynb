{
  "cells": [
    {
      "cell_type": "markdown",
      "id": "b0a1c07c",
      "metadata": {
        "id": "b0a1c07c"
      },
      "source": [
        "# 案例2: 使用Pandas对图书评分数据可视化"
      ]
    },
    {
      "cell_type": "markdown",
      "id": "812373a5",
      "metadata": {
        "id": "812373a5"
      },
      "source": [
        "### 1. 折线图（查看前10本书的平均得分）"
      ]
    },
    {
      "cell_type": "code",
      "source": [
        "!wget https://github.com/wkwbk/ipynb/raw/main/%E6%9C%BA%E5%99%A8%E5%AD%A6%E4%B9%A0/Pandas%E6%A1%88%E4%BE%8B/rating.txt"
      ],
      "metadata": {
        "id": "T1hvLK06bHed",
        "outputId": "b079e15f-bfc4-4c3b-a2cf-8a3e32ada3f6",
        "colab": {
          "base_uri": "https://localhost:8080/"
        }
      },
      "id": "T1hvLK06bHed",
      "execution_count": 1,
      "outputs": [
        {
          "output_type": "stream",
          "name": "stdout",
          "text": [
            "--2025-04-15 07:49:26--  https://github.com/wkwbk/ipynb/raw/main/%E6%9C%BA%E5%99%A8%E5%AD%A6%E4%B9%A0/Pandas%E6%A1%88%E4%BE%8B/rating.txt\n",
            "Resolving github.com (github.com)... 140.82.113.3\n",
            "Connecting to github.com (github.com)|140.82.113.3|:443... connected.\n",
            "HTTP request sent, awaiting response... 302 Found\n",
            "Location: https://raw.githubusercontent.com/wkwbk/ipynb/main/%E6%9C%BA%E5%99%A8%E5%AD%A6%E4%B9%A0/Pandas%E6%A1%88%E4%BE%8B/rating.txt [following]\n",
            "--2025-04-15 07:49:26--  https://raw.githubusercontent.com/wkwbk/ipynb/main/%E6%9C%BA%E5%99%A8%E5%AD%A6%E4%B9%A0/Pandas%E6%A1%88%E4%BE%8B/rating.txt\n",
            "Resolving raw.githubusercontent.com (raw.githubusercontent.com)... 185.199.108.133, 185.199.109.133, 185.199.110.133, ...\n",
            "Connecting to raw.githubusercontent.com (raw.githubusercontent.com)|185.199.108.133|:443... connected.\n",
            "HTTP request sent, awaiting response... 200 OK\n",
            "Length: 72126803 (69M) [text/plain]\n",
            "Saving to: ‘rating.txt’\n",
            "\n",
            "rating.txt          100%[===================>]  68.79M  89.9MB/s    in 0.8s    \n",
            "\n",
            "2025-04-15 07:49:27 (89.9 MB/s) - ‘rating.txt’ saved [72126803/72126803]\n",
            "\n"
          ]
        }
      ]
    },
    {
      "cell_type": "code",
      "execution_count": 2,
      "id": "af10dc55",
      "metadata": {
        "scrolled": true,
        "id": "af10dc55",
        "outputId": "fcdd606a-4271-442d-8e12-fd19bee4f51b",
        "colab": {
          "base_uri": "https://localhost:8080/",
          "height": 489
        }
      },
      "outputs": [
        {
          "output_type": "execute_result",
          "data": {
            "text/plain": [
              "图书ID\n",
              "1        4.279707\n",
              "2        4.351350\n",
              "3        3.214341\n",
              "4        4.329369\n",
              "5        3.772224\n",
              "           ...   \n",
              "9996     4.014184\n",
              "9997     4.451613\n",
              "9998     4.323529\n",
              "9999     3.707692\n",
              "10000    4.009009\n",
              "Name: 评分, Length: 10000, dtype: float64"
            ],
            "text/html": [
              "<div>\n",
              "<style scoped>\n",
              "    .dataframe tbody tr th:only-of-type {\n",
              "        vertical-align: middle;\n",
              "    }\n",
              "\n",
              "    .dataframe tbody tr th {\n",
              "        vertical-align: top;\n",
              "    }\n",
              "\n",
              "    .dataframe thead th {\n",
              "        text-align: right;\n",
              "    }\n",
              "</style>\n",
              "<table border=\"1\" class=\"dataframe\">\n",
              "  <thead>\n",
              "    <tr style=\"text-align: right;\">\n",
              "      <th></th>\n",
              "      <th>评分</th>\n",
              "    </tr>\n",
              "    <tr>\n",
              "      <th>图书ID</th>\n",
              "      <th></th>\n",
              "    </tr>\n",
              "  </thead>\n",
              "  <tbody>\n",
              "    <tr>\n",
              "      <th>1</th>\n",
              "      <td>4.279707</td>\n",
              "    </tr>\n",
              "    <tr>\n",
              "      <th>2</th>\n",
              "      <td>4.351350</td>\n",
              "    </tr>\n",
              "    <tr>\n",
              "      <th>3</th>\n",
              "      <td>3.214341</td>\n",
              "    </tr>\n",
              "    <tr>\n",
              "      <th>4</th>\n",
              "      <td>4.329369</td>\n",
              "    </tr>\n",
              "    <tr>\n",
              "      <th>5</th>\n",
              "      <td>3.772224</td>\n",
              "    </tr>\n",
              "    <tr>\n",
              "      <th>...</th>\n",
              "      <td>...</td>\n",
              "    </tr>\n",
              "    <tr>\n",
              "      <th>9996</th>\n",
              "      <td>4.014184</td>\n",
              "    </tr>\n",
              "    <tr>\n",
              "      <th>9997</th>\n",
              "      <td>4.451613</td>\n",
              "    </tr>\n",
              "    <tr>\n",
              "      <th>9998</th>\n",
              "      <td>4.323529</td>\n",
              "    </tr>\n",
              "    <tr>\n",
              "      <th>9999</th>\n",
              "      <td>3.707692</td>\n",
              "    </tr>\n",
              "    <tr>\n",
              "      <th>10000</th>\n",
              "      <td>4.009009</td>\n",
              "    </tr>\n",
              "  </tbody>\n",
              "</table>\n",
              "<p>10000 rows × 1 columns</p>\n",
              "</div><br><label><b>dtype:</b> float64</label>"
            ]
          },
          "metadata": {},
          "execution_count": 2
        }
      ],
      "source": [
        "import pandas as pd\n",
        "\n",
        "data=pd.read_csv('rating.txt',header=None,names=['读者ID','图书ID','评分'])\n",
        "result=data.groupby('图书ID')['评分'].mean()\n",
        "result"
      ]
    },
    {
      "cell_type": "code",
      "execution_count": 14,
      "id": "7dff23a9",
      "metadata": {
        "id": "7dff23a9",
        "outputId": "59a72175-8b37-45ae-d8f5-13df79553afc",
        "colab": {
          "base_uri": "https://localhost:8080/",
          "height": 429
        }
      },
      "outputs": [
        {
          "output_type": "execute_result",
          "data": {
            "text/plain": [
              "图书ID\n",
              "1     4.279707\n",
              "2     4.351350\n",
              "3     3.214341\n",
              "4     4.329369\n",
              "5     3.772224\n",
              "6     4.190696\n",
              "7     4.148477\n",
              "8     3.710406\n",
              "9     3.604416\n",
              "10    4.186984\n",
              "Name: 评分, dtype: float64"
            ],
            "text/html": [
              "<div>\n",
              "<style scoped>\n",
              "    .dataframe tbody tr th:only-of-type {\n",
              "        vertical-align: middle;\n",
              "    }\n",
              "\n",
              "    .dataframe tbody tr th {\n",
              "        vertical-align: top;\n",
              "    }\n",
              "\n",
              "    .dataframe thead th {\n",
              "        text-align: right;\n",
              "    }\n",
              "</style>\n",
              "<table border=\"1\" class=\"dataframe\">\n",
              "  <thead>\n",
              "    <tr style=\"text-align: right;\">\n",
              "      <th></th>\n",
              "      <th>评分</th>\n",
              "    </tr>\n",
              "    <tr>\n",
              "      <th>图书ID</th>\n",
              "      <th></th>\n",
              "    </tr>\n",
              "  </thead>\n",
              "  <tbody>\n",
              "    <tr>\n",
              "      <th>1</th>\n",
              "      <td>4.279707</td>\n",
              "    </tr>\n",
              "    <tr>\n",
              "      <th>2</th>\n",
              "      <td>4.351350</td>\n",
              "    </tr>\n",
              "    <tr>\n",
              "      <th>3</th>\n",
              "      <td>3.214341</td>\n",
              "    </tr>\n",
              "    <tr>\n",
              "      <th>4</th>\n",
              "      <td>4.329369</td>\n",
              "    </tr>\n",
              "    <tr>\n",
              "      <th>5</th>\n",
              "      <td>3.772224</td>\n",
              "    </tr>\n",
              "    <tr>\n",
              "      <th>6</th>\n",
              "      <td>4.190696</td>\n",
              "    </tr>\n",
              "    <tr>\n",
              "      <th>7</th>\n",
              "      <td>4.148477</td>\n",
              "    </tr>\n",
              "    <tr>\n",
              "      <th>8</th>\n",
              "      <td>3.710406</td>\n",
              "    </tr>\n",
              "    <tr>\n",
              "      <th>9</th>\n",
              "      <td>3.604416</td>\n",
              "    </tr>\n",
              "    <tr>\n",
              "      <th>10</th>\n",
              "      <td>4.186984</td>\n",
              "    </tr>\n",
              "  </tbody>\n",
              "</table>\n",
              "</div><br><label><b>dtype:</b> float64</label>"
            ]
          },
          "metadata": {},
          "execution_count": 14
        }
      ],
      "source": [
        "result[:10]"
      ]
    },
    {
      "cell_type": "code",
      "execution_count": 15,
      "id": "9423d039",
      "metadata": {
        "id": "9423d039",
        "outputId": "ef21e0db-6bab-435b-915e-52a4f2c9251b",
        "colab": {
          "base_uri": "https://localhost:8080/",
          "height": 466
        }
      },
      "outputs": [
        {
          "output_type": "execute_result",
          "data": {
            "text/plain": [
              "<Axes: xlabel='图书ID'>"
            ]
          },
          "metadata": {},
          "execution_count": 15
        },
        {
          "output_type": "display_data",
          "data": {
            "text/plain": [
              "<Figure size 640x480 with 1 Axes>"
            ],
            "image/png": "[encoded data removed]"
          },
          "metadata": {}
        }
      ],
      "source": [
        "result[:10].plot()"
      ]
    },
    {
      "cell_type": "markdown",
      "id": "9608e177",
      "metadata": {
        "id": "9608e177"
      },
      "source": [
        "### 解决中文乱码问题"
      ]
    },
    {
      "cell_type": "markdown",
      "id": "74bcedeb",
      "metadata": {
        "id": "74bcedeb"
      },
      "source": [
        "#### 查看本机字体集"
      ]
    },
    {
      "cell_type": "code",
      "execution_count": 16,
      "id": "6e65999a",
      "metadata": {
        "id": "6e65999a",
        "outputId": "fc136f9e-5c1a-48e1-d96a-3e4e34746596",
        "colab": {
          "base_uri": "https://localhost:8080/"
        }
      },
      "outputs": [
        {
          "output_type": "stream",
          "name": "stdout",
          "text": [
            "DejaVu Sans\n",
            "DejaVu Sans\n",
            "DejaVu Sans\n",
            "DejaVu Sans\n",
            "DejaVu Sans Display\n",
            "DejaVu Sans Mono\n",
            "DejaVu Sans Mono\n",
            "DejaVu Sans Mono\n",
            "DejaVu Sans Mono\n",
            "DejaVu Serif\n",
            "DejaVu Serif\n",
            "DejaVu Serif\n",
            "DejaVu Serif\n",
            "DejaVu Serif Display\n",
            "Humor Sans\n",
            "Liberation Mono\n",
            "Liberation Mono\n",
            "Liberation Mono\n",
            "Liberation Mono\n",
            "Liberation Sans\n",
            "Liberation Sans\n",
            "Liberation Sans\n",
            "Liberation Sans\n",
            "Liberation Sans Narrow\n",
            "Liberation Sans Narrow\n",
            "Liberation Sans Narrow\n",
            "Liberation Sans Narrow\n",
            "Liberation Serif\n",
            "Liberation Serif\n",
            "Liberation Serif\n",
            "Liberation Serif\n",
            "STIXGeneral\n",
            "STIXGeneral\n",
            "STIXGeneral\n",
            "STIXGeneral\n",
            "STIXNonUnicode\n",
            "STIXNonUnicode\n",
            "STIXNonUnicode\n",
            "STIXNonUnicode\n",
            "STIXSizeFiveSym\n",
            "STIXSizeFourSym\n",
            "STIXSizeFourSym\n",
            "STIXSizeOneSym\n",
            "STIXSizeOneSym\n",
            "STIXSizeThreeSym\n",
            "STIXSizeThreeSym\n",
            "STIXSizeTwoSym\n",
            "STIXSizeTwoSym\n",
            "SimHei\n",
            "cmb10\n",
            "cmex10\n",
            "cmmi10\n",
            "cmr10\n",
            "cmss10\n",
            "cmsy10\n",
            "cmtt10\n"
          ]
        }
      ],
      "source": [
        "import matplotlib.font_manager\n",
        "\n",
        "a=sorted([f.name for f in matplotlib.font_manager.fontManager.ttflist])\n",
        "for i in a:\n",
        "    print(i)"
      ]
    },
    {
      "cell_type": "code",
      "source": [
        "!wget https://github.com/wkwbk/ipynb/raw/main/%E6%95%B0%E6%8D%AE%E9%87%87%E9%9B%86/SimHei.ttf"
      ],
      "metadata": {
        "id": "4-EN79T0bY2z",
        "outputId": "70cee0b1-0d7b-4cd5-d1ed-6805e99b72ba",
        "colab": {
          "base_uri": "https://localhost:8080/"
        }
      },
      "id": "4-EN79T0bY2z",
      "execution_count": 4,
      "outputs": [
        {
          "output_type": "stream",
          "name": "stdout",
          "text": [
            "--2025-04-15 07:50:50--  https://github.com/wkwbk/ipynb/raw/main/%E6%95%B0%E6%8D%AE%E9%87%87%E9%9B%86/SimHei.ttf\n",
            "Resolving github.com (github.com)... 140.82.112.4\n",
            "Connecting to github.com (github.com)|140.82.112.4|:443... connected.\n",
            "HTTP request sent, awaiting response... 302 Found\n",
            "Location: https://raw.githubusercontent.com/wkwbk/ipynb/main/%E6%95%B0%E6%8D%AE%E9%87%87%E9%9B%86/SimHei.ttf [following]\n",
            "--2025-04-15 07:50:51--  https://raw.githubusercontent.com/wkwbk/ipynb/main/%E6%95%B0%E6%8D%AE%E9%87%87%E9%9B%86/SimHei.ttf\n",
            "Resolving raw.githubusercontent.com (raw.githubusercontent.com)... 185.199.108.133, 185.199.109.133, 185.199.110.133, ...\n",
            "Connecting to raw.githubusercontent.com (raw.githubusercontent.com)|185.199.108.133|:443... connected.\n",
            "HTTP request sent, awaiting response... 200 OK\n",
            "Length: 9751960 (9.3M) [application/octet-stream]\n",
            "Saving to: ‘SimHei.ttf’\n",
            "\n",
            "SimHei.ttf          100%[===================>]   9.30M  --.-KB/s    in 0.03s   \n",
            "\n",
            "2025-04-15 07:50:51 (309 MB/s) - ‘SimHei.ttf’ saved [9751960/9751960]\n",
            "\n"
          ]
        }
      ]
    },
    {
      "cell_type": "code",
      "source": [
        "import matplotlib.font_manager as fm\n",
        "\n",
        "fm.fontManager.addfont('./SimHei.ttf')"
      ],
      "metadata": {
        "id": "uW7Vja9ebakM"
      },
      "id": "uW7Vja9ebakM",
      "execution_count": 5,
      "outputs": []
    },
    {
      "cell_type": "code",
      "execution_count": 6,
      "id": "42eb0991",
      "metadata": {
        "scrolled": true,
        "id": "42eb0991",
        "outputId": "cc7efb63-b1d8-436a-fcfe-8f76a5fa0224",
        "colab": {
          "base_uri": "https://localhost:8080/",
          "height": 466
        }
      },
      "outputs": [
        {
          "output_type": "execute_result",
          "data": {
            "text/plain": [
              "<Axes: xlabel='图书ID'>"
            ]
          },
          "metadata": {},
          "execution_count": 6
        },
        {
          "output_type": "display_data",
          "data": {
            "text/plain": [
              "<Figure size 640x480 with 1 Axes>"
            ],
            "image/png": "[encoded data removed]"
          },
          "metadata": {}
        }
      ],
      "source": [
        "import matplotlib.pyplot as plt\n",
        "\n",
        "plt.rcParams['font.sans-serif'] = ['SimHei']  # 修改为本机中任意中文字体以正常显示中文标签\n",
        "plt.rcParams['axes.unicode_minus'] = False    # 用来正常显示负号\n",
        "result[:10].plot()"
      ]
    },
    {
      "cell_type": "markdown",
      "id": "63af41fd",
      "metadata": {
        "id": "63af41fd"
      },
      "source": [
        "### 完整代码："
      ]
    },
    {
      "cell_type": "code",
      "execution_count": 7,
      "id": "67a5088c",
      "metadata": {
        "id": "67a5088c",
        "outputId": "a7d230ba-d4ec-4601-d982-526fe190b674",
        "colab": {
          "base_uri": "https://localhost:8080/",
          "height": 466
        }
      },
      "outputs": [
        {
          "output_type": "execute_result",
          "data": {
            "text/plain": [
              "<Axes: xlabel='图书ID'>"
            ]
          },
          "metadata": {},
          "execution_count": 7
        },
        {
          "output_type": "display_data",
          "data": {
            "text/plain": [
              "<Figure size 640x480 with 1 Axes>"
            ],
            "image/png": "[encoded data removed]"
          },
          "metadata": {}
        }
      ],
      "source": [
        "import pandas as pd\n",
        "import matplotlib.pyplot as plt\n",
        "\n",
        "plt.rcParams['font.sans-serif'] = ['SimHei']  # 用来正常显示中文标签\n",
        "plt.rcParams['axes.unicode_minus'] = False    # 用来正常显示负号\n",
        "data=pd.read_csv('rating.txt',header=None,names=['读者ID','图书ID','评分'])\n",
        "result[:10].plot()"
      ]
    },
    {
      "cell_type": "markdown",
      "id": "fa4879bf",
      "metadata": {
        "id": "fa4879bf"
      },
      "source": [
        "### 2. 直方图（统计所有书的平均评分的分布情况）"
      ]
    },
    {
      "cell_type": "code",
      "execution_count": 9,
      "id": "7da79b05",
      "metadata": {
        "scrolled": true,
        "id": "7da79b05",
        "outputId": "fd7f9885-4ffb-4af6-9765-5fac86cb9cbc",
        "colab": {
          "base_uri": "https://localhost:8080/",
          "height": 489
        }
      },
      "outputs": [
        {
          "output_type": "execute_result",
          "data": {
            "text/plain": [
              "图书ID\n",
              "1        4.279707\n",
              "2        4.351350\n",
              "3        3.214341\n",
              "4        4.329369\n",
              "5        3.772224\n",
              "           ...   \n",
              "9996     4.014184\n",
              "9997     4.451613\n",
              "9998     4.323529\n",
              "9999     3.707692\n",
              "10000    4.009009\n",
              "Name: 评分, Length: 10000, dtype: float64"
            ],
            "text/html": [
              "<div>\n",
              "<style scoped>\n",
              "    .dataframe tbody tr th:only-of-type {\n",
              "        vertical-align: middle;\n",
              "    }\n",
              "\n",
              "    .dataframe tbody tr th {\n",
              "        vertical-align: top;\n",
              "    }\n",
              "\n",
              "    .dataframe thead th {\n",
              "        text-align: right;\n",
              "    }\n",
              "</style>\n",
              "<table border=\"1\" class=\"dataframe\">\n",
              "  <thead>\n",
              "    <tr style=\"text-align: right;\">\n",
              "      <th></th>\n",
              "      <th>评分</th>\n",
              "    </tr>\n",
              "    <tr>\n",
              "      <th>图书ID</th>\n",
              "      <th></th>\n",
              "    </tr>\n",
              "  </thead>\n",
              "  <tbody>\n",
              "    <tr>\n",
              "      <th>1</th>\n",
              "      <td>4.279707</td>\n",
              "    </tr>\n",
              "    <tr>\n",
              "      <th>2</th>\n",
              "      <td>4.351350</td>\n",
              "    </tr>\n",
              "    <tr>\n",
              "      <th>3</th>\n",
              "      <td>3.214341</td>\n",
              "    </tr>\n",
              "    <tr>\n",
              "      <th>4</th>\n",
              "      <td>4.329369</td>\n",
              "    </tr>\n",
              "    <tr>\n",
              "      <th>5</th>\n",
              "      <td>3.772224</td>\n",
              "    </tr>\n",
              "    <tr>\n",
              "      <th>...</th>\n",
              "      <td>...</td>\n",
              "    </tr>\n",
              "    <tr>\n",
              "      <th>9996</th>\n",
              "      <td>4.014184</td>\n",
              "    </tr>\n",
              "    <tr>\n",
              "      <th>9997</th>\n",
              "      <td>4.451613</td>\n",
              "    </tr>\n",
              "    <tr>\n",
              "      <th>9998</th>\n",
              "      <td>4.323529</td>\n",
              "    </tr>\n",
              "    <tr>\n",
              "      <th>9999</th>\n",
              "      <td>3.707692</td>\n",
              "    </tr>\n",
              "    <tr>\n",
              "      <th>10000</th>\n",
              "      <td>4.009009</td>\n",
              "    </tr>\n",
              "  </tbody>\n",
              "</table>\n",
              "<p>10000 rows × 1 columns</p>\n",
              "</div><br><label><b>dtype:</b> float64</label>"
            ]
          },
          "metadata": {},
          "execution_count": 9
        }
      ],
      "source": [
        "import pandas as pd\n",
        "\n",
        "data=pd.read_csv('rating.txt',header=None,names=['读者ID','图书ID','评分'])\n",
        "result=data.groupby('图书ID')['评分'].mean()\n",
        "result"
      ]
    },
    {
      "cell_type": "code",
      "execution_count": 8,
      "id": "71fe6d1d",
      "metadata": {
        "scrolled": true,
        "id": "71fe6d1d",
        "outputId": "3c9de424-c361-4128-8d83-fd4901584cd7",
        "colab": {
          "base_uri": "https://localhost:8080/",
          "height": 446
        }
      },
      "outputs": [
        {
          "output_type": "execute_result",
          "data": {
            "text/plain": [
              "<Axes: ylabel='Frequency'>"
            ]
          },
          "metadata": {},
          "execution_count": 8
        },
        {
          "output_type": "display_data",
          "data": {
            "text/plain": [
              "<Figure size 640x480 with 1 Axes>"
            ],
            "image/png": "[encoded data removed]"
          },
          "metadata": {}
        }
      ],
      "source": [
        "result.plot(kind='hist')"
      ]
    },
    {
      "cell_type": "markdown",
      "id": "992467d2",
      "metadata": {
        "id": "992467d2"
      },
      "source": [
        "### 完整代码："
      ]
    },
    {
      "cell_type": "code",
      "execution_count": 10,
      "id": "d19dae6e",
      "metadata": {
        "id": "d19dae6e",
        "outputId": "b811346e-6fe8-42ae-b78d-8facc4912409",
        "colab": {
          "base_uri": "https://localhost:8080/",
          "height": 446
        }
      },
      "outputs": [
        {
          "output_type": "execute_result",
          "data": {
            "text/plain": [
              "<Axes: ylabel='Frequency'>"
            ]
          },
          "metadata": {},
          "execution_count": 10
        },
        {
          "output_type": "display_data",
          "data": {
            "text/plain": [
              "<Figure size 640x480 with 1 Axes>"
            ],
            "image/png": "[encoded data removed]"
          },
          "metadata": {}
        }
      ],
      "source": [
        "import pandas as pd\n",
        "\n",
        "data=pd.read_csv('rating.txt',header=None,names=['读者ID','图书ID','评分'])\n",
        "result=data.groupby('图书ID')['评分'].mean()\n",
        "result.plot(kind='hist')"
      ]
    },
    {
      "cell_type": "markdown",
      "id": "80e202e4",
      "metadata": {
        "id": "80e202e4"
      },
      "source": [
        "### 3. 柱状图（统计评分人数最多的前10本书）"
      ]
    },
    {
      "cell_type": "code",
      "execution_count": 17,
      "id": "0feed330",
      "metadata": {
        "scrolled": true,
        "id": "0feed330",
        "outputId": "9ea5afd4-a893-4102-e060-f16a2610207d",
        "colab": {
          "base_uri": "https://localhost:8080/",
          "height": 458
        }
      },
      "outputs": [
        {
          "output_type": "execute_result",
          "data": {
            "text/plain": [
              "0           258\n",
              "1          4081\n",
              "2           260\n",
              "3          9296\n",
              "4          2318\n",
              "           ... \n",
              "5976474     510\n",
              "5976475     528\n",
              "5976476     722\n",
              "5976477     949\n",
              "5976478    1023\n",
              "Name: 图书ID, Length: 5976479, dtype: int64"
            ],
            "text/html": [
              "<div>\n",
              "<style scoped>\n",
              "    .dataframe tbody tr th:only-of-type {\n",
              "        vertical-align: middle;\n",
              "    }\n",
              "\n",
              "    .dataframe tbody tr th {\n",
              "        vertical-align: top;\n",
              "    }\n",
              "\n",
              "    .dataframe thead th {\n",
              "        text-align: right;\n",
              "    }\n",
              "</style>\n",
              "<table border=\"1\" class=\"dataframe\">\n",
              "  <thead>\n",
              "    <tr style=\"text-align: right;\">\n",
              "      <th></th>\n",
              "      <th>图书ID</th>\n",
              "    </tr>\n",
              "  </thead>\n",
              "  <tbody>\n",
              "    <tr>\n",
              "      <th>0</th>\n",
              "      <td>258</td>\n",
              "    </tr>\n",
              "    <tr>\n",
              "      <th>1</th>\n",
              "      <td>4081</td>\n",
              "    </tr>\n",
              "    <tr>\n",
              "      <th>2</th>\n",
              "      <td>260</td>\n",
              "    </tr>\n",
              "    <tr>\n",
              "      <th>3</th>\n",
              "      <td>9296</td>\n",
              "    </tr>\n",
              "    <tr>\n",
              "      <th>4</th>\n",
              "      <td>2318</td>\n",
              "    </tr>\n",
              "    <tr>\n",
              "      <th>...</th>\n",
              "      <td>...</td>\n",
              "    </tr>\n",
              "    <tr>\n",
              "      <th>5976474</th>\n",
              "      <td>510</td>\n",
              "    </tr>\n",
              "    <tr>\n",
              "      <th>5976475</th>\n",
              "      <td>528</td>\n",
              "    </tr>\n",
              "    <tr>\n",
              "      <th>5976476</th>\n",
              "      <td>722</td>\n",
              "    </tr>\n",
              "    <tr>\n",
              "      <th>5976477</th>\n",
              "      <td>949</td>\n",
              "    </tr>\n",
              "    <tr>\n",
              "      <th>5976478</th>\n",
              "      <td>1023</td>\n",
              "    </tr>\n",
              "  </tbody>\n",
              "</table>\n",
              "<p>5976479 rows × 1 columns</p>\n",
              "</div><br><label><b>dtype:</b> int64</label>"
            ]
          },
          "metadata": {},
          "execution_count": 17
        }
      ],
      "source": [
        "import pandas as pd\n",
        "\n",
        "data=pd.read_csv('rating.txt',header=None,names=['读者ID','图书ID','评分'])\n",
        "data['图书ID']"
      ]
    },
    {
      "cell_type": "code",
      "execution_count": 18,
      "id": "8f1b1dec",
      "metadata": {
        "id": "8f1b1dec",
        "outputId": "bdc4927b-bf41-4fae-81e1-6c90e5d0e140",
        "colab": {
          "base_uri": "https://localhost:8080/",
          "height": 489
        }
      },
      "outputs": [
        {
          "output_type": "execute_result",
          "data": {
            "text/plain": [
              "图书ID\n",
              "1       22806\n",
              "2       21850\n",
              "4       19088\n",
              "3       16931\n",
              "5       16604\n",
              "        ...  \n",
              "9315       36\n",
              "1935       33\n",
              "9486       24\n",
              "9345       11\n",
              "7803        8\n",
              "Name: count, Length: 10000, dtype: int64"
            ],
            "text/html": [
              "<div>\n",
              "<style scoped>\n",
              "    .dataframe tbody tr th:only-of-type {\n",
              "        vertical-align: middle;\n",
              "    }\n",
              "\n",
              "    .dataframe tbody tr th {\n",
              "        vertical-align: top;\n",
              "    }\n",
              "\n",
              "    .dataframe thead th {\n",
              "        text-align: right;\n",
              "    }\n",
              "</style>\n",
              "<table border=\"1\" class=\"dataframe\">\n",
              "  <thead>\n",
              "    <tr style=\"text-align: right;\">\n",
              "      <th></th>\n",
              "      <th>count</th>\n",
              "    </tr>\n",
              "    <tr>\n",
              "      <th>图书ID</th>\n",
              "      <th></th>\n",
              "    </tr>\n",
              "  </thead>\n",
              "  <tbody>\n",
              "    <tr>\n",
              "      <th>1</th>\n",
              "      <td>22806</td>\n",
              "    </tr>\n",
              "    <tr>\n",
              "      <th>2</th>\n",
              "      <td>21850</td>\n",
              "    </tr>\n",
              "    <tr>\n",
              "      <th>4</th>\n",
              "      <td>19088</td>\n",
              "    </tr>\n",
              "    <tr>\n",
              "      <th>3</th>\n",
              "      <td>16931</td>\n",
              "    </tr>\n",
              "    <tr>\n",
              "      <th>5</th>\n",
              "      <td>16604</td>\n",
              "    </tr>\n",
              "    <tr>\n",
              "      <th>...</th>\n",
              "      <td>...</td>\n",
              "    </tr>\n",
              "    <tr>\n",
              "      <th>9315</th>\n",
              "      <td>36</td>\n",
              "    </tr>\n",
              "    <tr>\n",
              "      <th>1935</th>\n",
              "      <td>33</td>\n",
              "    </tr>\n",
              "    <tr>\n",
              "      <th>9486</th>\n",
              "      <td>24</td>\n",
              "    </tr>\n",
              "    <tr>\n",
              "      <th>9345</th>\n",
              "      <td>11</td>\n",
              "    </tr>\n",
              "    <tr>\n",
              "      <th>7803</th>\n",
              "      <td>8</td>\n",
              "    </tr>\n",
              "  </tbody>\n",
              "</table>\n",
              "<p>10000 rows × 1 columns</p>\n",
              "</div><br><label><b>dtype:</b> int64</label>"
            ]
          },
          "metadata": {},
          "execution_count": 18
        }
      ],
      "source": [
        "data['图书ID'].value_counts()"
      ]
    },
    {
      "cell_type": "code",
      "execution_count": 19,
      "id": "c78bb37a",
      "metadata": {
        "id": "c78bb37a",
        "outputId": "ba4b8d70-505a-435a-9acc-86a80408f1fa",
        "colab": {
          "base_uri": "https://localhost:8080/",
          "height": 429
        }
      },
      "outputs": [
        {
          "output_type": "execute_result",
          "data": {
            "text/plain": [
              "图书ID\n",
              "1     22806\n",
              "2     21850\n",
              "4     19088\n",
              "3     16931\n",
              "5     16604\n",
              "17    16549\n",
              "20    15953\n",
              "18    15855\n",
              "23    15657\n",
              "7     15558\n",
              "Name: count, dtype: int64"
            ],
            "text/html": [
              "<div>\n",
              "<style scoped>\n",
              "    .dataframe tbody tr th:only-of-type {\n",
              "        vertical-align: middle;\n",
              "    }\n",
              "\n",
              "    .dataframe tbody tr th {\n",
              "        vertical-align: top;\n",
              "    }\n",
              "\n",
              "    .dataframe thead th {\n",
              "        text-align: right;\n",
              "    }\n",
              "</style>\n",
              "<table border=\"1\" class=\"dataframe\">\n",
              "  <thead>\n",
              "    <tr style=\"text-align: right;\">\n",
              "      <th></th>\n",
              "      <th>count</th>\n",
              "    </tr>\n",
              "    <tr>\n",
              "      <th>图书ID</th>\n",
              "      <th></th>\n",
              "    </tr>\n",
              "  </thead>\n",
              "  <tbody>\n",
              "    <tr>\n",
              "      <th>1</th>\n",
              "      <td>22806</td>\n",
              "    </tr>\n",
              "    <tr>\n",
              "      <th>2</th>\n",
              "      <td>21850</td>\n",
              "    </tr>\n",
              "    <tr>\n",
              "      <th>4</th>\n",
              "      <td>19088</td>\n",
              "    </tr>\n",
              "    <tr>\n",
              "      <th>3</th>\n",
              "      <td>16931</td>\n",
              "    </tr>\n",
              "    <tr>\n",
              "      <th>5</th>\n",
              "      <td>16604</td>\n",
              "    </tr>\n",
              "    <tr>\n",
              "      <th>17</th>\n",
              "      <td>16549</td>\n",
              "    </tr>\n",
              "    <tr>\n",
              "      <th>20</th>\n",
              "      <td>15953</td>\n",
              "    </tr>\n",
              "    <tr>\n",
              "      <th>18</th>\n",
              "      <td>15855</td>\n",
              "    </tr>\n",
              "    <tr>\n",
              "      <th>23</th>\n",
              "      <td>15657</td>\n",
              "    </tr>\n",
              "    <tr>\n",
              "      <th>7</th>\n",
              "      <td>15558</td>\n",
              "    </tr>\n",
              "  </tbody>\n",
              "</table>\n",
              "</div><br><label><b>dtype:</b> int64</label>"
            ]
          },
          "metadata": {},
          "execution_count": 19
        }
      ],
      "source": [
        "data['图书ID'].value_counts()[:10]"
      ]
    },
    {
      "cell_type": "code",
      "execution_count": 11,
      "id": "4736efe4",
      "metadata": {
        "id": "4736efe4",
        "outputId": "b90e3ee4-9b9a-4620-a51a-f9873599d950",
        "colab": {
          "base_uri": "https://localhost:8080/",
          "height": 465
        }
      },
      "outputs": [
        {
          "output_type": "execute_result",
          "data": {
            "text/plain": [
              "<Axes: xlabel='图书ID'>"
            ]
          },
          "metadata": {},
          "execution_count": 11
        },
        {
          "output_type": "display_data",
          "data": {
            "text/plain": [
              "<Figure size 640x480 with 1 Axes>"
            ],
            "image/png": "[encoded data removed]"
          },
          "metadata": {}
        }
      ],
      "source": [
        "data['图书ID'].value_counts()[:10].plot(kind='bar')"
      ]
    },
    {
      "cell_type": "markdown",
      "id": "ec513ee9",
      "metadata": {
        "id": "ec513ee9"
      },
      "source": [
        "### 完整代码："
      ]
    },
    {
      "cell_type": "code",
      "execution_count": 12,
      "id": "0659aaf9",
      "metadata": {
        "id": "0659aaf9",
        "outputId": "a586327b-aab1-4969-e9ad-671003e64d69",
        "colab": {
          "base_uri": "https://localhost:8080/",
          "height": 465
        }
      },
      "outputs": [
        {
          "output_type": "execute_result",
          "data": {
            "text/plain": [
              "<Axes: xlabel='图书ID'>"
            ]
          },
          "metadata": {},
          "execution_count": 12
        },
        {
          "output_type": "display_data",
          "data": {
            "text/plain": [
              "<Figure size 640x480 with 1 Axes>"
            ],
            "image/png": "[encoded data removed]"
          },
          "metadata": {}
        }
      ],
      "source": [
        "import pandas as pd\n",
        "\n",
        "data=pd.read_csv('rating.txt',header=None,names=['读者ID','图书ID','评分'])\n",
        "data['图书ID'].value_counts()[:10].plot(kind='bar')"
      ]
    },
    {
      "cell_type": "markdown",
      "id": "b55b3769",
      "metadata": {
        "id": "b55b3769"
      },
      "source": [
        "### 4. 饼图（统计某本书的评分的分布情况）"
      ]
    },
    {
      "cell_type": "code",
      "execution_count": null,
      "id": "e5eeef25",
      "metadata": {
        "id": "e5eeef25",
        "outputId": "eba14741-c3be-42f3-e311-9f1bdcd347a6"
      },
      "outputs": [
        {
          "data": {
            "text/html": [
              "<div>\n",
              "<style scoped>\n",
              "    .dataframe tbody tr th:only-of-type {\n",
              "        vertical-align: middle;\n",
              "    }\n",
              "\n",
              "    .dataframe tbody tr th {\n",
              "        vertical-align: top;\n",
              "    }\n",
              "\n",
              "    .dataframe thead th {\n",
              "        text-align: right;\n",
              "    }\n",
              "</style>\n",
              "<table border=\"1\" class=\"dataframe\">\n",
              "  <thead>\n",
              "    <tr style=\"text-align: right;\">\n",
              "      <th></th>\n",
              "      <th>读者ID</th>\n",
              "      <th>图书ID</th>\n",
              "      <th>评分</th>\n",
              "    </tr>\n",
              "  </thead>\n",
              "  <tbody>\n",
              "    <tr>\n",
              "      <td>0</td>\n",
              "      <td>1</td>\n",
              "      <td>258</td>\n",
              "      <td>5</td>\n",
              "    </tr>\n",
              "    <tr>\n",
              "      <td>1</td>\n",
              "      <td>2</td>\n",
              "      <td>4081</td>\n",
              "      <td>4</td>\n",
              "    </tr>\n",
              "    <tr>\n",
              "      <td>2</td>\n",
              "      <td>2</td>\n",
              "      <td>260</td>\n",
              "      <td>5</td>\n",
              "    </tr>\n",
              "    <tr>\n",
              "      <td>3</td>\n",
              "      <td>2</td>\n",
              "      <td>9296</td>\n",
              "      <td>5</td>\n",
              "    </tr>\n",
              "    <tr>\n",
              "      <td>4</td>\n",
              "      <td>2</td>\n",
              "      <td>2318</td>\n",
              "      <td>3</td>\n",
              "    </tr>\n",
              "    <tr>\n",
              "      <td>...</td>\n",
              "      <td>...</td>\n",
              "      <td>...</td>\n",
              "      <td>...</td>\n",
              "    </tr>\n",
              "    <tr>\n",
              "      <td>5976474</td>\n",
              "      <td>49925</td>\n",
              "      <td>510</td>\n",
              "      <td>5</td>\n",
              "    </tr>\n",
              "    <tr>\n",
              "      <td>5976475</td>\n",
              "      <td>49925</td>\n",
              "      <td>528</td>\n",
              "      <td>4</td>\n",
              "    </tr>\n",
              "    <tr>\n",
              "      <td>5976476</td>\n",
              "      <td>49925</td>\n",
              "      <td>722</td>\n",
              "      <td>4</td>\n",
              "    </tr>\n",
              "    <tr>\n",
              "      <td>5976477</td>\n",
              "      <td>49925</td>\n",
              "      <td>949</td>\n",
              "      <td>5</td>\n",
              "    </tr>\n",
              "    <tr>\n",
              "      <td>5976478</td>\n",
              "      <td>49925</td>\n",
              "      <td>1023</td>\n",
              "      <td>4</td>\n",
              "    </tr>\n",
              "  </tbody>\n",
              "</table>\n",
              "<p>5976479 rows × 3 columns</p>\n",
              "</div>"
            ],
            "text/plain": [
              "          读者ID  图书ID  评分\n",
              "0            1   258   5\n",
              "1            2  4081   4\n",
              "2            2   260   5\n",
              "3            2  9296   5\n",
              "4            2  2318   3\n",
              "...        ...   ...  ..\n",
              "5976474  49925   510   5\n",
              "5976475  49925   528   4\n",
              "5976476  49925   722   4\n",
              "5976477  49925   949   5\n",
              "5976478  49925  1023   4\n",
              "\n",
              "[5976479 rows x 3 columns]"
            ]
          },
          "execution_count": 16,
          "metadata": {},
          "output_type": "execute_result"
        }
      ],
      "source": [
        "import pandas as pd\n",
        "\n",
        "data=pd.read_csv('rating.txt',header=None,names=['读者ID','图书ID','评分'])\n",
        "data"
      ]
    },
    {
      "cell_type": "code",
      "execution_count": null,
      "id": "75380a7b",
      "metadata": {
        "id": "75380a7b",
        "outputId": "37e86dcb-27b9-4083-f82f-c61656b65866"
      },
      "outputs": [
        {
          "data": {
            "text/html": [
              "<div>\n",
              "<style scoped>\n",
              "    .dataframe tbody tr th:only-of-type {\n",
              "        vertical-align: middle;\n",
              "    }\n",
              "\n",
              "    .dataframe tbody tr th {\n",
              "        vertical-align: top;\n",
              "    }\n",
              "\n",
              "    .dataframe thead th {\n",
              "        text-align: right;\n",
              "    }\n",
              "</style>\n",
              "<table border=\"1\" class=\"dataframe\">\n",
              "  <thead>\n",
              "    <tr style=\"text-align: right;\">\n",
              "      <th></th>\n",
              "      <th>读者ID</th>\n",
              "      <th>图书ID</th>\n",
              "      <th>评分</th>\n",
              "    </tr>\n",
              "  </thead>\n",
              "  <tbody>\n",
              "    <tr>\n",
              "      <td>217482</td>\n",
              "      <td>2886</td>\n",
              "      <td>1</td>\n",
              "      <td>5</td>\n",
              "    </tr>\n",
              "    <tr>\n",
              "      <td>292053</td>\n",
              "      <td>6158</td>\n",
              "      <td>1</td>\n",
              "      <td>5</td>\n",
              "    </tr>\n",
              "    <tr>\n",
              "      <td>292380</td>\n",
              "      <td>3991</td>\n",
              "      <td>1</td>\n",
              "      <td>4</td>\n",
              "    </tr>\n",
              "    <tr>\n",
              "      <td>293265</td>\n",
              "      <td>5281</td>\n",
              "      <td>1</td>\n",
              "      <td>5</td>\n",
              "    </tr>\n",
              "    <tr>\n",
              "      <td>296200</td>\n",
              "      <td>5721</td>\n",
              "      <td>1</td>\n",
              "      <td>5</td>\n",
              "    </tr>\n",
              "    <tr>\n",
              "      <td>...</td>\n",
              "      <td>...</td>\n",
              "      <td>...</td>\n",
              "      <td>...</td>\n",
              "    </tr>\n",
              "    <tr>\n",
              "      <td>5972517</td>\n",
              "      <td>49348</td>\n",
              "      <td>1</td>\n",
              "      <td>4</td>\n",
              "    </tr>\n",
              "    <tr>\n",
              "      <td>5973825</td>\n",
              "      <td>10460</td>\n",
              "      <td>1</td>\n",
              "      <td>4</td>\n",
              "    </tr>\n",
              "    <tr>\n",
              "      <td>5973972</td>\n",
              "      <td>9837</td>\n",
              "      <td>1</td>\n",
              "      <td>4</td>\n",
              "    </tr>\n",
              "    <tr>\n",
              "      <td>5974664</td>\n",
              "      <td>7607</td>\n",
              "      <td>1</td>\n",
              "      <td>5</td>\n",
              "    </tr>\n",
              "    <tr>\n",
              "      <td>5976299</td>\n",
              "      <td>48801</td>\n",
              "      <td>1</td>\n",
              "      <td>5</td>\n",
              "    </tr>\n",
              "  </tbody>\n",
              "</table>\n",
              "<p>22806 rows × 3 columns</p>\n",
              "</div>"
            ],
            "text/plain": [
              "          读者ID  图书ID  评分\n",
              "217482    2886     1   5\n",
              "292053    6158     1   5\n",
              "292380    3991     1   4\n",
              "293265    5281     1   5\n",
              "296200    5721     1   5\n",
              "...        ...   ...  ..\n",
              "5972517  49348     1   4\n",
              "5973825  10460     1   4\n",
              "5973972   9837     1   4\n",
              "5974664   7607     1   5\n",
              "5976299  48801     1   5\n",
              "\n",
              "[22806 rows x 3 columns]"
            ]
          },
          "execution_count": 17,
          "metadata": {},
          "output_type": "execute_result"
        }
      ],
      "source": [
        "data[data['图书ID']==1]"
      ]
    },
    {
      "cell_type": "code",
      "execution_count": 20,
      "id": "d3502c6a",
      "metadata": {
        "id": "d3502c6a",
        "outputId": "0b05fd70-0638-47b5-d787-273212072468",
        "colab": {
          "base_uri": "https://localhost:8080/",
          "height": 458
        }
      },
      "outputs": [
        {
          "output_type": "execute_result",
          "data": {
            "text/plain": [
              "217482     5\n",
              "292053     5\n",
              "292380     4\n",
              "293265     5\n",
              "296200     5\n",
              "          ..\n",
              "5972517    4\n",
              "5973825    4\n",
              "5973972    4\n",
              "5974664    5\n",
              "5976299    5\n",
              "Name: 评分, Length: 22806, dtype: int64"
            ],
            "text/html": [
              "<div>\n",
              "<style scoped>\n",
              "    .dataframe tbody tr th:only-of-type {\n",
              "        vertical-align: middle;\n",
              "    }\n",
              "\n",
              "    .dataframe tbody tr th {\n",
              "        vertical-align: top;\n",
              "    }\n",
              "\n",
              "    .dataframe thead th {\n",
              "        text-align: right;\n",
              "    }\n",
              "</style>\n",
              "<table border=\"1\" class=\"dataframe\">\n",
              "  <thead>\n",
              "    <tr style=\"text-align: right;\">\n",
              "      <th></th>\n",
              "      <th>评分</th>\n",
              "    </tr>\n",
              "  </thead>\n",
              "  <tbody>\n",
              "    <tr>\n",
              "      <th>217482</th>\n",
              "      <td>5</td>\n",
              "    </tr>\n",
              "    <tr>\n",
              "      <th>292053</th>\n",
              "      <td>5</td>\n",
              "    </tr>\n",
              "    <tr>\n",
              "      <th>292380</th>\n",
              "      <td>4</td>\n",
              "    </tr>\n",
              "    <tr>\n",
              "      <th>293265</th>\n",
              "      <td>5</td>\n",
              "    </tr>\n",
              "    <tr>\n",
              "      <th>296200</th>\n",
              "      <td>5</td>\n",
              "    </tr>\n",
              "    <tr>\n",
              "      <th>...</th>\n",
              "      <td>...</td>\n",
              "    </tr>\n",
              "    <tr>\n",
              "      <th>5972517</th>\n",
              "      <td>4</td>\n",
              "    </tr>\n",
              "    <tr>\n",
              "      <th>5973825</th>\n",
              "      <td>4</td>\n",
              "    </tr>\n",
              "    <tr>\n",
              "      <th>5973972</th>\n",
              "      <td>4</td>\n",
              "    </tr>\n",
              "    <tr>\n",
              "      <th>5974664</th>\n",
              "      <td>5</td>\n",
              "    </tr>\n",
              "    <tr>\n",
              "      <th>5976299</th>\n",
              "      <td>5</td>\n",
              "    </tr>\n",
              "  </tbody>\n",
              "</table>\n",
              "<p>22806 rows × 1 columns</p>\n",
              "</div><br><label><b>dtype:</b> int64</label>"
            ]
          },
          "metadata": {},
          "execution_count": 20
        }
      ],
      "source": [
        "data[data['图书ID']==1]['评分']"
      ]
    },
    {
      "cell_type": "code",
      "execution_count": 21,
      "id": "a9b4201c",
      "metadata": {
        "id": "a9b4201c",
        "outputId": "07887700-4670-47d0-8709-413be5acf061",
        "colab": {
          "base_uri": "https://localhost:8080/",
          "height": 272
        }
      },
      "outputs": [
        {
          "output_type": "execute_result",
          "data": {
            "text/plain": [
              "评分\n",
              "5    11357\n",
              "4     7569\n",
              "3     3013\n",
              "2      636\n",
              "1      231\n",
              "Name: count, dtype: int64"
            ],
            "text/html": [
              "<div>\n",
              "<style scoped>\n",
              "    .dataframe tbody tr th:only-of-type {\n",
              "        vertical-align: middle;\n",
              "    }\n",
              "\n",
              "    .dataframe tbody tr th {\n",
              "        vertical-align: top;\n",
              "    }\n",
              "\n",
              "    .dataframe thead th {\n",
              "        text-align: right;\n",
              "    }\n",
              "</style>\n",
              "<table border=\"1\" class=\"dataframe\">\n",
              "  <thead>\n",
              "    <tr style=\"text-align: right;\">\n",
              "      <th></th>\n",
              "      <th>count</th>\n",
              "    </tr>\n",
              "    <tr>\n",
              "      <th>评分</th>\n",
              "      <th></th>\n",
              "    </tr>\n",
              "  </thead>\n",
              "  <tbody>\n",
              "    <tr>\n",
              "      <th>5</th>\n",
              "      <td>11357</td>\n",
              "    </tr>\n",
              "    <tr>\n",
              "      <th>4</th>\n",
              "      <td>7569</td>\n",
              "    </tr>\n",
              "    <tr>\n",
              "      <th>3</th>\n",
              "      <td>3013</td>\n",
              "    </tr>\n",
              "    <tr>\n",
              "      <th>2</th>\n",
              "      <td>636</td>\n",
              "    </tr>\n",
              "    <tr>\n",
              "      <th>1</th>\n",
              "      <td>231</td>\n",
              "    </tr>\n",
              "  </tbody>\n",
              "</table>\n",
              "</div><br><label><b>dtype:</b> int64</label>"
            ]
          },
          "metadata": {},
          "execution_count": 21
        }
      ],
      "source": [
        "data[data['图书ID']==1]['评分'].value_counts()"
      ]
    },
    {
      "cell_type": "code",
      "execution_count": 22,
      "id": "05362f79",
      "metadata": {
        "id": "05362f79",
        "outputId": "6ddd9031-3835-45f8-f4d3-1c65f399b915",
        "colab": {
          "base_uri": "https://localhost:8080/"
        }
      },
      "outputs": [
        {
          "output_type": "execute_result",
          "data": {
            "text/plain": [
              "np.int64(22806)"
            ]
          },
          "metadata": {},
          "execution_count": 22
        }
      ],
      "source": [
        "data[data['图书ID']==1]['评分'].value_counts().sum()"
      ]
    },
    {
      "cell_type": "code",
      "execution_count": 23,
      "id": "88d4271c",
      "metadata": {
        "id": "88d4271c",
        "outputId": "179e5afc-423c-4ab4-eb3f-7a73cd7717c7",
        "colab": {
          "base_uri": "https://localhost:8080/",
          "height": 272
        }
      },
      "outputs": [
        {
          "output_type": "execute_result",
          "data": {
            "text/plain": [
              "评分\n",
              "5    0.497983\n",
              "4    0.331886\n",
              "3    0.132114\n",
              "2    0.027887\n",
              "1    0.010129\n",
              "Name: count, dtype: float64"
            ],
            "text/html": [
              "<div>\n",
              "<style scoped>\n",
              "    .dataframe tbody tr th:only-of-type {\n",
              "        vertical-align: middle;\n",
              "    }\n",
              "\n",
              "    .dataframe tbody tr th {\n",
              "        vertical-align: top;\n",
              "    }\n",
              "\n",
              "    .dataframe thead th {\n",
              "        text-align: right;\n",
              "    }\n",
              "</style>\n",
              "<table border=\"1\" class=\"dataframe\">\n",
              "  <thead>\n",
              "    <tr style=\"text-align: right;\">\n",
              "      <th></th>\n",
              "      <th>count</th>\n",
              "    </tr>\n",
              "    <tr>\n",
              "      <th>评分</th>\n",
              "      <th></th>\n",
              "    </tr>\n",
              "  </thead>\n",
              "  <tbody>\n",
              "    <tr>\n",
              "      <th>5</th>\n",
              "      <td>0.497983</td>\n",
              "    </tr>\n",
              "    <tr>\n",
              "      <th>4</th>\n",
              "      <td>0.331886</td>\n",
              "    </tr>\n",
              "    <tr>\n",
              "      <th>3</th>\n",
              "      <td>0.132114</td>\n",
              "    </tr>\n",
              "    <tr>\n",
              "      <th>2</th>\n",
              "      <td>0.027887</td>\n",
              "    </tr>\n",
              "    <tr>\n",
              "      <th>1</th>\n",
              "      <td>0.010129</td>\n",
              "    </tr>\n",
              "  </tbody>\n",
              "</table>\n",
              "</div><br><label><b>dtype:</b> float64</label>"
            ]
          },
          "metadata": {},
          "execution_count": 23
        }
      ],
      "source": [
        "data[data['图书ID']==1]['评分'].value_counts()/data[data['图书ID']==1]['评分'].value_counts().sum()"
      ]
    },
    {
      "cell_type": "code",
      "execution_count": 24,
      "id": "1b038d41",
      "metadata": {
        "id": "1b038d41",
        "outputId": "96ec6313-9484-49e0-ade2-2757146560f0",
        "colab": {
          "base_uri": "https://localhost:8080/",
          "height": 424
        }
      },
      "outputs": [
        {
          "output_type": "execute_result",
          "data": {
            "text/plain": [
              "<Axes: ylabel='count'>"
            ]
          },
          "metadata": {},
          "execution_count": 24
        },
        {
          "output_type": "display_data",
          "data": {
            "text/plain": [
              "<Figure size 640x480 with 1 Axes>"
            ],
            "image/png": "[encoded data removed]"
          },
          "metadata": {}
        }
      ],
      "source": [
        "s=data[data['图书ID']==1]['评分'].value_counts()/data[data['图书ID']==1]['评分'].value_counts().sum()\n",
        "s.plot(kind='pie')"
      ]
    },
    {
      "cell_type": "markdown",
      "id": "e29cc0b0",
      "metadata": {
        "id": "e29cc0b0"
      },
      "source": [
        "###  完善应用程序（统计任意指定图书评分的分布情况）"
      ]
    },
    {
      "cell_type": "code",
      "execution_count": 25,
      "id": "8e44da35",
      "metadata": {
        "id": "8e44da35",
        "outputId": "f2596ce9-b54f-470e-8f62-14b64aa855d1",
        "colab": {
          "base_uri": "https://localhost:8080/"
        }
      },
      "outputs": [
        {
          "output_type": "execute_result",
          "data": {
            "text/plain": [
              "array([ 258, 4081,  260, ..., 9580, 8892, 9548])"
            ]
          },
          "metadata": {},
          "execution_count": 25
        }
      ],
      "source": [
        "data['图书ID'].unique()"
      ]
    },
    {
      "cell_type": "code",
      "execution_count": 26,
      "id": "49ad9d7a",
      "metadata": {
        "id": "49ad9d7a",
        "outputId": "275b4d1c-76f5-46fa-f15b-23023db059c4",
        "colab": {
          "base_uri": "https://localhost:8080/",
          "height": 458
        }
      },
      "outputs": [
        {
          "output_type": "execute_result",
          "data": {
            "text/plain": [
              "0        258\n",
              "1       4081\n",
              "2        260\n",
              "3       9296\n",
              "4       2318\n",
              "        ... \n",
              "9995    3885\n",
              "9996    9569\n",
              "9997    9580\n",
              "9998    8892\n",
              "9999    9548\n",
              "Length: 10000, dtype: int64"
            ],
            "text/html": [
              "<div>\n",
              "<style scoped>\n",
              "    .dataframe tbody tr th:only-of-type {\n",
              "        vertical-align: middle;\n",
              "    }\n",
              "\n",
              "    .dataframe tbody tr th {\n",
              "        vertical-align: top;\n",
              "    }\n",
              "\n",
              "    .dataframe thead th {\n",
              "        text-align: right;\n",
              "    }\n",
              "</style>\n",
              "<table border=\"1\" class=\"dataframe\">\n",
              "  <thead>\n",
              "    <tr style=\"text-align: right;\">\n",
              "      <th></th>\n",
              "      <th>0</th>\n",
              "    </tr>\n",
              "  </thead>\n",
              "  <tbody>\n",
              "    <tr>\n",
              "      <th>0</th>\n",
              "      <td>258</td>\n",
              "    </tr>\n",
              "    <tr>\n",
              "      <th>1</th>\n",
              "      <td>4081</td>\n",
              "    </tr>\n",
              "    <tr>\n",
              "      <th>2</th>\n",
              "      <td>260</td>\n",
              "    </tr>\n",
              "    <tr>\n",
              "      <th>3</th>\n",
              "      <td>9296</td>\n",
              "    </tr>\n",
              "    <tr>\n",
              "      <th>4</th>\n",
              "      <td>2318</td>\n",
              "    </tr>\n",
              "    <tr>\n",
              "      <th>...</th>\n",
              "      <td>...</td>\n",
              "    </tr>\n",
              "    <tr>\n",
              "      <th>9995</th>\n",
              "      <td>3885</td>\n",
              "    </tr>\n",
              "    <tr>\n",
              "      <th>9996</th>\n",
              "      <td>9569</td>\n",
              "    </tr>\n",
              "    <tr>\n",
              "      <th>9997</th>\n",
              "      <td>9580</td>\n",
              "    </tr>\n",
              "    <tr>\n",
              "      <th>9998</th>\n",
              "      <td>8892</td>\n",
              "    </tr>\n",
              "    <tr>\n",
              "      <th>9999</th>\n",
              "      <td>9548</td>\n",
              "    </tr>\n",
              "  </tbody>\n",
              "</table>\n",
              "<p>10000 rows × 1 columns</p>\n",
              "</div><br><label><b>dtype:</b> int64</label>"
            ]
          },
          "metadata": {},
          "execution_count": 26
        }
      ],
      "source": [
        "pd.Series(data['图书ID'].unique())"
      ]
    },
    {
      "cell_type": "code",
      "execution_count": 27,
      "id": "076d2009",
      "metadata": {
        "id": "076d2009",
        "outputId": "2fd4e9bf-88f5-4c42-f431-fa34f57605ae",
        "colab": {
          "base_uri": "https://localhost:8080/",
          "height": 458
        }
      },
      "outputs": [
        {
          "output_type": "execute_result",
          "data": {
            "text/plain": [
              "5694        1\n",
              "18          2\n",
              "2595        3\n",
              "161         4\n",
              "32          5\n",
              "        ...  \n",
              "7074     9996\n",
              "4675     9997\n",
              "1218     9998\n",
              "7340     9999\n",
              "3398    10000\n",
              "Length: 10000, dtype: int64"
            ],
            "text/html": [
              "<div>\n",
              "<style scoped>\n",
              "    .dataframe tbody tr th:only-of-type {\n",
              "        vertical-align: middle;\n",
              "    }\n",
              "\n",
              "    .dataframe tbody tr th {\n",
              "        vertical-align: top;\n",
              "    }\n",
              "\n",
              "    .dataframe thead th {\n",
              "        text-align: right;\n",
              "    }\n",
              "</style>\n",
              "<table border=\"1\" class=\"dataframe\">\n",
              "  <thead>\n",
              "    <tr style=\"text-align: right;\">\n",
              "      <th></th>\n",
              "      <th>0</th>\n",
              "    </tr>\n",
              "  </thead>\n",
              "  <tbody>\n",
              "    <tr>\n",
              "      <th>5694</th>\n",
              "      <td>1</td>\n",
              "    </tr>\n",
              "    <tr>\n",
              "      <th>18</th>\n",
              "      <td>2</td>\n",
              "    </tr>\n",
              "    <tr>\n",
              "      <th>2595</th>\n",
              "      <td>3</td>\n",
              "    </tr>\n",
              "    <tr>\n",
              "      <th>161</th>\n",
              "      <td>4</td>\n",
              "    </tr>\n",
              "    <tr>\n",
              "      <th>32</th>\n",
              "      <td>5</td>\n",
              "    </tr>\n",
              "    <tr>\n",
              "      <th>...</th>\n",
              "      <td>...</td>\n",
              "    </tr>\n",
              "    <tr>\n",
              "      <th>7074</th>\n",
              "      <td>9996</td>\n",
              "    </tr>\n",
              "    <tr>\n",
              "      <th>4675</th>\n",
              "      <td>9997</td>\n",
              "    </tr>\n",
              "    <tr>\n",
              "      <th>1218</th>\n",
              "      <td>9998</td>\n",
              "    </tr>\n",
              "    <tr>\n",
              "      <th>7340</th>\n",
              "      <td>9999</td>\n",
              "    </tr>\n",
              "    <tr>\n",
              "      <th>3398</th>\n",
              "      <td>10000</td>\n",
              "    </tr>\n",
              "  </tbody>\n",
              "</table>\n",
              "<p>10000 rows × 1 columns</p>\n",
              "</div><br><label><b>dtype:</b> int64</label>"
            ]
          },
          "metadata": {},
          "execution_count": 27
        }
      ],
      "source": [
        "pd.Series(data['图书ID'].unique()).sort_values()"
      ]
    },
    {
      "cell_type": "markdown",
      "id": "65fbd867",
      "metadata": {
        "id": "65fbd867"
      },
      "source": [
        "### 完整代码："
      ]
    },
    {
      "cell_type": "code",
      "execution_count": 28,
      "id": "0a0731b4",
      "metadata": {
        "scrolled": true,
        "id": "0a0731b4",
        "outputId": "0006b274-7448-4b39-9da5-3dd237e0d5d6",
        "colab": {
          "base_uri": "https://localhost:8080/",
          "height": 442
        }
      },
      "outputs": [
        {
          "name": "stdout",
          "output_type": "stream",
          "text": [
            "请输入你要查看评分信息的图书编号（1-10000）：666\n"
          ]
        },
        {
          "output_type": "execute_result",
          "data": {
            "text/plain": [
              "<Axes: ylabel='count'>"
            ]
          },
          "metadata": {},
          "execution_count": 28
        },
        {
          "output_type": "display_data",
          "data": {
            "text/plain": [
              "<Figure size 640x480 with 1 Axes>"
            ],
            "image/png": "[encoded data removed]"
          },
          "metadata": {}
        }
      ],
      "source": [
        "import pandas as pd\n",
        "\n",
        "data=pd.read_csv('rating.txt',header=None,names=['读者ID','图书ID','评分'])\n",
        "id=int(input('请输入你要查看评分信息的图书编号（1-10000）：'))\n",
        "s=data[data['图书ID']==id]['评分'].value_counts()/data[data['图书ID']==id]['评分'].value_counts().sum()\n",
        "s.plot(kind='pie')"
      ]
    },
    {
      "cell_type": "markdown",
      "id": "f5c80059",
      "metadata": {
        "id": "f5c80059"
      },
      "source": [
        "### 思考：进一步完善应用（使用Streamlit实现可视化界面）"
      ]
    }
  ],
  "metadata": {
    "kernelspec": {
      "display_name": "Python 3 (ipykernel)",
      "language": "python",
      "name": "python3"
    },
    "language_info": {
      "codemirror_mode": {
        "name": "ipython",
        "version": 3
      },
      "file_extension": ".py",
      "mimetype": "text/x-python",
      "name": "python",
      "nbconvert_exporter": "python",
      "pygments_lexer": "ipython3",
      "version": "3.11.5"
    },
    "colab": {
      "provenance": []
    }
  },
  "nbformat": 4,
  "nbformat_minor": 5
}